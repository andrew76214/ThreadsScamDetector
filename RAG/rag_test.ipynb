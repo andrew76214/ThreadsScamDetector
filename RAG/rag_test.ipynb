{
 "cells": [
  {
   "cell_type": "code",
   "execution_count": 1,
   "metadata": {},
   "outputs": [],
   "source": [
    "# !pip install langchain\n",
    "# !pip install langchain_core\n",
    "# !pip install langchain_ollama\n",
    "# !pip install langchain_huggingface\n",
    "# !pip install prompt"
   ]
  },
  {
   "cell_type": "code",
   "execution_count": 2,
   "metadata": {},
   "outputs": [],
   "source": [
    "from langchain_core.messages import AIMessage, BaseMessage, HumanMessage\n",
    "from langchain_core.prompts import ChatPromptTemplate, MessagesPlaceholder\n",
    "from langchain_ollama import ChatOllama"
   ]
  },
  {
   "cell_type": "code",
   "execution_count": null,
   "metadata": {},
   "outputs": [],
   "source": [
    "# import getpass\n",
    "# import os\n",
    "\n",
    "# def _set_if_undefined(var: str) -> None:\n",
    "#     if os.environ.get(var):\n",
    "#         return\n",
    "#     os.environ[var] = getpass.getpass(var)\n",
    "\n",
    "\n",
    "# _set_if_undefined(\"TAVILY_API_KEY\")\n",
    "# # _set_if_undefined(\"FIREWORKS_API_KEY\")"
   ]
  },
  {
   "cell_type": "markdown",
   "metadata": {},
   "source": [
    "### 設定 `llm`"
   ]
  },
  {
   "cell_type": "code",
   "execution_count": 4,
   "metadata": {},
   "outputs": [
    {
     "name": "stdout",
     "output_type": "stream",
     "text": [
      "NAME                   ID              SIZE      MODIFIED     \n",
      "llava:34b              3d2d24f46674    20 GB     7 days ago      \n",
      "minicpm-v:latest       c92bfad01205    5.5 GB    7 days ago      \n",
      "deepseek-r1:32b        38056bbcbb2d    19 GB     8 days ago      \n",
      "gemma3:27b             30ddded7fba6    17 GB     8 days ago      \n",
      "llama3.2-vision:90b    d2a5e64c56a9    54 GB     9 days ago      \n",
      "qwq:latest             cc1091b0e276    19 GB     11 days ago     \n",
      "deepseek-r1:70b        0c1615a8ca32    42 GB     11 days ago     \n",
      "llama3.3:latest        a6eb4748fd29    42 GB     2 months ago    \n"
     ]
    }
   ],
   "source": [
    "!ollama list"
   ]
  },
  {
   "cell_type": "code",
   "execution_count": 5,
   "metadata": {},
   "outputs": [],
   "source": [
    "llm = ChatOllama(\n",
    "    model=\"llama3.3:latest\",\n",
    "    temperature=0,\n",
    "    # other params...\n",
    ")"
   ]
  },
  {
   "cell_type": "markdown",
   "metadata": {},
   "source": [
    "### 設定 `embeddings` 與 `vector_store`"
   ]
  },
  {
   "cell_type": "code",
   "execution_count": 6,
   "metadata": {},
   "outputs": [],
   "source": [
    "from langchain_huggingface import HuggingFaceEmbeddings\n",
    "\n",
    "embeddings = HuggingFaceEmbeddings(model_name=\"sentence-transformers/all-mpnet-base-v2\")"
   ]
  },
  {
   "cell_type": "code",
   "execution_count": 7,
   "metadata": {},
   "outputs": [],
   "source": [
    "from langchain_core.vectorstores import InMemoryVectorStore\n",
    "\n",
    "vector_store = InMemoryVectorStore(embeddings)"
   ]
  },
  {
   "cell_type": "markdown",
   "metadata": {},
   "source": [
    "### 建立資料來源 `doc`"
   ]
  },
  {
   "cell_type": "code",
   "execution_count": 8,
   "metadata": {},
   "outputs": [
    {
     "name": "stdout",
     "output_type": "stream",
     "text": [
      "200\n",
      "<!DOCTYPE html>\n",
      "<html lang=\"dev\" data-themeable=\"true\">\n",
      "\n",
      "<head>\n",
      "    <meta charset=\"utf-8\">\n",
      "    <meta\n"
     ]
    }
   ],
   "source": [
    "import requests\n",
    "response = requests.get(\"https://hackmd.io/@IizmYTUETE2C0DpZ8K_zUw/HyO0B3Yh1l\")\n",
    "print(response.status_code)\n",
    "print(response.text[:100])  # 只顯示部分內容確認是否成功抓取\n"
   ]
  },
  {
   "cell_type": "code",
   "execution_count": 9,
   "metadata": {},
   "outputs": [
    {
     "name": "stderr",
     "output_type": "stream",
     "text": [
      "USER_AGENT environment variable not set, consider setting it to identify your requests.\n"
     ]
    },
    {
     "name": "stdout",
     "output_type": "stream",
     "text": [
      "Total characters: 2941\n"
     ]
    }
   ],
   "source": [
    "import bs4\n",
    "from langchain_community.document_loaders import WebBaseLoader\n",
    "\n",
    "# Only keep post title, headers, and content from the full HTML.\n",
    "bs4_strainer = bs4.SoupStrainer(id=\"publish-page\")\n",
    "loader = WebBaseLoader(\n",
    "    web_paths=(\"https://hackmd.io/@IizmYTUETE2C0DpZ8K_zUw/HyO0B3Yh1l\",),\n",
    "    bs_kwargs={\"parse_only\": bs4_strainer},\n",
    ")\n",
    "docs = loader.load()\n",
    "\n",
    "assert len(docs) == 1\n",
    "print(f\"Total characters: {len(docs[0].page_content)}\")"
   ]
  },
  {
   "cell_type": "code",
   "execution_count": 10,
   "metadata": {},
   "outputs": [
    {
     "name": "stdout",
     "output_type": "stream",
     "text": [
      "# 詐騙判斷準則\n",
      "\n",
      "\n",
      "## 詐騙準則種類一:賭博、博弈\n",
      "### 關鍵字:娛樂城、百家樂、運彩\n",
      "**娛樂城**\n",
      "- 非詐騙類型(label = 0)：\n",
      "1. 要求推薦平台或代理，沒有誘導之意的貼文。\n",
      "2\n"
     ]
    }
   ],
   "source": [
    "print(docs[0].page_content[:100])"
   ]
  },
  {
   "cell_type": "code",
   "execution_count": 11,
   "metadata": {},
   "outputs": [
    {
     "name": "stdout",
     "output_type": "stream",
     "text": [
      "Split blog post into 8 sub-documents.\n"
     ]
    }
   ],
   "source": [
    "from langchain_text_splitters import RecursiveCharacterTextSplitter\n",
    "\n",
    "text_splitter = RecursiveCharacterTextSplitter(\n",
    "    chunk_size=500,  # chunk size (characters)\n",
    "    chunk_overlap=100,  # chunk overlap (characters)\n",
    "    add_start_index=True,  # track index in original document\n",
    ")\n",
    "all_splits = text_splitter.split_documents(docs)\n",
    "\n",
    "print(f\"Split blog post into {len(all_splits)} sub-documents.\")"
   ]
  },
  {
   "cell_type": "code",
   "execution_count": 12,
   "metadata": {},
   "outputs": [
    {
     "name": "stdout",
     "output_type": "stream",
     "text": [
      "原始文章拆分為 8 個子文件。\n",
      "\n",
      "第1個子文件預覽:\n",
      "# 詐騙判斷準則\n",
      "\n",
      "\n",
      "## 詐騙準則種類一:賭博、博弈\n",
      "### 關鍵字:娛樂城、百家樂、運彩\n",
      "**娛樂城**\n",
      "- 非詐騙類型(label = 0)：\n",
      "1. 要求推薦平台或代理，沒有誘導之意的貼文。\n",
      "2. 抱怨、咒罵娛樂城、百家樂之詐騙詐欺行為的貼文。\n",
      "3. 分享戰積、知識或自己對於娛樂城百家樂之想法的貼文。\n",
      "4. 單純詢問有關娛樂城與百家樂的問題，無誘導他人傾向之貼文。\n",
      "- 詐騙類型(label = 1):\n",
      "1. 推薦他人平台或代理，並給予不合理之條件，像是免費給錢、註冊金等，判定為詐騙。\n",
      "2. 剛創立的帳號，並且過多相同的複製文，判定為詐騙。\n",
      "\n",
      "**百家樂**\n",
      "基本和上述條件差不多，只是多了專有名詞：救紅，指的是玩家虧錢，找人來代理操作，試圖少虧或盈利。\n",
      "- 非詐騙類型(label = 0):\n",
      "1. 單純尋找救紅，可能會提到一些條件，但無欺騙他人之意的貼文\n",
      "- 詐騙類型(label = 1):\n",
      "1. 推薦救紅的代理，或自薦，並給予不合理之保證或條件，判定為詐騙。\n",
      "\n",
      "第2個子文件預覽:\n",
      "**運彩**\n",
      "- 非詐騙類型(label = 0):\n",
      "1. 單純分享運彩賺錢、虧錢、知識，無誘導之意圖的貼文。\n",
      "2. 單純的運彩分析，無誘導他人加入群組或入金之意圖的貼文。\n",
      "3. 單純詢問問題，無誘導他人之傾向的貼文。\n",
      "- 詐騙類型(label = 1):\n",
      "1. 意圖誘導他人加入群組，或像老師求教的貼文。\n",
      "2. 過高且不合理的運彩勝率，並有誘使他人入金或加入群組的貼文。\n",
      "3. 剛創立的帳號，並且過多相同的複製文，判定為詐騙。\n",
      "\n",
      "第3個子文件預覽:\n",
      "## 詐騙準則種類二:投資\n",
      "### 關鍵字:投資、股票、加密貨幣\n",
      "**投資**\n",
      "- 非詐騙類型(label = 0):\n",
      "1. 單純分享投資消息或投資知識的貼文，例如個股投資進場退場、加密貨幣投資進場退場。\n",
      "2. 單純分享自己投資賺賠的貼文，無誘導加入群組、追蹤IG(不一定)或投資之意圖。\n",
      "3. 詢問問題，無誘導的意圖之貼文。\n",
      "- 詐騙類型(label = 1):\n",
      "1. 有誘導他人進場之意圖的貼文，例如:明天台積電一定跌，趕快進場、**內部消息**...\n",
      "2. 用不合理或誇大(穩賺不賠、零風險)等字眼誘導他人跟隨進場、加入群組、追蹤IG的貼文。\n",
      "3. 推薦或自薦老師，誇大獲利以誘使他人跟隨的貼文。\n",
      "\n",
      "**股票**\n",
      "大致可用上面投資的邏輯\n",
      "- 非詐騙類型(label = 0):\n",
      "1. 單純推薦個股，無誘導之意圖的貼文，追蹤IG不是一定是詐騙，要判斷一下。\n",
      "- 詐騙類型(label = 1):\n",
      "1. 過大的獲利金額，可能也是誘導進場的訊息，點進去看看再判斷\n",
      "2. 模板化的貼文(看起來會像推薦個股，但格式都相差無幾，缺乏個人特色)、成立時間短的帳號\n",
      "3. 追蹤IG且IG帳號甚麼都沒有\n",
      "\n",
      "第4個子文件預覽:\n",
      "**加密貨幣**\n",
      "大致可用上面投資的邏輯\n",
      "- 非詐騙類型(label = 0):\n",
      "1. 反串偏多，小心判斷，傳一個搞笑的(開始做加密貨幣到現在五年\\n房子越換越大\\n原本都睡10幾坪的小公寓\\n現在我家應該有幾千坪了\\n就是知名地標大建案\\n在台北很有名的\\n真舒服\\n有興趣的可以來我家\\nGoogle找大安森林公園\")\n",
      "- 詐騙類型(label = 1):\n",
      "1. 贈送金錢為理由的誘導他人加入平台或群組的貼文。\n",
      "\n",
      "\n",
      "**其他**\n",
      "1. 已刪除貼文：內文無法判定不是詐騙且有留言數，一律以帳號進行綜合判斷。\n",
      "2. 日文：以Threads內建翻譯為準\n",
      "3. 已刪除帳號：內文有嫌疑就標1\n",
      "\n",
      "## 詐騙準則種類三：工作詐騙（work scam）\n",
      "### 關鍵字：招聘、高薪兼職、月入十萬\n",
      "\n",
      "第5個子文件預覽:\n",
      "## 詐騙準則種類三：工作詐騙（work scam）\n",
      "### 關鍵字：招聘、高薪兼職、月入十萬\n",
      "\n",
      "**招聘**\n",
      "- 非詐騙類型（label = 0）\n",
      "1. 一般求職與職場討論：單純詢問或討論職缺資訊，無誇大或誘導行為的貼文。\n",
      "2. 職場經驗分享：分享自身求職或工作的經驗，無明顯的詐騙特徵。\n",
      "3. 有明確的公司名稱與應徵方式：提供公司名稱、應徵管道（如官網、求職平台），符合一般應聘流程。\n",
      "- 詐騙類型（label = 1）\n",
      "1. 薪資過高且資訊不清：「新人無經驗月入十萬」、「不用面試直接錄取」等不合理條件。\n",
      "2. 未提供明確的工作內容、地點或薪資發放方式。\n",
      "4. 無具名或個人聯絡方式：沒有公司名稱，或只提供 LINE ID、微信、私人通訊方式。\n",
      "5. 未提供正式的應徵管道（如公司官網、求職平台）\n",
      "6. 新帳號且大量重複貼文：剛創立的新帳號，在各社群發布相同內容的貼文，疑似詐騙。\n",
      "\n",
      "第6個子文件預覽:\n",
      "**高薪兼職**\n",
      "- 非詐騙類型（label = 0）\n",
      "1. 一般兼職討論：分享兼職經驗、兼職心得，或單純詢問兼職相關問題。\n",
      "2. 明確的兼職條件：貼文包含工作地點、工作內容、薪資標準、發薪方式，資訊透明。\n",
      "- 詐騙類型（label = 1）\n",
      "1. 誇張的薪資承諾：「在家兼職月入三萬」、「斜槓自由排班穩賺不賠」、「零成本高收入」等不合理描述。\n",
      "3. 不明兼職內容：只說「輕鬆賺大錢」但沒有具體工作內容的貼文。\n",
      "4. 缺乏正規應徵管道：沒有公司資訊，只提供個人聯絡方式，如 LINE、WhatsApp。\n",
      "5. 模板文:「在家兼職做PT還比正職高薪…\\n兼職一個月在家就能領50000」\n",
      "6. 薪資過高\n",
      "\n",
      "第7個子文件預覽:\n",
      "**月入十萬**\n",
      "- 非詐騙類型（label = 0）\n",
      "1. 真實的高薪職業分享：如工程師、醫生、企業管理等高薪職業的經驗分享，無誇大敘述。\n",
      "2. 成功案例分享：貼文詳細描述工作過程與挑戰，而不只是強調收入。\n",
      "- 詐騙類型（label = 1）\n",
      "1. 不合理的高薪：「零經驗月入十萬」、「人人可做、無門檻」等不可信承諾。\n",
      "2. 推銷加盟、投資、直銷：以「想一起賺大錢嗎？」引誘他人加入，或要求先付款。\n",
      "\n",
      "\n",
      "## 詐騙準則種類四：感情詐騙（emotional dating scam）\n",
      "### 關鍵字 徵男友、徵女友、約炮\n",
      "\n",
      "**徵男友、徵女友**\n",
      "- 非詐騙類型（label = 0）\n",
      "1. 一般交友貼文：真實想找對象的交友貼文，內容具有個人特色，非模板文。\n",
      "2. 明確交友動機：貼文有介紹自己，例如興趣、個性，而非單純「爭男友/女友」。\n",
      "3. 反串內容：如果貼文內容明顯為反串（例如過度浮誇但帶有戲謔語氣），則不判定為詐騙。\n",
      "\n",
      "第8個子文件預覽:\n",
      "- 詐騙類型（label = 1）\n",
      "5. 內容空泛，無個人資訊：只寫「徵男友/女友」或「想找人陪」，無詳細個人介紹。\n",
      "6. 主動要求加 LINE 或私訊：貼文要求「有興趣加賴」、「私訊我」，試圖轉移對話至私訊平台。\n",
      "7. 新帳號+大量重複貼文：剛創立的帳號，且在不同社群頻繁發佈相同內容的貼文。\n",
      "\n",
      "**約炮**\n",
      "- 非詐騙類型（label = 0）\n",
      "1. 開放式討論：對約會文化、開放式關係的討論，而非單純誘導私訊。\n",
      "2. 個人經驗分享：分享自己的感情經歷，而非刻意引導他人聯絡。\n",
      "- 詐騙類型（label = 1）\n",
      "1. 誘導加 LINE 或提供聯絡方式：「想認識私訊」、「加賴聊聊」等明顯引導私訊的行為。\n",
      "2. 假照片、假帳號：使用過度美化的圖片、明星照片，或帳號內無真實個人資訊。\n",
      "3. 可能為性交易或詐騙：可能後續誘導金錢交易，或是釣魚詐騙行為。\n"
     ]
    }
   ],
   "source": [
    "print(f\"原始文章拆分為 {len(all_splits)} 個子文件。\")\n",
    "\n",
    "for i in range(len(all_splits)):\n",
    "    print(f\"\\n第{i+1}個子文件預覽:\\n{all_splits[i].page_content}\")"
   ]
  },
  {
   "cell_type": "code",
   "execution_count": 13,
   "metadata": {},
   "outputs": [
    {
     "name": "stdout",
     "output_type": "stream",
     "text": [
      "['a8ae346b-ee4e-45e3-93df-839f9fa0e926', '20fe8377-3201-4d96-afcc-2afd66eced49', '15718d58-f69e-4898-bd76-32f15e8a5c87']\n"
     ]
    }
   ],
   "source": [
    "document_ids = vector_store.add_documents(documents=all_splits)\n",
    "\n",
    "print(document_ids[:3])"
   ]
  },
  {
   "cell_type": "markdown",
   "metadata": {},
   "source": [
    "### 選則問答模型\n",
    "\n",
    "1. **BERT (Bidirectional Encoder Representations from Transformers)**  \n",
    "   - `bert-base-uncased`：適用於各種問答任務，基於大規模語料訓練，無區分大小寫。\n",
    "   - `bert-large-uncased`：比 `bert-base` 更大，精度更高，但運行速度較慢。\n",
    "   - `bert-base-cased`：適用於區分大小寫的語言處理任務。\n",
    "   \n",
    "2. **DistilBERT (BERT 的輕量化版)**  \n",
    "   - `distilbert-base-cased`：BERT 的壓縮版，速度更快，內存使用更少，適合需要高效運行的場景。\n",
    "   - `distilbert-base-uncased`：無區分大小寫的輕量版，運行更快。\n",
    "\n",
    "3. **RoBERTa (Robustly Optimized BERT Approach)**  \n",
    "   - `roberta-base`：BERT 的變體，經過更多訓練數據的調整，通常能提供更好的表現。\n",
    "   - `roberta-large`：更大的 RoBERTa 模型，適合高精度需求。\n",
    "\n",
    "4. **ALBERT (A Lite BERT)**  \n",
    "   - `albert-base-v2`：ALBERT 是一種比 BERT 更小巧、更高效的模型，尤其適合資源有限的情況。\n",
    "\n",
    "5. **T5 (Text-to-Text Transfer Transformer)**  \n",
    "   - `t5-small`：小型版本，適合快速試驗。\n",
    "   - `t5-base`：中等版本，適用於大多數任務。\n",
    "   - `t5-large`：較大版本，精度更高。\n",
    "\n",
    "6. **BART (Bidirectional and Auto-Regressive Transformers)**  \n",
    "   - `facebook/bart-large`：Facebook 開發的 BART 模型，適用於問答、文本生成等任務，表現非常好。\n",
    "   - `facebook/bart-large-cnn`：經過針對抽取式總結訓練的 BART 模型，也適用於問答。\n",
    "\n",
    "7. **XLNet**  \n",
    "   - `xlnet-base-cased`：XLNet 是一個基於 Transformer 的語言模型，能夠處理更長的上下文信息。\n",
    "\n",
    "8. **ELECTRA**  \n",
    "   - `google/electra-base-discriminator`：ELECTRA 模型與 BERT 類似，但它的預訓練方法有所不同，通常在較小的數據集上表現更好。\n",
    "\n",
    "9. **T5 和 BART 的其他變體**  \n",
    "   - `google/t5-v1_1-base`：T5 模型的一個變體，適用於問答和生成任務。\n",
    "   - `facebook/bart-large-mnli`：針對自然語言推理（NLI）訓練的 BART 版本，但也可用於問答。\n",
    "\n",
    "10. **Longformer**  \n",
    "   - `allenai/longformer-base-4096`：Longformer 是一種設計來處理長文本的模型，適用於大規模文檔的問答和摘要。\n",
    "\n",
    "11. **DistilBERT for SQuAD**  \n",
    "   - `distilbert-base-cased-distilled-squad`：DistilBERT 的 SQuAD 微調版，專為問答任務設計，對於 SQuAD 等數據集具有優異的表現。\n"
   ]
  },
  {
   "cell_type": "code",
   "execution_count": 55,
   "metadata": {},
   "outputs": [
    {
     "name": "stdout",
     "output_type": "stream",
     "text": [
      "Model max length: 1000000000000000019884624838656\n"
     ]
    },
    {
     "name": "stderr",
     "output_type": "stream",
     "text": [
      "Some weights of LongformerForQuestionAnswering were not initialized from the model checkpoint at allenai/longformer-base-4096 and are newly initialized: ['qa_outputs.bias', 'qa_outputs.weight']\n",
      "You should probably TRAIN this model on a down-stream task to be able to use it for predictions and inference.\n",
      "Device set to use mps:0\n"
     ]
    },
    {
     "name": "stdout",
     "output_type": "stream",
     "text": [
      "旨在創造能夠執行需要人類智慧的任務的機器\n"
     ]
    }
   ],
   "source": [
    "from transformers import pipeline\n",
    "from transformers import AutoTokenizer\n",
    "\n",
    "tokenizer = AutoTokenizer.from_pretrained(\"allenai/longformer-base-4096\")\n",
    "print(f\"Model max length: {tokenizer.model_max_length}\")\n",
    "\n",
    "# 指定模型\n",
    "qa_pipeline = pipeline(\n",
    "    \"question-answering\",\n",
    "    model=\"allenai/longformer-base-4096\",\n",
    "    tokenizer=\"allenai/longformer-base-4096\",\n",
    "    max_length=tokenizer.model_max_length,  # 設置為模型支持的最大長度\n",
    "    doc_stride=128,   # 合理設置 stride\n",
    "    truncation=True   # 啟用截斷以避免超出限制\n",
    ")\n",
    "\n",
    "\n",
    "context = \"人工智慧（AI）是計算機科學的一個領域，旨在創造能夠執行需要人類智慧的任務的機器。\"\n",
    "question = \"什麼是人工智慧？\"\n",
    "\n",
    "answer = qa_pipeline(question=question, context=context)\n",
    "print(answer['answer'])"
   ]
  },
  {
   "cell_type": "markdown",
   "metadata": {},
   "source": [
    "### RAG 方法一:\n",
    "\n",
    "`retrieve` + `generate`"
   ]
  },
  {
   "cell_type": "code",
   "execution_count": 15,
   "metadata": {},
   "outputs": [],
   "source": [
    "from langchain_core.documents import Document\n",
    "from typing_extensions import List, TypedDict\n",
    "\n",
    "\n",
    "class State(TypedDict):\n",
    "    question: str\n",
    "    context: List[Document]\n",
    "    answer: str\n",
    "\n",
    "# retrieve 部分保持不變，假設 vector_store 已定義\n",
    "def retrieve(state: State):\n",
    "    retrieved_docs = vector_store.similarity_search(state[\"question\"])\n",
    "    return {\"context\": retrieved_docs}\n",
    "\n",
    "def generate(state: State):\n",
    "    docs_content = \"\\n\\n\".join(doc.page_content for doc in state[\"context\"])\n",
    "    result = qa_pipeline(question=state[\"question\"], context=docs_content)\n",
    "    return {\"answer\": result['answer']}"
   ]
  },
  {
   "cell_type": "code",
   "execution_count": 16,
   "metadata": {},
   "outputs": [],
   "source": [
    "from langgraph.graph import START, StateGraph\n",
    "\n",
    "graph_builder = StateGraph(State).add_sequence([retrieve, generate])\n",
    "graph_builder.add_edge(START, \"retrieve\")\n",
    "graph = graph_builder.compile()"
   ]
  },
  {
   "cell_type": "code",
   "execution_count": 17,
   "metadata": {},
   "outputs": [
    {
     "data": {
      "image/png": "[encoded data removed]",
      "text/plain": [
       "<IPython.core.display.Image object>"
      ]
     },
     "metadata": {},
     "output_type": "display_data"
    }
   ],
   "source": [
    "from IPython.display import Image, display\n",
    "\n",
    "display(Image(graph.get_graph().draw_mermaid_png()))"
   ]
  },
  {
   "cell_type": "code",
   "execution_count": 18,
   "metadata": {},
   "outputs": [
    {
     "name": "stdout",
     "output_type": "stream",
     "text": [
      "Context: [Document(id='a8ae346b-ee4e-45e3-93df-839f9fa0e926', metadata={'source': 'https://hackmd.io/@IizmYTUETE2C0DpZ8K_zUw/HyO0B3Yh1l', 'start_index': 0}, page_content='# 詐騙判斷準則\\n\\n\\n## 詐騙準則種類一:賭博、博弈\\n### 關鍵字:娛樂城、百家樂、運彩\\n**娛樂城**\\n- 非詐騙類型(label = 0)：\\n1. 要求推薦平台或代理，沒有誘導之意的貼文。\\n2. 抱怨、咒罵娛樂城、百家樂之詐騙詐欺行為的貼文。\\n3. 分享戰積、知識或自己對於娛樂城百家樂之想法的貼文。\\n4. 單純詢問有關娛樂城與百家樂的問題，無誘導他人傾向之貼文。\\n- 詐騙類型(label = 1):\\n1. 推薦他人平台或代理，並給予不合理之條件，像是免費給錢、註冊金等，判定為詐騙。\\n2. 剛創立的帳號，並且過多相同的複製文，判定為詐騙。\\n\\n**百家樂**\\n基本和上述條件差不多，只是多了專有名詞：救紅，指的是玩家虧錢，找人來代理操作，試圖少虧或盈利。\\n- 非詐騙類型(label = 0):\\n1. 單純尋找救紅，可能會提到一些條件，但無欺騙他人之意的貼文\\n- 詐騙類型(label = 1):\\n1. 推薦救紅的代理，或自薦，並給予不合理之保證或條件，判定為詐騙。'), Document(id='1d7b8de6-d166-425b-811b-7152393ad409', metadata={'source': 'https://hackmd.io/@IizmYTUETE2C0DpZ8K_zUw/HyO0B3Yh1l', 'start_index': 1153}, page_content='**加密貨幣**\\n大致可用上面投資的邏輯\\n- 非詐騙類型(label = 0):\\n1. 反串偏多，小心判斷，傳一個搞笑的(開始做加密貨幣到現在五年\\\\n房子越換越大\\\\n原本都睡10幾坪的小公寓\\\\n現在我家應該有幾千坪了\\\\n就是知名地標大建案\\\\n在台北很有名的\\\\n真舒服\\\\n有興趣的可以來我家\\\\nGoogle找大安森林公園\")\\n- 詐騙類型(label = 1):\\n1. 贈送金錢為理由的誘導他人加入平台或群組的貼文。\\n\\n\\n**其他**\\n1. 已刪除貼文：內文無法判定不是詐騙且有留言數，一律以帳號進行綜合判斷。\\n2. 日文：以Threads內建翻譯為準\\n3. 已刪除帳號：內文有嫌疑就標1\\n\\n## 詐騙準則種類三：工作詐騙（work scam）\\n### 關鍵字：招聘、高薪兼職、月入十萬'), Document(id='3a6b8c73-df9e-44ea-ad63-503e36b1860c', metadata={'source': 'https://hackmd.io/@IizmYTUETE2C0DpZ8K_zUw/HyO0B3Yh1l', 'start_index': 1843}, page_content='**高薪兼職**\\n- 非詐騙類型（label = 0）\\n1. 一般兼職討論：分享兼職經驗、兼職心得，或單純詢問兼職相關問題。\\n2. 明確的兼職條件：貼文包含工作地點、工作內容、薪資標準、發薪方式，資訊透明。\\n- 詐騙類型（label = 1）\\n1. 誇張的薪資承諾：「在家兼職月入三萬」、「斜槓自由排班穩賺不賠」、「零成本高收入」等不合理描述。\\n3. 不明兼職內容：只說「輕鬆賺大錢」但沒有具體工作內容的貼文。\\n4. 缺乏正規應徵管道：沒有公司資訊，只提供個人聯絡方式，如 LINE、WhatsApp。\\n5. 模板文:「在家兼職做PT還比正職高薪…\\\\n兼職一個月在家就能領50000」\\n6. 薪資過高'), Document(id='15718d58-f69e-4898-bd76-32f15e8a5c87', metadata={'source': 'https://hackmd.io/@IizmYTUETE2C0DpZ8K_zUw/HyO0B3Yh1l', 'start_index': 656}, page_content='## 詐騙準則種類二:投資\\n### 關鍵字:投資、股票、加密貨幣\\n**投資**\\n- 非詐騙類型(label = 0):\\n1. 單純分享投資消息或投資知識的貼文，例如個股投資進場退場、加密貨幣投資進場退場。\\n2. 單純分享自己投資賺賠的貼文，無誘導加入群組、追蹤IG(不一定)或投資之意圖。\\n3. 詢問問題，無誘導的意圖之貼文。\\n- 詐騙類型(label = 1):\\n1. 有誘導他人進場之意圖的貼文，例如:明天台積電一定跌，趕快進場、**內部消息**...\\n2. 用不合理或誇大(穩賺不賠、零風險)等字眼誘導他人跟隨進場、加入群組、追蹤IG的貼文。\\n3. 推薦或自薦老師，誇大獲利以誘使他人跟隨的貼文。\\n\\n**股票**\\n大致可用上面投資的邏輯\\n- 非詐騙類型(label = 0):\\n1. 單純推薦個股，無誘導之意圖的貼文，追蹤IG不是一定是詐騙，要判斷一下。\\n- 詐騙類型(label = 1):\\n1. 過大的獲利金額，可能也是誘導進場的訊息，點進去看看再判斷\\n2. 模板化的貼文(看起來會像推薦個股，但格式都相差無幾，缺乏個人特色)、成立時間短的帳號\\n3. 追蹤IG且IG帳號甚麼都沒有')]\n",
      "\n",
      "\n",
      "Answer: ，追蹤IG不是一定是詐騙\n"
     ]
    }
   ],
   "source": [
    "result = graph.invoke({\"question\": \"如何判斷娛樂城詐騙?請提供中文關鍵字\"})\n",
    "\n",
    "print(f'Context: {result[\"context\"]}\\n\\n')\n",
    "print(f'Answer: {result[\"answer\"]}')"
   ]
  },
  {
   "cell_type": "code",
   "execution_count": 19,
   "metadata": {},
   "outputs": [
    {
     "name": "stdout",
     "output_type": "stream",
     "text": [
      "{'retrieve': {'context': [Document(id='a8ae346b-ee4e-45e3-93df-839f9fa0e926', metadata={'source': 'https://hackmd.io/@IizmYTUETE2C0DpZ8K_zUw/HyO0B3Yh1l', 'start_index': 0}, page_content='# 詐騙判斷準則\\n\\n\\n## 詐騙準則種類一:賭博、博弈\\n### 關鍵字:娛樂城、百家樂、運彩\\n**娛樂城**\\n- 非詐騙類型(label = 0)：\\n1. 要求推薦平台或代理，沒有誘導之意的貼文。\\n2. 抱怨、咒罵娛樂城、百家樂之詐騙詐欺行為的貼文。\\n3. 分享戰積、知識或自己對於娛樂城百家樂之想法的貼文。\\n4. 單純詢問有關娛樂城與百家樂的問題，無誘導他人傾向之貼文。\\n- 詐騙類型(label = 1):\\n1. 推薦他人平台或代理，並給予不合理之條件，像是免費給錢、註冊金等，判定為詐騙。\\n2. 剛創立的帳號，並且過多相同的複製文，判定為詐騙。\\n\\n**百家樂**\\n基本和上述條件差不多，只是多了專有名詞：救紅，指的是玩家虧錢，找人來代理操作，試圖少虧或盈利。\\n- 非詐騙類型(label = 0):\\n1. 單純尋找救紅，可能會提到一些條件，但無欺騙他人之意的貼文\\n- 詐騙類型(label = 1):\\n1. 推薦救紅的代理，或自薦，並給予不合理之保證或條件，判定為詐騙。'), Document(id='1d7b8de6-d166-425b-811b-7152393ad409', metadata={'source': 'https://hackmd.io/@IizmYTUETE2C0DpZ8K_zUw/HyO0B3Yh1l', 'start_index': 1153}, page_content='**加密貨幣**\\n大致可用上面投資的邏輯\\n- 非詐騙類型(label = 0):\\n1. 反串偏多，小心判斷，傳一個搞笑的(開始做加密貨幣到現在五年\\\\n房子越換越大\\\\n原本都睡10幾坪的小公寓\\\\n現在我家應該有幾千坪了\\\\n就是知名地標大建案\\\\n在台北很有名的\\\\n真舒服\\\\n有興趣的可以來我家\\\\nGoogle找大安森林公園\")\\n- 詐騙類型(label = 1):\\n1. 贈送金錢為理由的誘導他人加入平台或群組的貼文。\\n\\n\\n**其他**\\n1. 已刪除貼文：內文無法判定不是詐騙且有留言數，一律以帳號進行綜合判斷。\\n2. 日文：以Threads內建翻譯為準\\n3. 已刪除帳號：內文有嫌疑就標1\\n\\n## 詐騙準則種類三：工作詐騙（work scam）\\n### 關鍵字：招聘、高薪兼職、月入十萬'), Document(id='3a6b8c73-df9e-44ea-ad63-503e36b1860c', metadata={'source': 'https://hackmd.io/@IizmYTUETE2C0DpZ8K_zUw/HyO0B3Yh1l', 'start_index': 1843}, page_content='**高薪兼職**\\n- 非詐騙類型（label = 0）\\n1. 一般兼職討論：分享兼職經驗、兼職心得，或單純詢問兼職相關問題。\\n2. 明確的兼職條件：貼文包含工作地點、工作內容、薪資標準、發薪方式，資訊透明。\\n- 詐騙類型（label = 1）\\n1. 誇張的薪資承諾：「在家兼職月入三萬」、「斜槓自由排班穩賺不賠」、「零成本高收入」等不合理描述。\\n3. 不明兼職內容：只說「輕鬆賺大錢」但沒有具體工作內容的貼文。\\n4. 缺乏正規應徵管道：沒有公司資訊，只提供個人聯絡方式，如 LINE、WhatsApp。\\n5. 模板文:「在家兼職做PT還比正職高薪…\\\\n兼職一個月在家就能領50000」\\n6. 薪資過高'), Document(id='15718d58-f69e-4898-bd76-32f15e8a5c87', metadata={'source': 'https://hackmd.io/@IizmYTUETE2C0DpZ8K_zUw/HyO0B3Yh1l', 'start_index': 656}, page_content='## 詐騙準則種類二:投資\\n### 關鍵字:投資、股票、加密貨幣\\n**投資**\\n- 非詐騙類型(label = 0):\\n1. 單純分享投資消息或投資知識的貼文，例如個股投資進場退場、加密貨幣投資進場退場。\\n2. 單純分享自己投資賺賠的貼文，無誘導加入群組、追蹤IG(不一定)或投資之意圖。\\n3. 詢問問題，無誘導的意圖之貼文。\\n- 詐騙類型(label = 1):\\n1. 有誘導他人進場之意圖的貼文，例如:明天台積電一定跌，趕快進場、**內部消息**...\\n2. 用不合理或誇大(穩賺不賠、零風險)等字眼誘導他人跟隨進場、加入群組、追蹤IG的貼文。\\n3. 推薦或自薦老師，誇大獲利以誘使他人跟隨的貼文。\\n\\n**股票**\\n大致可用上面投資的邏輯\\n- 非詐騙類型(label = 0):\\n1. 單純推薦個股，無誘導之意圖的貼文，追蹤IG不是一定是詐騙，要判斷一下。\\n- 詐騙類型(label = 1):\\n1. 過大的獲利金額，可能也是誘導進場的訊息，點進去看看再判斷\\n2. 模板化的貼文(看起來會像推薦個股，但格式都相差無幾，缺乏個人特色)、成立時間短的帳號\\n3. 追蹤IG且IG帳號甚麼都沒有')]}}\n",
      "\n",
      "----------------\n",
      "\n",
      "{'generate': {'answer': '，追蹤IG不是一定是詐騙'}}\n",
      "\n",
      "----------------\n",
      "\n"
     ]
    }
   ],
   "source": [
    "for step in graph.stream(\n",
    "    {\"question\": \"如何判斷娛樂城詐騙?請提供中文關鍵字\"}, stream_mode=\"updates\"\n",
    "):\n",
    "    print(f\"{step}\\n\\n----------------\\n\")"
   ]
  },
  {
   "cell_type": "code",
   "execution_count": 20,
   "metadata": {},
   "outputs": [],
   "source": [
    "for message, metadata in graph.stream(\n",
    "    {\"question\": \"如何判斷娛樂城詐騙?\"}, stream_mode=\"messages\"\n",
    "):\n",
    "    print(message.content, end=\"|\")"
   ]
  },
  {
   "cell_type": "markdown",
   "metadata": {},
   "source": [
    "### RAG 方法二: \n",
    "`retrieve` + `analyze_query` + `generate`"
   ]
  },
  {
   "cell_type": "code",
   "execution_count": 21,
   "metadata": {},
   "outputs": [
    {
     "data": {
      "text/plain": [
       "{'source': 'https://hackmd.io/@IizmYTUETE2C0DpZ8K_zUw/HyO0B3Yh1l',\n",
       " 'start_index': 0,\n",
       " 'section': 'beginning'}"
      ]
     },
     "execution_count": 21,
     "metadata": {},
     "output_type": "execute_result"
    }
   ],
   "source": [
    "total_documents = len(all_splits)\n",
    "third = total_documents // 3\n",
    "\n",
    "for i, document in enumerate(all_splits):\n",
    "    if i < third:\n",
    "        document.metadata[\"section\"] = \"beginning\"\n",
    "    elif i < 2 * third:\n",
    "        document.metadata[\"section\"] = \"middle\"\n",
    "    else:\n",
    "        document.metadata[\"section\"] = \"end\"\n",
    "\n",
    "\n",
    "all_splits[0].metadata"
   ]
  },
  {
   "cell_type": "code",
   "execution_count": 22,
   "metadata": {},
   "outputs": [],
   "source": [
    "from langchain_core.vectorstores import InMemoryVectorStore\n",
    "\n",
    "vector_store = InMemoryVectorStore(embeddings)\n",
    "_ = vector_store.add_documents(all_splits)"
   ]
  },
  {
   "cell_type": "code",
   "execution_count": 23,
   "metadata": {},
   "outputs": [],
   "source": [
    "from typing import Literal\n",
    "\n",
    "from typing_extensions import Annotated\n",
    "\n",
    "\n",
    "class Search(TypedDict):\n",
    "    \"\"\"Search query.\"\"\"\n",
    "\n",
    "    query: Annotated[str, ..., \"Search query to run.\"]\n",
    "    section: Annotated[\n",
    "        Literal[\"beginning\", \"middle\", \"end\"],\n",
    "        ...,\n",
    "        \"Section to query.\",\n",
    "    ]"
   ]
  },
  {
   "cell_type": "code",
   "execution_count": null,
   "metadata": {},
   "outputs": [],
   "source": [
    "import re\n",
    "\n",
    "class State(TypedDict):\n",
    "    question: str\n",
    "    # highlight-next-line\n",
    "    query: Search\n",
    "    context: List[Document]\n",
    "    answer: str\n",
    "\n",
    "\n",
    "# highlight-next-line\n",
    "def analyze_query(state: State):\n",
    "    # highlight-next-line\n",
    "    structured_llm = llm.with_structured_output(Search)\n",
    "    # highlight-next-line\n",
    "    query = structured_llm.invoke(state[\"question\"])\n",
    "    # highlight-next-line\n",
    "    return {\"query\": query}\n",
    "\n",
    "\n",
    "def retrieve(state: State):\n",
    "    # highlight-start\n",
    "    query = state[\"query\"]\n",
    "    retrieved_docs = vector_store.similarity_search(query[\"query\"])\n",
    "    # highlight-end\n",
    "    return {\"context\": retrieved_docs}\n",
    "\n",
    "\n",
    "def generate(state: State):\n",
    "    docs_content = \"\\n\\n\".join(doc.page_content for doc in state[\"context\"])\n",
    "    messages = qa_pipeline(question=state[\"question\"], context=docs_content)\n",
    "    response = llm.invoke(messages)\n",
    "    return {\"answer\": response.content}\n",
    "\n",
    "\n",
    "# highlight-start\n",
    "graph_builder = StateGraph(State).add_sequence([analyze_query, retrieve, generate])\n",
    "graph_builder.add_edge(START, \"analyze_query\")\n",
    "# highlight-end\n",
    "graph = graph_builder.compile()"
   ]
  },
  {
   "cell_type": "code",
   "execution_count": 68,
   "metadata": {},
   "outputs": [
    {
     "data": {
      "image/png": "[encoded data removed]",
      "text/plain": [
       "<IPython.core.display.Image object>"
      ]
     },
     "metadata": {},
     "output_type": "display_data"
    }
   ],
   "source": [
    "display(Image(graph.get_graph().draw_mermaid_png()))"
   ]
  },
  {
   "cell_type": "code",
   "execution_count": 69,
   "metadata": {},
   "outputs": [],
   "source": [
    "import json\n",
    "\n",
    "category = 'investment'\n",
    "with open(f\"../Datasets_crawler/data_{category}.json\", \"r\", encoding=\"utf-8\") as f:\n",
    "    dataset = json.load(f)"
   ]
  },
  {
   "cell_type": "code",
   "execution_count": 70,
   "metadata": {},
   "outputs": [],
   "source": [
    "# 假設這是你從 dataset 中取出的貼文內容\n",
    "post = dataset[0]['text']\n",
    "question = f\"貼文內容:\\n{post}，請判斷該貼文是否為詐騙，並輸出 label = ?\""
   ]
  },
  {
   "cell_type": "code",
   "execution_count": 71,
   "metadata": {},
   "outputs": [
    {
     "name": "stdout",
     "output_type": "stream",
     "text": [
      "Model max length: 1000000000000000019884624838656\n"
     ]
    },
    {
     "name": "stderr",
     "output_type": "stream",
     "text": [
      "Some weights of LongformerForQuestionAnswering were not initialized from the model checkpoint at allenai/longformer-base-4096 and are newly initialized: ['qa_outputs.bias', 'qa_outputs.weight']\n",
      "You should probably TRAIN this model on a down-stream task to be able to use it for predictions and inference.\n",
      "Device set to use mps:0\n"
     ]
    },
    {
     "name": "stdout",
     "output_type": "stream",
     "text": [
      "{'analyze_query': {'query': {'query': '资料內容 別作 議姐 股票', 'section': 'scam detection'}}}\n",
      "\n",
      "----------------\n",
      "\n",
      "{'retrieve': {'context': [Document(id='8515c141-1ea4-453f-8706-c0508ab306e4', metadata={'source': 'https://hackmd.io/@IizmYTUETE2C0DpZ8K_zUw/HyO0B3Yh1l', 'start_index': 656, 'section': 'middle'}, page_content='## 詐騙準則種類二:投資\\n### 關鍵字:投資、股票、加密貨幣\\n**投資**\\n- 非詐騙類型(label = 0):\\n1. 單純分享投資消息或投資知識的貼文，例如個股投資進場退場、加密貨幣投資進場退場。\\n2. 單純分享自己投資賺賠的貼文，無誘導加入群組、追蹤IG(不一定)或投資之意圖。\\n3. 詢問問題，無誘導的意圖之貼文。\\n- 詐騙類型(label = 1):\\n1. 有誘導他人進場之意圖的貼文，例如:明天台積電一定跌，趕快進場、**內部消息**...\\n2. 用不合理或誇大(穩賺不賠、零風險)等字眼誘導他人跟隨進場、加入群組、追蹤IG的貼文。\\n3. 推薦或自薦老師，誇大獲利以誘使他人跟隨的貼文。\\n\\n**股票**\\n大致可用上面投資的邏輯\\n- 非詐騙類型(label = 0):\\n1. 單純推薦個股，無誘導之意圖的貼文，追蹤IG不是一定是詐騙，要判斷一下。\\n- 詐騙類型(label = 1):\\n1. 過大的獲利金額，可能也是誘導進場的訊息，點進去看看再判斷\\n2. 模板化的貼文(看起來會像推薦個股，但格式都相差無幾，缺乏個人特色)、成立時間短的帳號\\n3. 追蹤IG且IG帳號甚麼都沒有'), Document(id='ba032c46-1578-4815-84de-b28e9e93638c', metadata={'source': 'https://hackmd.io/@IizmYTUETE2C0DpZ8K_zUw/HyO0B3Yh1l', 'start_index': 2561, 'section': 'end'}, page_content='- 詐騙類型（label = 1）\\n5. 內容空泛，無個人資訊：只寫「徵男友/女友」或「想找人陪」，無詳細個人介紹。\\n6. 主動要求加 LINE 或私訊：貼文要求「有興趣加賴」、「私訊我」，試圖轉移對話至私訊平台。\\n7. 新帳號+大量重複貼文：剛創立的帳號，且在不同社群頻繁發佈相同內容的貼文。\\n\\n**約炮**\\n- 非詐騙類型（label = 0）\\n1. 開放式討論：對約會文化、開放式關係的討論，而非單純誘導私訊。\\n2. 個人經驗分享：分享自己的感情經歷，而非刻意引導他人聯絡。\\n- 詐騙類型（label = 1）\\n1. 誘導加 LINE 或提供聯絡方式：「想認識私訊」、「加賴聊聊」等明顯引導私訊的行為。\\n2. 假照片、假帳號：使用過度美化的圖片、明星照片，或帳號內無真實個人資訊。\\n3. 可能為性交易或詐騙：可能後續誘導金錢交易，或是釣魚詐騙行為。'), Document(id='3c888c54-42af-4d33-a8fb-959489341449', metadata={'source': 'https://hackmd.io/@IizmYTUETE2C0DpZ8K_zUw/HyO0B3Yh1l', 'start_index': 2146, 'section': 'end'}, page_content='**月入十萬**\\n- 非詐騙類型（label = 0）\\n1. 真實的高薪職業分享：如工程師、醫生、企業管理等高薪職業的經驗分享，無誇大敘述。\\n2. 成功案例分享：貼文詳細描述工作過程與挑戰，而不只是強調收入。\\n- 詐騙類型（label = 1）\\n1. 不合理的高薪：「零經驗月入十萬」、「人人可做、無門檻」等不可信承諾。\\n2. 推銷加盟、投資、直銷：以「想一起賺大錢嗎？」引誘他人加入，或要求先付款。\\n\\n\\n## 詐騙準則種類四：感情詐騙（emotional dating scam）\\n### 關鍵字 徵男友、徵女友、約炮\\n\\n**徵男友、徵女友**\\n- 非詐騙類型（label = 0）\\n1. 一般交友貼文：真實想找對象的交友貼文，內容具有個人特色，非模板文。\\n2. 明確交友動機：貼文有介紹自己，例如興趣、個性，而非單純「爭男友/女友」。\\n3. 反串內容：如果貼文內容明顯為反串（例如過度浮誇但帶有戲謔語氣），則不判定為詐騙。'), Document(id='531c3762-e93d-4f9d-84e0-2c3e3ecc79e2', metadata={'source': 'https://hackmd.io/@IizmYTUETE2C0DpZ8K_zUw/HyO0B3Yh1l', 'start_index': 1448, 'section': 'end'}, page_content='## 詐騙準則種類三：工作詐騙（work scam）\\n### 關鍵字：招聘、高薪兼職、月入十萬\\n\\n**招聘**\\n- 非詐騙類型（label = 0）\\n1. 一般求職與職場討論：單純詢問或討論職缺資訊，無誇大或誘導行為的貼文。\\n2. 職場經驗分享：分享自身求職或工作的經驗，無明顯的詐騙特徵。\\n3. 有明確的公司名稱與應徵方式：提供公司名稱、應徵管道（如官網、求職平台），符合一般應聘流程。\\n- 詐騙類型（label = 1）\\n1. 薪資過高且資訊不清：「新人無經驗月入十萬」、「不用面試直接錄取」等不合理條件。\\n2. 未提供明確的工作內容、地點或薪資發放方式。\\n4. 無具名或個人聯絡方式：沒有公司名稱，或只提供 LINE ID、微信、私人通訊方式。\\n5. 未提供正式的應徵管道（如公司官網、求職平台）\\n6. 新帳號且大量重複貼文：剛創立的新帳號，在各社群發布相同內容的貼文，疑似詐騙。')]}}\n",
      "\n",
      "----------------\n",
      "\n"
     ]
    },
    {
     "name": "stderr",
     "output_type": "stream",
     "text": [
      "\n",
      "thread '<unnamed>' panicked at /Users/runner/work/tokenizers/tokenizers/tokenizers/src/tokenizer/encoding.rs:319:9:\n",
      "`stride` must be strictly less than `max_len=59` (note that `max_len` may be shorter than the max length of the original model, as it subtracts the number of special characters\n"
     ]
    },
    {
     "ename": "PanicException",
     "evalue": "`stride` must be strictly less than `max_len=59` (note that `max_len` may be shorter than the max length of the original model, as it subtracts the number of special characters",
     "output_type": "error",
     "traceback": [
      "\u001b[31m---------------------------------------------------------------------------\u001b[39m",
      "\u001b[31mPanicException\u001b[39m                            Traceback (most recent call last)",
      "\u001b[36mCell\u001b[39m\u001b[36m \u001b[39m\u001b[32mIn[71]\u001b[39m\u001b[32m, line 25\u001b[39m\n\u001b[32m     14\u001b[39m \u001b[38;5;28;01mtry\u001b[39;00m:\n\u001b[32m     15\u001b[39m     \u001b[38;5;66;03m# 初始化 QA 管道\u001b[39;00m\n\u001b[32m     16\u001b[39m     qa_pipeline = pipeline(\n\u001b[32m     17\u001b[39m         \u001b[33m\"\u001b[39m\u001b[33mquestion-answering\u001b[39m\u001b[33m\"\u001b[39m,\n\u001b[32m     18\u001b[39m         model=\u001b[33m\"\u001b[39m\u001b[33mallenai/longformer-base-4096\u001b[39m\u001b[33m\"\u001b[39m,\n\u001b[32m   (...)\u001b[39m\u001b[32m     22\u001b[39m         truncation=\u001b[38;5;28;01mTrue\u001b[39;00m\n\u001b[32m     23\u001b[39m     )\n\u001b[32m---> \u001b[39m\u001b[32m25\u001b[39m \u001b[43m    \u001b[49m\u001b[38;5;28;43;01mfor\u001b[39;49;00m\u001b[43m \u001b[49m\u001b[43mstep\u001b[49m\u001b[43m \u001b[49m\u001b[38;5;129;43;01min\u001b[39;49;00m\u001b[43m \u001b[49m\u001b[43mgraph\u001b[49m\u001b[43m.\u001b[49m\u001b[43mstream\u001b[49m\u001b[43m(\u001b[49m\n\u001b[32m     26\u001b[39m \u001b[43m        \u001b[49m\u001b[43m{\u001b[49m\u001b[33;43m\"\u001b[39;49m\u001b[33;43mquestion\u001b[39;49m\u001b[33;43m\"\u001b[39;49m\u001b[43m:\u001b[49m\u001b[43m \u001b[49m\u001b[43mquestion\u001b[49m\u001b[43m}\u001b[49m\u001b[43m,\u001b[49m\n\u001b[32m     27\u001b[39m \u001b[43m        \u001b[49m\u001b[43mstream_mode\u001b[49m\u001b[43m=\u001b[49m\u001b[33;43m\"\u001b[39;49m\u001b[33;43mupdates\u001b[39;49m\u001b[33;43m\"\u001b[39;49m\u001b[43m,\u001b[49m\n\u001b[32m     28\u001b[39m \u001b[43m    \u001b[49m\u001b[43m)\u001b[49m\u001b[43m:\u001b[49m\n\u001b[32m     29\u001b[39m \u001b[43m        \u001b[49m\u001b[38;5;28;43;01mif\u001b[39;49;00m\u001b[43m \u001b[49m\u001b[33;43m\"\u001b[39;49m\u001b[33;43mcontext\u001b[39;49m\u001b[33;43m\"\u001b[39;49m\u001b[43m \u001b[49m\u001b[38;5;129;43;01min\u001b[39;49;00m\u001b[43m \u001b[49m\u001b[43mstep\u001b[49m\u001b[43m:\u001b[49m\n\u001b[32m     30\u001b[39m \u001b[43m            \u001b[49m\u001b[43mcontext\u001b[49m\u001b[43m \u001b[49m\u001b[43m=\u001b[49m\u001b[43m \u001b[49m\u001b[33;43m\"\u001b[39;49m\u001b[38;5;130;43;01m\\n\u001b[39;49;00m\u001b[38;5;130;43;01m\\n\u001b[39;49;00m\u001b[33;43m\"\u001b[39;49m\u001b[43m.\u001b[49m\u001b[43mjoin\u001b[49m\u001b[43m(\u001b[49m\u001b[43mdoc\u001b[49m\u001b[43m.\u001b[49m\u001b[43mpage_content\u001b[49m\u001b[43m \u001b[49m\u001b[38;5;28;43;01mfor\u001b[39;49;00m\u001b[43m \u001b[49m\u001b[43mdoc\u001b[49m\u001b[43m \u001b[49m\u001b[38;5;129;43;01min\u001b[39;49;00m\u001b[43m \u001b[49m\u001b[43mstep\u001b[49m\u001b[43m[\u001b[49m\u001b[33;43m\"\u001b[39;49m\u001b[33;43mcontext\u001b[39;49m\u001b[33;43m\"\u001b[39;49m\u001b[43m]\u001b[49m\u001b[43m)\u001b[49m\n",
      "\u001b[36mFile \u001b[39m\u001b[32m~/miniconda3/lib/python3.12/site-packages/langgraph/pregel/__init__.py:2323\u001b[39m, in \u001b[36mPregel.stream\u001b[39m\u001b[34m(self, input, config, stream_mode, output_keys, interrupt_before, interrupt_after, debug, subgraphs)\u001b[39m\n\u001b[32m   2317\u001b[39m     \u001b[38;5;66;03m# Similarly to Bulk Synchronous Parallel / Pregel model\u001b[39;00m\n\u001b[32m   2318\u001b[39m     \u001b[38;5;66;03m# computation proceeds in steps, while there are channel updates.\u001b[39;00m\n\u001b[32m   2319\u001b[39m     \u001b[38;5;66;03m# Channel updates from step N are only visible in step N+1\u001b[39;00m\n\u001b[32m   2320\u001b[39m     \u001b[38;5;66;03m# channels are guaranteed to be immutable for the duration of the step,\u001b[39;00m\n\u001b[32m   2321\u001b[39m     \u001b[38;5;66;03m# with channel updates applied only at the transition between steps.\u001b[39;00m\n\u001b[32m   2322\u001b[39m     \u001b[38;5;28;01mwhile\u001b[39;00m loop.tick(input_keys=\u001b[38;5;28mself\u001b[39m.input_channels):\n\u001b[32m-> \u001b[39m\u001b[32m2323\u001b[39m \u001b[43m        \u001b[49m\u001b[38;5;28;43;01mfor\u001b[39;49;00m\u001b[43m \u001b[49m\u001b[43m_\u001b[49m\u001b[43m \u001b[49m\u001b[38;5;129;43;01min\u001b[39;49;00m\u001b[43m \u001b[49m\u001b[43mrunner\u001b[49m\u001b[43m.\u001b[49m\u001b[43mtick\u001b[49m\u001b[43m(\u001b[49m\n\u001b[32m   2324\u001b[39m \u001b[43m            \u001b[49m\u001b[43mloop\u001b[49m\u001b[43m.\u001b[49m\u001b[43mtasks\u001b[49m\u001b[43m.\u001b[49m\u001b[43mvalues\u001b[49m\u001b[43m(\u001b[49m\u001b[43m)\u001b[49m\u001b[43m,\u001b[49m\n\u001b[32m   2325\u001b[39m \u001b[43m            \u001b[49m\u001b[43mtimeout\u001b[49m\u001b[43m=\u001b[49m\u001b[38;5;28;43mself\u001b[39;49m\u001b[43m.\u001b[49m\u001b[43mstep_timeout\u001b[49m\u001b[43m,\u001b[49m\n\u001b[32m   2326\u001b[39m \u001b[43m            \u001b[49m\u001b[43mretry_policy\u001b[49m\u001b[43m=\u001b[49m\u001b[38;5;28;43mself\u001b[39;49m\u001b[43m.\u001b[49m\u001b[43mretry_policy\u001b[49m\u001b[43m,\u001b[49m\n\u001b[32m   2327\u001b[39m \u001b[43m            \u001b[49m\u001b[43mget_waiter\u001b[49m\u001b[43m=\u001b[49m\u001b[43mget_waiter\u001b[49m\u001b[43m,\u001b[49m\n\u001b[32m   2328\u001b[39m \u001b[43m        \u001b[49m\u001b[43m)\u001b[49m\u001b[43m:\u001b[49m\n\u001b[32m   2329\u001b[39m \u001b[43m            \u001b[49m\u001b[38;5;66;43;03m# emit output\u001b[39;49;00m\n\u001b[32m   2330\u001b[39m \u001b[43m            \u001b[49m\u001b[38;5;28;43;01myield from\u001b[39;49;00m\u001b[43m \u001b[49m\u001b[43moutput\u001b[49m\u001b[43m(\u001b[49m\u001b[43m)\u001b[49m\n\u001b[32m   2331\u001b[39m \u001b[38;5;66;03m# emit output\u001b[39;00m\n",
      "\u001b[36mFile \u001b[39m\u001b[32m~/miniconda3/lib/python3.12/site-packages/langgraph/pregel/runner.py:146\u001b[39m, in \u001b[36mPregelRunner.tick\u001b[39m\u001b[34m(self, tasks, reraise, timeout, retry_policy, get_waiter)\u001b[39m\n\u001b[32m    144\u001b[39m t = tasks[\u001b[32m0\u001b[39m]\n\u001b[32m    145\u001b[39m \u001b[38;5;28;01mtry\u001b[39;00m:\n\u001b[32m--> \u001b[39m\u001b[32m146\u001b[39m     \u001b[43mrun_with_retry\u001b[49m\u001b[43m(\u001b[49m\n\u001b[32m    147\u001b[39m \u001b[43m        \u001b[49m\u001b[43mt\u001b[49m\u001b[43m,\u001b[49m\n\u001b[32m    148\u001b[39m \u001b[43m        \u001b[49m\u001b[43mretry_policy\u001b[49m\u001b[43m,\u001b[49m\n\u001b[32m    149\u001b[39m \u001b[43m        \u001b[49m\u001b[43mconfigurable\u001b[49m\u001b[43m=\u001b[49m\u001b[43m{\u001b[49m\n\u001b[32m    150\u001b[39m \u001b[43m            \u001b[49m\u001b[43mCONFIG_KEY_CALL\u001b[49m\u001b[43m:\u001b[49m\u001b[43m \u001b[49m\u001b[43mpartial\u001b[49m\u001b[43m(\u001b[49m\n\u001b[32m    151\u001b[39m \u001b[43m                \u001b[49m\u001b[43m_call\u001b[49m\u001b[43m,\u001b[49m\n\u001b[32m    152\u001b[39m \u001b[43m                \u001b[49m\u001b[43mweakref\u001b[49m\u001b[43m.\u001b[49m\u001b[43mref\u001b[49m\u001b[43m(\u001b[49m\u001b[43mt\u001b[49m\u001b[43m)\u001b[49m\u001b[43m,\u001b[49m\n\u001b[32m    153\u001b[39m \u001b[43m                \u001b[49m\u001b[43mretry\u001b[49m\u001b[43m=\u001b[49m\u001b[43mretry_policy\u001b[49m\u001b[43m,\u001b[49m\n\u001b[32m    154\u001b[39m \u001b[43m                \u001b[49m\u001b[43mfutures\u001b[49m\u001b[43m=\u001b[49m\u001b[43mweakref\u001b[49m\u001b[43m.\u001b[49m\u001b[43mref\u001b[49m\u001b[43m(\u001b[49m\u001b[43mfutures\u001b[49m\u001b[43m)\u001b[49m\u001b[43m,\u001b[49m\n\u001b[32m    155\u001b[39m \u001b[43m                \u001b[49m\u001b[43mschedule_task\u001b[49m\u001b[43m=\u001b[49m\u001b[38;5;28;43mself\u001b[39;49m\u001b[43m.\u001b[49m\u001b[43mschedule_task\u001b[49m\u001b[43m,\u001b[49m\n\u001b[32m    156\u001b[39m \u001b[43m                \u001b[49m\u001b[43msubmit\u001b[49m\u001b[43m=\u001b[49m\u001b[38;5;28;43mself\u001b[39;49m\u001b[43m.\u001b[49m\u001b[43msubmit\u001b[49m\u001b[43m,\u001b[49m\n\u001b[32m    157\u001b[39m \u001b[43m                \u001b[49m\u001b[43mreraise\u001b[49m\u001b[43m=\u001b[49m\u001b[43mreraise\u001b[49m\u001b[43m,\u001b[49m\n\u001b[32m    158\u001b[39m \u001b[43m            \u001b[49m\u001b[43m)\u001b[49m\u001b[43m,\u001b[49m\n\u001b[32m    159\u001b[39m \u001b[43m        \u001b[49m\u001b[43m}\u001b[49m\u001b[43m,\u001b[49m\n\u001b[32m    160\u001b[39m \u001b[43m    \u001b[49m\u001b[43m)\u001b[49m\n\u001b[32m    161\u001b[39m     \u001b[38;5;28mself\u001b[39m.commit(t, \u001b[38;5;28;01mNone\u001b[39;00m)\n\u001b[32m    162\u001b[39m \u001b[38;5;28;01mexcept\u001b[39;00m \u001b[38;5;167;01mException\u001b[39;00m \u001b[38;5;28;01mas\u001b[39;00m exc:\n",
      "\u001b[36mFile \u001b[39m\u001b[32m~/miniconda3/lib/python3.12/site-packages/langgraph/pregel/retry.py:40\u001b[39m, in \u001b[36mrun_with_retry\u001b[39m\u001b[34m(task, retry_policy, configurable)\u001b[39m\n\u001b[32m     38\u001b[39m     task.writes.clear()\n\u001b[32m     39\u001b[39m     \u001b[38;5;66;03m# run the task\u001b[39;00m\n\u001b[32m---> \u001b[39m\u001b[32m40\u001b[39m     \u001b[38;5;28;01mreturn\u001b[39;00m \u001b[43mtask\u001b[49m\u001b[43m.\u001b[49m\u001b[43mproc\u001b[49m\u001b[43m.\u001b[49m\u001b[43minvoke\u001b[49m\u001b[43m(\u001b[49m\u001b[43mtask\u001b[49m\u001b[43m.\u001b[49m\u001b[43minput\u001b[49m\u001b[43m,\u001b[49m\u001b[43m \u001b[49m\u001b[43mconfig\u001b[49m\u001b[43m)\u001b[49m\n\u001b[32m     41\u001b[39m \u001b[38;5;28;01mexcept\u001b[39;00m ParentCommand \u001b[38;5;28;01mas\u001b[39;00m exc:\n\u001b[32m     42\u001b[39m     ns: \u001b[38;5;28mstr\u001b[39m = config[CONF][CONFIG_KEY_CHECKPOINT_NS]\n",
      "\u001b[36mFile \u001b[39m\u001b[32m~/miniconda3/lib/python3.12/site-packages/langgraph/utils/runnable.py:600\u001b[39m, in \u001b[36mRunnableSeq.invoke\u001b[39m\u001b[34m(self, input, config, **kwargs)\u001b[39m\n\u001b[32m    596\u001b[39m config = patch_config(\n\u001b[32m    597\u001b[39m     config, callbacks=run_manager.get_child(\u001b[33mf\u001b[39m\u001b[33m\"\u001b[39m\u001b[33mseq:step:\u001b[39m\u001b[38;5;132;01m{\u001b[39;00mi\u001b[38;5;250m \u001b[39m+\u001b[38;5;250m \u001b[39m\u001b[32m1\u001b[39m\u001b[38;5;132;01m}\u001b[39;00m\u001b[33m\"\u001b[39m)\n\u001b[32m    598\u001b[39m )\n\u001b[32m    599\u001b[39m \u001b[38;5;28;01mif\u001b[39;00m i == \u001b[32m0\u001b[39m:\n\u001b[32m--> \u001b[39m\u001b[32m600\u001b[39m     \u001b[38;5;28minput\u001b[39m = \u001b[43mstep\u001b[49m\u001b[43m.\u001b[49m\u001b[43minvoke\u001b[49m\u001b[43m(\u001b[49m\u001b[38;5;28;43minput\u001b[39;49m\u001b[43m,\u001b[49m\u001b[43m \u001b[49m\u001b[43mconfig\u001b[49m\u001b[43m,\u001b[49m\u001b[43m \u001b[49m\u001b[43m*\u001b[49m\u001b[43m*\u001b[49m\u001b[43mkwargs\u001b[49m\u001b[43m)\u001b[49m\n\u001b[32m    601\u001b[39m \u001b[38;5;28;01melse\u001b[39;00m:\n\u001b[32m    602\u001b[39m     \u001b[38;5;28minput\u001b[39m = step.invoke(\u001b[38;5;28minput\u001b[39m, config)\n",
      "\u001b[36mFile \u001b[39m\u001b[32m~/miniconda3/lib/python3.12/site-packages/langgraph/utils/runnable.py:365\u001b[39m, in \u001b[36mRunnableCallable.invoke\u001b[39m\u001b[34m(self, input, config, **kwargs)\u001b[39m\n\u001b[32m    363\u001b[39m \u001b[38;5;28;01melse\u001b[39;00m:\n\u001b[32m    364\u001b[39m     \u001b[38;5;28;01mwith\u001b[39;00m set_config_context(config) \u001b[38;5;28;01mas\u001b[39;00m context:\n\u001b[32m--> \u001b[39m\u001b[32m365\u001b[39m         ret = \u001b[43mcontext\u001b[49m\u001b[43m.\u001b[49m\u001b[43mrun\u001b[49m\u001b[43m(\u001b[49m\u001b[38;5;28;43mself\u001b[39;49m\u001b[43m.\u001b[49m\u001b[43mfunc\u001b[49m\u001b[43m,\u001b[49m\u001b[43m \u001b[49m\u001b[43m*\u001b[49m\u001b[43margs\u001b[49m\u001b[43m,\u001b[49m\u001b[43m \u001b[49m\u001b[43m*\u001b[49m\u001b[43m*\u001b[49m\u001b[43mkwargs\u001b[49m\u001b[43m)\u001b[49m\n\u001b[32m    366\u001b[39m \u001b[38;5;28;01mif\u001b[39;00m \u001b[38;5;28misinstance\u001b[39m(ret, Runnable) \u001b[38;5;129;01mand\u001b[39;00m \u001b[38;5;28mself\u001b[39m.recurse:\n\u001b[32m    367\u001b[39m     \u001b[38;5;28;01mreturn\u001b[39;00m ret.invoke(\u001b[38;5;28minput\u001b[39m, config)\n",
      "\u001b[36mCell\u001b[39m\u001b[36m \u001b[39m\u001b[32mIn[67]\u001b[39m\u001b[32m, line 36\u001b[39m, in \u001b[36mgenerate\u001b[39m\u001b[34m(state)\u001b[39m\n\u001b[32m     34\u001b[39m \u001b[38;5;28;01mdef\u001b[39;00m \u001b[34mgenerate\u001b[39m(state: State):\n\u001b[32m     35\u001b[39m     docs_content = \u001b[33m\"\u001b[39m\u001b[38;5;130;01m\\n\u001b[39;00m\u001b[38;5;130;01m\\n\u001b[39;00m\u001b[33m\"\u001b[39m.join(doc.page_content \u001b[38;5;28;01mfor\u001b[39;00m doc \u001b[38;5;129;01min\u001b[39;00m state[\u001b[33m\"\u001b[39m\u001b[33mcontext\u001b[39m\u001b[33m\"\u001b[39m])\n\u001b[32m---> \u001b[39m\u001b[32m36\u001b[39m     messages = \u001b[43mqa_pipeline\u001b[49m\u001b[43m(\u001b[49m\u001b[43mquestion\u001b[49m\u001b[43m=\u001b[49m\u001b[43mstate\u001b[49m\u001b[43m[\u001b[49m\u001b[33;43m\"\u001b[39;49m\u001b[33;43mquestion\u001b[39;49m\u001b[33;43m\"\u001b[39;49m\u001b[43m]\u001b[49m\u001b[43m,\u001b[49m\u001b[43m \u001b[49m\u001b[43mcontext\u001b[49m\u001b[43m=\u001b[49m\u001b[43mdocs_content\u001b[49m\u001b[43m)\u001b[49m\n\u001b[32m     37\u001b[39m     response = llm.invoke(messages)\n\u001b[32m     38\u001b[39m     \u001b[38;5;28;01mreturn\u001b[39;00m {\u001b[33m\"\u001b[39m\u001b[33manswer\u001b[39m\u001b[33m\"\u001b[39m: response.content}\n",
      "\u001b[36mFile \u001b[39m\u001b[32m~/miniconda3/lib/python3.12/site-packages/transformers/pipelines/question_answering.py:398\u001b[39m, in \u001b[36mQuestionAnsweringPipeline.__call__\u001b[39m\u001b[34m(self, *args, **kwargs)\u001b[39m\n\u001b[32m    396\u001b[39m examples = \u001b[38;5;28mself\u001b[39m._args_parser(*args, **kwargs)\n\u001b[32m    397\u001b[39m \u001b[38;5;28;01mif\u001b[39;00m \u001b[38;5;28misinstance\u001b[39m(examples, (\u001b[38;5;28mlist\u001b[39m, \u001b[38;5;28mtuple\u001b[39m)) \u001b[38;5;129;01mand\u001b[39;00m \u001b[38;5;28mlen\u001b[39m(examples) == \u001b[32m1\u001b[39m:\n\u001b[32m--> \u001b[39m\u001b[32m398\u001b[39m     \u001b[38;5;28;01mreturn\u001b[39;00m \u001b[38;5;28;43msuper\u001b[39;49m\u001b[43m(\u001b[49m\u001b[43m)\u001b[49m\u001b[43m.\u001b[49m\u001b[34;43m__call__\u001b[39;49m\u001b[43m(\u001b[49m\u001b[43mexamples\u001b[49m\u001b[43m[\u001b[49m\u001b[32;43m0\u001b[39;49m\u001b[43m]\u001b[49m\u001b[43m,\u001b[49m\u001b[43m \u001b[49m\u001b[43m*\u001b[49m\u001b[43m*\u001b[49m\u001b[43mkwargs\u001b[49m\u001b[43m)\u001b[49m\n\u001b[32m    399\u001b[39m \u001b[38;5;28;01mreturn\u001b[39;00m \u001b[38;5;28msuper\u001b[39m().\u001b[34m__call__\u001b[39m(examples, **kwargs)\n",
      "\u001b[36mFile \u001b[39m\u001b[32m~/miniconda3/lib/python3.12/site-packages/transformers/pipelines/base.py:1360\u001b[39m, in \u001b[36mPipeline.__call__\u001b[39m\u001b[34m(self, inputs, num_workers, batch_size, *args, **kwargs)\u001b[39m\n\u001b[32m   1358\u001b[39m     \u001b[38;5;28;01mreturn\u001b[39;00m \u001b[38;5;28mself\u001b[39m.iterate(inputs, preprocess_params, forward_params, postprocess_params)\n\u001b[32m   1359\u001b[39m \u001b[38;5;28;01melif\u001b[39;00m \u001b[38;5;28mself\u001b[39m.framework == \u001b[33m\"\u001b[39m\u001b[33mpt\u001b[39m\u001b[33m\"\u001b[39m \u001b[38;5;129;01mand\u001b[39;00m \u001b[38;5;28misinstance\u001b[39m(\u001b[38;5;28mself\u001b[39m, ChunkPipeline):\n\u001b[32m-> \u001b[39m\u001b[32m1360\u001b[39m     \u001b[38;5;28;01mreturn\u001b[39;00m \u001b[38;5;28;43mnext\u001b[39;49m\u001b[43m(\u001b[49m\n\u001b[32m   1361\u001b[39m \u001b[43m        \u001b[49m\u001b[38;5;28;43miter\u001b[39;49m\u001b[43m(\u001b[49m\n\u001b[32m   1362\u001b[39m \u001b[43m            \u001b[49m\u001b[38;5;28;43mself\u001b[39;49m\u001b[43m.\u001b[49m\u001b[43mget_iterator\u001b[49m\u001b[43m(\u001b[49m\n\u001b[32m   1363\u001b[39m \u001b[43m                \u001b[49m\u001b[43m[\u001b[49m\u001b[43minputs\u001b[49m\u001b[43m]\u001b[49m\u001b[43m,\u001b[49m\u001b[43m \u001b[49m\u001b[43mnum_workers\u001b[49m\u001b[43m,\u001b[49m\u001b[43m \u001b[49m\u001b[43mbatch_size\u001b[49m\u001b[43m,\u001b[49m\u001b[43m \u001b[49m\u001b[43mpreprocess_params\u001b[49m\u001b[43m,\u001b[49m\u001b[43m \u001b[49m\u001b[43mforward_params\u001b[49m\u001b[43m,\u001b[49m\u001b[43m \u001b[49m\u001b[43mpostprocess_params\u001b[49m\n\u001b[32m   1364\u001b[39m \u001b[43m            \u001b[49m\u001b[43m)\u001b[49m\n\u001b[32m   1365\u001b[39m \u001b[43m        \u001b[49m\u001b[43m)\u001b[49m\n\u001b[32m   1366\u001b[39m \u001b[43m    \u001b[49m\u001b[43m)\u001b[49m\n\u001b[32m   1367\u001b[39m \u001b[38;5;28;01melse\u001b[39;00m:\n\u001b[32m   1368\u001b[39m     \u001b[38;5;28;01mreturn\u001b[39;00m \u001b[38;5;28mself\u001b[39m.run_single(inputs, preprocess_params, forward_params, postprocess_params)\n",
      "\u001b[36mFile \u001b[39m\u001b[32m~/miniconda3/lib/python3.12/site-packages/transformers/pipelines/pt_utils.py:124\u001b[39m, in \u001b[36mPipelineIterator.__next__\u001b[39m\u001b[34m(self)\u001b[39m\n\u001b[32m    121\u001b[39m     \u001b[38;5;28;01mreturn\u001b[39;00m \u001b[38;5;28mself\u001b[39m.loader_batch_item()\n\u001b[32m    123\u001b[39m \u001b[38;5;66;03m# We're out of items within a batch\u001b[39;00m\n\u001b[32m--> \u001b[39m\u001b[32m124\u001b[39m item = \u001b[38;5;28;43mnext\u001b[39;49m\u001b[43m(\u001b[49m\u001b[38;5;28;43mself\u001b[39;49m\u001b[43m.\u001b[49m\u001b[43miterator\u001b[49m\u001b[43m)\u001b[49m\n\u001b[32m    125\u001b[39m processed = \u001b[38;5;28mself\u001b[39m.infer(item, **\u001b[38;5;28mself\u001b[39m.params)\n\u001b[32m    126\u001b[39m \u001b[38;5;66;03m# We now have a batch of \"inferred things\".\u001b[39;00m\n",
      "\u001b[36mFile \u001b[39m\u001b[32m~/miniconda3/lib/python3.12/site-packages/transformers/pipelines/pt_utils.py:269\u001b[39m, in \u001b[36mPipelinePackIterator.__next__\u001b[39m\u001b[34m(self)\u001b[39m\n\u001b[32m    266\u001b[39m             \u001b[38;5;28;01mreturn\u001b[39;00m accumulator\n\u001b[32m    268\u001b[39m \u001b[38;5;28;01mwhile\u001b[39;00m \u001b[38;5;129;01mnot\u001b[39;00m is_last:\n\u001b[32m--> \u001b[39m\u001b[32m269\u001b[39m     processed = \u001b[38;5;28mself\u001b[39m.infer(\u001b[38;5;28;43mnext\u001b[39;49m\u001b[43m(\u001b[49m\u001b[38;5;28;43mself\u001b[39;49m\u001b[43m.\u001b[49m\u001b[43miterator\u001b[49m\u001b[43m)\u001b[49m, **\u001b[38;5;28mself\u001b[39m.params)\n\u001b[32m    270\u001b[39m     \u001b[38;5;28;01mif\u001b[39;00m \u001b[38;5;28mself\u001b[39m.loader_batch_size \u001b[38;5;129;01mis\u001b[39;00m \u001b[38;5;129;01mnot\u001b[39;00m \u001b[38;5;28;01mNone\u001b[39;00m:\n\u001b[32m    271\u001b[39m         \u001b[38;5;28;01mif\u001b[39;00m \u001b[38;5;28misinstance\u001b[39m(processed, torch.Tensor):\n",
      "\u001b[36mFile \u001b[39m\u001b[32m~/miniconda3/lib/python3.12/site-packages/torch/utils/data/dataloader.py:708\u001b[39m, in \u001b[36m_BaseDataLoaderIter.__next__\u001b[39m\u001b[34m(self)\u001b[39m\n\u001b[32m    705\u001b[39m \u001b[38;5;28;01mif\u001b[39;00m \u001b[38;5;28mself\u001b[39m._sampler_iter \u001b[38;5;129;01mis\u001b[39;00m \u001b[38;5;28;01mNone\u001b[39;00m:\n\u001b[32m    706\u001b[39m     \u001b[38;5;66;03m# TODO(https://github.com/pytorch/pytorch/issues/76750)\u001b[39;00m\n\u001b[32m    707\u001b[39m     \u001b[38;5;28mself\u001b[39m._reset()  \u001b[38;5;66;03m# type: ignore[call-arg]\u001b[39;00m\n\u001b[32m--> \u001b[39m\u001b[32m708\u001b[39m data = \u001b[38;5;28;43mself\u001b[39;49m\u001b[43m.\u001b[49m\u001b[43m_next_data\u001b[49m\u001b[43m(\u001b[49m\u001b[43m)\u001b[49m\n\u001b[32m    709\u001b[39m \u001b[38;5;28mself\u001b[39m._num_yielded += \u001b[32m1\u001b[39m\n\u001b[32m    710\u001b[39m \u001b[38;5;28;01mif\u001b[39;00m (\n\u001b[32m    711\u001b[39m     \u001b[38;5;28mself\u001b[39m._dataset_kind == _DatasetKind.Iterable\n\u001b[32m    712\u001b[39m     \u001b[38;5;129;01mand\u001b[39;00m \u001b[38;5;28mself\u001b[39m._IterableDataset_len_called \u001b[38;5;129;01mis\u001b[39;00m \u001b[38;5;129;01mnot\u001b[39;00m \u001b[38;5;28;01mNone\u001b[39;00m\n\u001b[32m    713\u001b[39m     \u001b[38;5;129;01mand\u001b[39;00m \u001b[38;5;28mself\u001b[39m._num_yielded > \u001b[38;5;28mself\u001b[39m._IterableDataset_len_called\n\u001b[32m    714\u001b[39m ):\n",
      "\u001b[36mFile \u001b[39m\u001b[32m~/miniconda3/lib/python3.12/site-packages/torch/utils/data/dataloader.py:764\u001b[39m, in \u001b[36m_SingleProcessDataLoaderIter._next_data\u001b[39m\u001b[34m(self)\u001b[39m\n\u001b[32m    762\u001b[39m \u001b[38;5;28;01mdef\u001b[39;00m \u001b[34m_next_data\u001b[39m(\u001b[38;5;28mself\u001b[39m):\n\u001b[32m    763\u001b[39m     index = \u001b[38;5;28mself\u001b[39m._next_index()  \u001b[38;5;66;03m# may raise StopIteration\u001b[39;00m\n\u001b[32m--> \u001b[39m\u001b[32m764\u001b[39m     data = \u001b[38;5;28;43mself\u001b[39;49m\u001b[43m.\u001b[49m\u001b[43m_dataset_fetcher\u001b[49m\u001b[43m.\u001b[49m\u001b[43mfetch\u001b[49m\u001b[43m(\u001b[49m\u001b[43mindex\u001b[49m\u001b[43m)\u001b[49m  \u001b[38;5;66;03m# may raise StopIteration\u001b[39;00m\n\u001b[32m    765\u001b[39m     \u001b[38;5;28;01mif\u001b[39;00m \u001b[38;5;28mself\u001b[39m._pin_memory:\n\u001b[32m    766\u001b[39m         data = _utils.pin_memory.pin_memory(data, \u001b[38;5;28mself\u001b[39m._pin_memory_device)\n",
      "\u001b[36mFile \u001b[39m\u001b[32m~/miniconda3/lib/python3.12/site-packages/torch/utils/data/_utils/fetch.py:33\u001b[39m, in \u001b[36m_IterableDatasetFetcher.fetch\u001b[39m\u001b[34m(self, possibly_batched_index)\u001b[39m\n\u001b[32m     31\u001b[39m \u001b[38;5;28;01mfor\u001b[39;00m _ \u001b[38;5;129;01min\u001b[39;00m possibly_batched_index:\n\u001b[32m     32\u001b[39m     \u001b[38;5;28;01mtry\u001b[39;00m:\n\u001b[32m---> \u001b[39m\u001b[32m33\u001b[39m         data.append(\u001b[38;5;28;43mnext\u001b[39;49m\u001b[43m(\u001b[49m\u001b[38;5;28;43mself\u001b[39;49m\u001b[43m.\u001b[49m\u001b[43mdataset_iter\u001b[49m\u001b[43m)\u001b[49m)\n\u001b[32m     34\u001b[39m     \u001b[38;5;28;01mexcept\u001b[39;00m \u001b[38;5;167;01mStopIteration\u001b[39;00m:\n\u001b[32m     35\u001b[39m         \u001b[38;5;28mself\u001b[39m.ended = \u001b[38;5;28;01mTrue\u001b[39;00m\n",
      "\u001b[36mFile \u001b[39m\u001b[32m~/miniconda3/lib/python3.12/site-packages/transformers/pipelines/pt_utils.py:186\u001b[39m, in \u001b[36mPipelineChunkIterator.__next__\u001b[39m\u001b[34m(self)\u001b[39m\n\u001b[32m    183\u001b[39m     \u001b[38;5;28mself\u001b[39m.subiterator = \u001b[38;5;28mself\u001b[39m.infer(\u001b[38;5;28mnext\u001b[39m(\u001b[38;5;28mself\u001b[39m.iterator), **\u001b[38;5;28mself\u001b[39m.params)\n\u001b[32m    184\u001b[39m \u001b[38;5;28;01mtry\u001b[39;00m:\n\u001b[32m    185\u001b[39m     \u001b[38;5;66;03m# Try to return next item\u001b[39;00m\n\u001b[32m--> \u001b[39m\u001b[32m186\u001b[39m     processed = \u001b[38;5;28;43mnext\u001b[39;49m\u001b[43m(\u001b[49m\u001b[38;5;28;43mself\u001b[39;49m\u001b[43m.\u001b[49m\u001b[43msubiterator\u001b[49m\u001b[43m)\u001b[49m\n\u001b[32m    187\u001b[39m \u001b[38;5;28;01mexcept\u001b[39;00m \u001b[38;5;167;01mStopIteration\u001b[39;00m:\n\u001b[32m    188\u001b[39m     \u001b[38;5;66;03m# When a preprocess iterator ends, we can start lookig at the next item\u001b[39;00m\n\u001b[32m    189\u001b[39m     \u001b[38;5;66;03m# ChunkIterator will keep feeding until ALL elements of iterator\u001b[39;00m\n\u001b[32m   (...)\u001b[39m\u001b[32m    192\u001b[39m     \u001b[38;5;66;03m# Another way to look at it, is we're basically flattening lists of lists\u001b[39;00m\n\u001b[32m    193\u001b[39m     \u001b[38;5;66;03m# into a single list, but with generators\u001b[39;00m\n\u001b[32m    194\u001b[39m     \u001b[38;5;28mself\u001b[39m.subiterator = \u001b[38;5;28mself\u001b[39m.infer(\u001b[38;5;28mnext\u001b[39m(\u001b[38;5;28mself\u001b[39m.iterator), **\u001b[38;5;28mself\u001b[39m.params)\n",
      "\u001b[36mFile \u001b[39m\u001b[32m~/miniconda3/lib/python3.12/site-packages/transformers/pipelines/question_answering.py:431\u001b[39m, in \u001b[36mQuestionAnsweringPipeline.preprocess\u001b[39m\u001b[34m(self, example, padding, doc_stride, max_question_len, max_seq_len)\u001b[39m\n\u001b[32m    427\u001b[39m \u001b[38;5;28;01melse\u001b[39;00m:\n\u001b[32m    428\u001b[39m     \u001b[38;5;66;03m# Define the side we want to truncate / pad and the text/pair sorting\u001b[39;00m\n\u001b[32m    429\u001b[39m     question_first = \u001b[38;5;28mself\u001b[39m.tokenizer.padding_side == \u001b[33m\"\u001b[39m\u001b[33mright\u001b[39m\u001b[33m\"\u001b[39m\n\u001b[32m--> \u001b[39m\u001b[32m431\u001b[39m     encoded_inputs = \u001b[38;5;28;43mself\u001b[39;49m\u001b[43m.\u001b[49m\u001b[43mtokenizer\u001b[49m\u001b[43m(\u001b[49m\n\u001b[32m    432\u001b[39m \u001b[43m        \u001b[49m\u001b[43mtext\u001b[49m\u001b[43m=\u001b[49m\u001b[43mexample\u001b[49m\u001b[43m.\u001b[49m\u001b[43mquestion_text\u001b[49m\u001b[43m \u001b[49m\u001b[38;5;28;43;01mif\u001b[39;49;00m\u001b[43m \u001b[49m\u001b[43mquestion_first\u001b[49m\u001b[43m \u001b[49m\u001b[38;5;28;43;01melse\u001b[39;49;00m\u001b[43m \u001b[49m\u001b[43mexample\u001b[49m\u001b[43m.\u001b[49m\u001b[43mcontext_text\u001b[49m\u001b[43m,\u001b[49m\n\u001b[32m    433\u001b[39m \u001b[43m        \u001b[49m\u001b[43mtext_pair\u001b[49m\u001b[43m=\u001b[49m\u001b[43mexample\u001b[49m\u001b[43m.\u001b[49m\u001b[43mcontext_text\u001b[49m\u001b[43m \u001b[49m\u001b[38;5;28;43;01mif\u001b[39;49;00m\u001b[43m \u001b[49m\u001b[43mquestion_first\u001b[49m\u001b[43m \u001b[49m\u001b[38;5;28;43;01melse\u001b[39;49;00m\u001b[43m \u001b[49m\u001b[43mexample\u001b[49m\u001b[43m.\u001b[49m\u001b[43mquestion_text\u001b[49m\u001b[43m,\u001b[49m\n\u001b[32m    434\u001b[39m \u001b[43m        \u001b[49m\u001b[43mpadding\u001b[49m\u001b[43m=\u001b[49m\u001b[43mpadding\u001b[49m\u001b[43m,\u001b[49m\n\u001b[32m    435\u001b[39m \u001b[43m        \u001b[49m\u001b[43mtruncation\u001b[49m\u001b[43m=\u001b[49m\u001b[33;43m\"\u001b[39;49m\u001b[33;43monly_second\u001b[39;49m\u001b[33;43m\"\u001b[39;49m\u001b[43m \u001b[49m\u001b[38;5;28;43;01mif\u001b[39;49;00m\u001b[43m \u001b[49m\u001b[43mquestion_first\u001b[49m\u001b[43m \u001b[49m\u001b[38;5;28;43;01melse\u001b[39;49;00m\u001b[43m \u001b[49m\u001b[33;43m\"\u001b[39;49m\u001b[33;43monly_first\u001b[39;49m\u001b[33;43m\"\u001b[39;49m\u001b[43m,\u001b[49m\n\u001b[32m    436\u001b[39m \u001b[43m        \u001b[49m\u001b[43mmax_length\u001b[49m\u001b[43m=\u001b[49m\u001b[43mmax_seq_len\u001b[49m\u001b[43m,\u001b[49m\n\u001b[32m    437\u001b[39m \u001b[43m        \u001b[49m\u001b[43mstride\u001b[49m\u001b[43m=\u001b[49m\u001b[43mdoc_stride\u001b[49m\u001b[43m,\u001b[49m\n\u001b[32m    438\u001b[39m \u001b[43m        \u001b[49m\u001b[43mreturn_token_type_ids\u001b[49m\u001b[43m=\u001b[49m\u001b[38;5;28;43;01mTrue\u001b[39;49;00m\u001b[43m,\u001b[49m\n\u001b[32m    439\u001b[39m \u001b[43m        \u001b[49m\u001b[43mreturn_overflowing_tokens\u001b[49m\u001b[43m=\u001b[49m\u001b[38;5;28;43;01mTrue\u001b[39;49;00m\u001b[43m,\u001b[49m\n\u001b[32m    440\u001b[39m \u001b[43m        \u001b[49m\u001b[43mreturn_offsets_mapping\u001b[49m\u001b[43m=\u001b[49m\u001b[38;5;28;43;01mTrue\u001b[39;49;00m\u001b[43m,\u001b[49m\n\u001b[32m    441\u001b[39m \u001b[43m        \u001b[49m\u001b[43mreturn_special_tokens_mask\u001b[49m\u001b[43m=\u001b[49m\u001b[38;5;28;43;01mTrue\u001b[39;49;00m\u001b[43m,\u001b[49m\n\u001b[32m    442\u001b[39m \u001b[43m    \u001b[49m\u001b[43m)\u001b[49m\n\u001b[32m    443\u001b[39m     \u001b[38;5;66;03m# When the input is too long, it's converted in a batch of inputs with overflowing tokens\u001b[39;00m\n\u001b[32m    444\u001b[39m     \u001b[38;5;66;03m# and a stride of overlap between the inputs. If a batch of inputs is given, a special output\u001b[39;00m\n\u001b[32m    445\u001b[39m     \u001b[38;5;66;03m# \"overflow_to_sample_mapping\" indicate which member of the encoded batch belong to which original batch sample.\u001b[39;00m\n\u001b[32m    446\u001b[39m     \u001b[38;5;66;03m# Here we tokenize examples one-by-one so we don't need to use \"overflow_to_sample_mapping\".\u001b[39;00m\n\u001b[32m    447\u001b[39m     \u001b[38;5;66;03m# \"num_span\" is the number of output samples generated from the overflowing tokens.\u001b[39;00m\n\u001b[32m    448\u001b[39m     num_spans = \u001b[38;5;28mlen\u001b[39m(encoded_inputs[\u001b[33m\"\u001b[39m\u001b[33minput_ids\u001b[39m\u001b[33m\"\u001b[39m])\n",
      "\u001b[36mFile \u001b[39m\u001b[32m~/miniconda3/lib/python3.12/site-packages/transformers/tokenization_utils_base.py:2877\u001b[39m, in \u001b[36mPreTrainedTokenizerBase.__call__\u001b[39m\u001b[34m(self, text, text_pair, text_target, text_pair_target, add_special_tokens, padding, truncation, max_length, stride, is_split_into_words, pad_to_multiple_of, padding_side, return_tensors, return_token_type_ids, return_attention_mask, return_overflowing_tokens, return_special_tokens_mask, return_offsets_mapping, return_length, verbose, **kwargs)\u001b[39m\n\u001b[32m   2875\u001b[39m     \u001b[38;5;28;01mif\u001b[39;00m \u001b[38;5;129;01mnot\u001b[39;00m \u001b[38;5;28mself\u001b[39m._in_target_context_manager:\n\u001b[32m   2876\u001b[39m         \u001b[38;5;28mself\u001b[39m._switch_to_input_mode()\n\u001b[32m-> \u001b[39m\u001b[32m2877\u001b[39m     encodings = \u001b[38;5;28;43mself\u001b[39;49m\u001b[43m.\u001b[49m\u001b[43m_call_one\u001b[49m\u001b[43m(\u001b[49m\u001b[43mtext\u001b[49m\u001b[43m=\u001b[49m\u001b[43mtext\u001b[49m\u001b[43m,\u001b[49m\u001b[43m \u001b[49m\u001b[43mtext_pair\u001b[49m\u001b[43m=\u001b[49m\u001b[43mtext_pair\u001b[49m\u001b[43m,\u001b[49m\u001b[43m \u001b[49m\u001b[43m*\u001b[49m\u001b[43m*\u001b[49m\u001b[43mall_kwargs\u001b[49m\u001b[43m)\u001b[49m\n\u001b[32m   2878\u001b[39m \u001b[38;5;28;01mif\u001b[39;00m text_target \u001b[38;5;129;01mis\u001b[39;00m \u001b[38;5;129;01mnot\u001b[39;00m \u001b[38;5;28;01mNone\u001b[39;00m:\n\u001b[32m   2879\u001b[39m     \u001b[38;5;28mself\u001b[39m._switch_to_target_mode()\n",
      "\u001b[36mFile \u001b[39m\u001b[32m~/miniconda3/lib/python3.12/site-packages/transformers/tokenization_utils_base.py:2987\u001b[39m, in \u001b[36mPreTrainedTokenizerBase._call_one\u001b[39m\u001b[34m(self, text, text_pair, add_special_tokens, padding, truncation, max_length, stride, is_split_into_words, pad_to_multiple_of, padding_side, return_tensors, return_token_type_ids, return_attention_mask, return_overflowing_tokens, return_special_tokens_mask, return_offsets_mapping, return_length, verbose, split_special_tokens, **kwargs)\u001b[39m\n\u001b[32m   2965\u001b[39m     \u001b[38;5;28;01mreturn\u001b[39;00m \u001b[38;5;28mself\u001b[39m.batch_encode_plus(\n\u001b[32m   2966\u001b[39m         batch_text_or_text_pairs=batch_text_or_text_pairs,\n\u001b[32m   2967\u001b[39m         add_special_tokens=add_special_tokens,\n\u001b[32m   (...)\u001b[39m\u001b[32m   2984\u001b[39m         **kwargs,\n\u001b[32m   2985\u001b[39m     )\n\u001b[32m   2986\u001b[39m \u001b[38;5;28;01melse\u001b[39;00m:\n\u001b[32m-> \u001b[39m\u001b[32m2987\u001b[39m     \u001b[38;5;28;01mreturn\u001b[39;00m \u001b[38;5;28;43mself\u001b[39;49m\u001b[43m.\u001b[49m\u001b[43mencode_plus\u001b[49m\u001b[43m(\u001b[49m\n\u001b[32m   2988\u001b[39m \u001b[43m        \u001b[49m\u001b[43mtext\u001b[49m\u001b[43m=\u001b[49m\u001b[43mtext\u001b[49m\u001b[43m,\u001b[49m\n\u001b[32m   2989\u001b[39m \u001b[43m        \u001b[49m\u001b[43mtext_pair\u001b[49m\u001b[43m=\u001b[49m\u001b[43mtext_pair\u001b[49m\u001b[43m,\u001b[49m\n\u001b[32m   2990\u001b[39m \u001b[43m        \u001b[49m\u001b[43madd_special_tokens\u001b[49m\u001b[43m=\u001b[49m\u001b[43madd_special_tokens\u001b[49m\u001b[43m,\u001b[49m\n\u001b[32m   2991\u001b[39m \u001b[43m        \u001b[49m\u001b[43mpadding\u001b[49m\u001b[43m=\u001b[49m\u001b[43mpadding\u001b[49m\u001b[43m,\u001b[49m\n\u001b[32m   2992\u001b[39m \u001b[43m        \u001b[49m\u001b[43mtruncation\u001b[49m\u001b[43m=\u001b[49m\u001b[43mtruncation\u001b[49m\u001b[43m,\u001b[49m\n\u001b[32m   2993\u001b[39m \u001b[43m        \u001b[49m\u001b[43mmax_length\u001b[49m\u001b[43m=\u001b[49m\u001b[43mmax_length\u001b[49m\u001b[43m,\u001b[49m\n\u001b[32m   2994\u001b[39m \u001b[43m        \u001b[49m\u001b[43mstride\u001b[49m\u001b[43m=\u001b[49m\u001b[43mstride\u001b[49m\u001b[43m,\u001b[49m\n\u001b[32m   2995\u001b[39m \u001b[43m        \u001b[49m\u001b[43mis_split_into_words\u001b[49m\u001b[43m=\u001b[49m\u001b[43mis_split_into_words\u001b[49m\u001b[43m,\u001b[49m\n\u001b[32m   2996\u001b[39m \u001b[43m        \u001b[49m\u001b[43mpad_to_multiple_of\u001b[49m\u001b[43m=\u001b[49m\u001b[43mpad_to_multiple_of\u001b[49m\u001b[43m,\u001b[49m\n\u001b[32m   2997\u001b[39m \u001b[43m        \u001b[49m\u001b[43mpadding_side\u001b[49m\u001b[43m=\u001b[49m\u001b[43mpadding_side\u001b[49m\u001b[43m,\u001b[49m\n\u001b[32m   2998\u001b[39m \u001b[43m        \u001b[49m\u001b[43mreturn_tensors\u001b[49m\u001b[43m=\u001b[49m\u001b[43mreturn_tensors\u001b[49m\u001b[43m,\u001b[49m\n\u001b[32m   2999\u001b[39m \u001b[43m        \u001b[49m\u001b[43mreturn_token_type_ids\u001b[49m\u001b[43m=\u001b[49m\u001b[43mreturn_token_type_ids\u001b[49m\u001b[43m,\u001b[49m\n\u001b[32m   3000\u001b[39m \u001b[43m        \u001b[49m\u001b[43mreturn_attention_mask\u001b[49m\u001b[43m=\u001b[49m\u001b[43mreturn_attention_mask\u001b[49m\u001b[43m,\u001b[49m\n\u001b[32m   3001\u001b[39m \u001b[43m        \u001b[49m\u001b[43mreturn_overflowing_tokens\u001b[49m\u001b[43m=\u001b[49m\u001b[43mreturn_overflowing_tokens\u001b[49m\u001b[43m,\u001b[49m\n\u001b[32m   3002\u001b[39m \u001b[43m        \u001b[49m\u001b[43mreturn_special_tokens_mask\u001b[49m\u001b[43m=\u001b[49m\u001b[43mreturn_special_tokens_mask\u001b[49m\u001b[43m,\u001b[49m\n\u001b[32m   3003\u001b[39m \u001b[43m        \u001b[49m\u001b[43mreturn_offsets_mapping\u001b[49m\u001b[43m=\u001b[49m\u001b[43mreturn_offsets_mapping\u001b[49m\u001b[43m,\u001b[49m\n\u001b[32m   3004\u001b[39m \u001b[43m        \u001b[49m\u001b[43mreturn_length\u001b[49m\u001b[43m=\u001b[49m\u001b[43mreturn_length\u001b[49m\u001b[43m,\u001b[49m\n\u001b[32m   3005\u001b[39m \u001b[43m        \u001b[49m\u001b[43mverbose\u001b[49m\u001b[43m=\u001b[49m\u001b[43mverbose\u001b[49m\u001b[43m,\u001b[49m\n\u001b[32m   3006\u001b[39m \u001b[43m        \u001b[49m\u001b[43msplit_special_tokens\u001b[49m\u001b[43m=\u001b[49m\u001b[43msplit_special_tokens\u001b[49m\u001b[43m,\u001b[49m\n\u001b[32m   3007\u001b[39m \u001b[43m        \u001b[49m\u001b[43m*\u001b[49m\u001b[43m*\u001b[49m\u001b[43mkwargs\u001b[49m\u001b[43m,\u001b[49m\n\u001b[32m   3008\u001b[39m \u001b[43m    \u001b[49m\u001b[43m)\u001b[49m\n",
      "\u001b[36mFile \u001b[39m\u001b[32m~/miniconda3/lib/python3.12/site-packages/transformers/tokenization_utils_base.py:3063\u001b[39m, in \u001b[36mPreTrainedTokenizerBase.encode_plus\u001b[39m\u001b[34m(self, text, text_pair, add_special_tokens, padding, truncation, max_length, stride, is_split_into_words, pad_to_multiple_of, padding_side, return_tensors, return_token_type_ids, return_attention_mask, return_overflowing_tokens, return_special_tokens_mask, return_offsets_mapping, return_length, verbose, **kwargs)\u001b[39m\n\u001b[32m   3053\u001b[39m \u001b[38;5;66;03m# Backward compatibility for 'truncation_strategy', 'pad_to_max_length'\u001b[39;00m\n\u001b[32m   3054\u001b[39m padding_strategy, truncation_strategy, max_length, kwargs = \u001b[38;5;28mself\u001b[39m._get_padding_truncation_strategies(\n\u001b[32m   3055\u001b[39m     padding=padding,\n\u001b[32m   3056\u001b[39m     truncation=truncation,\n\u001b[32m   (...)\u001b[39m\u001b[32m   3060\u001b[39m     **kwargs,\n\u001b[32m   3061\u001b[39m )\n\u001b[32m-> \u001b[39m\u001b[32m3063\u001b[39m \u001b[38;5;28;01mreturn\u001b[39;00m \u001b[38;5;28;43mself\u001b[39;49m\u001b[43m.\u001b[49m\u001b[43m_encode_plus\u001b[49m\u001b[43m(\u001b[49m\n\u001b[32m   3064\u001b[39m \u001b[43m    \u001b[49m\u001b[43mtext\u001b[49m\u001b[43m=\u001b[49m\u001b[43mtext\u001b[49m\u001b[43m,\u001b[49m\n\u001b[32m   3065\u001b[39m \u001b[43m    \u001b[49m\u001b[43mtext_pair\u001b[49m\u001b[43m=\u001b[49m\u001b[43mtext_pair\u001b[49m\u001b[43m,\u001b[49m\n\u001b[32m   3066\u001b[39m \u001b[43m    \u001b[49m\u001b[43madd_special_tokens\u001b[49m\u001b[43m=\u001b[49m\u001b[43madd_special_tokens\u001b[49m\u001b[43m,\u001b[49m\n\u001b[32m   3067\u001b[39m \u001b[43m    \u001b[49m\u001b[43mpadding_strategy\u001b[49m\u001b[43m=\u001b[49m\u001b[43mpadding_strategy\u001b[49m\u001b[43m,\u001b[49m\n\u001b[32m   3068\u001b[39m \u001b[43m    \u001b[49m\u001b[43mtruncation_strategy\u001b[49m\u001b[43m=\u001b[49m\u001b[43mtruncation_strategy\u001b[49m\u001b[43m,\u001b[49m\n\u001b[32m   3069\u001b[39m \u001b[43m    \u001b[49m\u001b[43mmax_length\u001b[49m\u001b[43m=\u001b[49m\u001b[43mmax_length\u001b[49m\u001b[43m,\u001b[49m\n\u001b[32m   3070\u001b[39m \u001b[43m    \u001b[49m\u001b[43mstride\u001b[49m\u001b[43m=\u001b[49m\u001b[43mstride\u001b[49m\u001b[43m,\u001b[49m\n\u001b[32m   3071\u001b[39m \u001b[43m    \u001b[49m\u001b[43mis_split_into_words\u001b[49m\u001b[43m=\u001b[49m\u001b[43mis_split_into_words\u001b[49m\u001b[43m,\u001b[49m\n\u001b[32m   3072\u001b[39m \u001b[43m    \u001b[49m\u001b[43mpad_to_multiple_of\u001b[49m\u001b[43m=\u001b[49m\u001b[43mpad_to_multiple_of\u001b[49m\u001b[43m,\u001b[49m\n\u001b[32m   3073\u001b[39m \u001b[43m    \u001b[49m\u001b[43mpadding_side\u001b[49m\u001b[43m=\u001b[49m\u001b[43mpadding_side\u001b[49m\u001b[43m,\u001b[49m\n\u001b[32m   3074\u001b[39m \u001b[43m    \u001b[49m\u001b[43mreturn_tensors\u001b[49m\u001b[43m=\u001b[49m\u001b[43mreturn_tensors\u001b[49m\u001b[43m,\u001b[49m\n\u001b[32m   3075\u001b[39m \u001b[43m    \u001b[49m\u001b[43mreturn_token_type_ids\u001b[49m\u001b[43m=\u001b[49m\u001b[43mreturn_token_type_ids\u001b[49m\u001b[43m,\u001b[49m\n\u001b[32m   3076\u001b[39m \u001b[43m    \u001b[49m\u001b[43mreturn_attention_mask\u001b[49m\u001b[43m=\u001b[49m\u001b[43mreturn_attention_mask\u001b[49m\u001b[43m,\u001b[49m\n\u001b[32m   3077\u001b[39m \u001b[43m    \u001b[49m\u001b[43mreturn_overflowing_tokens\u001b[49m\u001b[43m=\u001b[49m\u001b[43mreturn_overflowing_tokens\u001b[49m\u001b[43m,\u001b[49m\n\u001b[32m   3078\u001b[39m \u001b[43m    \u001b[49m\u001b[43mreturn_special_tokens_mask\u001b[49m\u001b[43m=\u001b[49m\u001b[43mreturn_special_tokens_mask\u001b[49m\u001b[43m,\u001b[49m\n\u001b[32m   3079\u001b[39m \u001b[43m    \u001b[49m\u001b[43mreturn_offsets_mapping\u001b[49m\u001b[43m=\u001b[49m\u001b[43mreturn_offsets_mapping\u001b[49m\u001b[43m,\u001b[49m\n\u001b[32m   3080\u001b[39m \u001b[43m    \u001b[49m\u001b[43mreturn_length\u001b[49m\u001b[43m=\u001b[49m\u001b[43mreturn_length\u001b[49m\u001b[43m,\u001b[49m\n\u001b[32m   3081\u001b[39m \u001b[43m    \u001b[49m\u001b[43mverbose\u001b[49m\u001b[43m=\u001b[49m\u001b[43mverbose\u001b[49m\u001b[43m,\u001b[49m\n\u001b[32m   3082\u001b[39m \u001b[43m    \u001b[49m\u001b[43msplit_special_tokens\u001b[49m\u001b[43m=\u001b[49m\u001b[43mkwargs\u001b[49m\u001b[43m.\u001b[49m\u001b[43mpop\u001b[49m\u001b[43m(\u001b[49m\u001b[33;43m\"\u001b[39;49m\u001b[33;43msplit_special_tokens\u001b[39;49m\u001b[33;43m\"\u001b[39;49m\u001b[43m,\u001b[49m\u001b[43m \u001b[49m\u001b[38;5;28;43mself\u001b[39;49m\u001b[43m.\u001b[49m\u001b[43msplit_special_tokens\u001b[49m\u001b[43m)\u001b[49m\u001b[43m,\u001b[49m\n\u001b[32m   3083\u001b[39m \u001b[43m    \u001b[49m\u001b[43m*\u001b[49m\u001b[43m*\u001b[49m\u001b[43mkwargs\u001b[49m\u001b[43m,\u001b[49m\n\u001b[32m   3084\u001b[39m \u001b[43m\u001b[49m\u001b[43m)\u001b[49m\n",
      "\u001b[36mFile \u001b[39m\u001b[32m~/miniconda3/lib/python3.12/site-packages/transformers/models/longformer/tokenization_longformer_fast.py:228\u001b[39m, in \u001b[36mLongformerTokenizerFast._encode_plus\u001b[39m\u001b[34m(self, *args, **kwargs)\u001b[39m\n\u001b[32m    221\u001b[39m is_split_into_words = kwargs.get(\u001b[33m\"\u001b[39m\u001b[33mis_split_into_words\u001b[39m\u001b[33m\"\u001b[39m, \u001b[38;5;28;01mFalse\u001b[39;00m)\n\u001b[32m    223\u001b[39m \u001b[38;5;28;01massert\u001b[39;00m \u001b[38;5;28mself\u001b[39m.add_prefix_space \u001b[38;5;129;01mor\u001b[39;00m \u001b[38;5;129;01mnot\u001b[39;00m is_split_into_words, (\n\u001b[32m    224\u001b[39m     \u001b[33mf\u001b[39m\u001b[33m\"\u001b[39m\u001b[33mYou need to instantiate \u001b[39m\u001b[38;5;132;01m{\u001b[39;00m\u001b[38;5;28mself\u001b[39m.\u001b[34m__class__\u001b[39m.\u001b[34m__name__\u001b[39m\u001b[38;5;132;01m}\u001b[39;00m\u001b[33m with add_prefix_space=True \u001b[39m\u001b[33m\"\u001b[39m\n\u001b[32m    225\u001b[39m     \u001b[33m\"\u001b[39m\u001b[33mto use it with pretokenized inputs.\u001b[39m\u001b[33m\"\u001b[39m\n\u001b[32m    226\u001b[39m )\n\u001b[32m--> \u001b[39m\u001b[32m228\u001b[39m \u001b[38;5;28;01mreturn\u001b[39;00m \u001b[38;5;28;43msuper\u001b[39;49m\u001b[43m(\u001b[49m\u001b[43m)\u001b[49m\u001b[43m.\u001b[49m\u001b[43m_encode_plus\u001b[49m\u001b[43m(\u001b[49m\u001b[43m*\u001b[49m\u001b[43margs\u001b[49m\u001b[43m,\u001b[49m\u001b[43m \u001b[49m\u001b[43m*\u001b[49m\u001b[43m*\u001b[49m\u001b[43mkwargs\u001b[49m\u001b[43m)\u001b[49m\n",
      "\u001b[36mFile \u001b[39m\u001b[32m~/miniconda3/lib/python3.12/site-packages/transformers/tokenization_utils_fast.py:613\u001b[39m, in \u001b[36mPreTrainedTokenizerFast._encode_plus\u001b[39m\u001b[34m(self, text, text_pair, add_special_tokens, padding_strategy, truncation_strategy, max_length, stride, is_split_into_words, pad_to_multiple_of, padding_side, return_tensors, return_token_type_ids, return_attention_mask, return_overflowing_tokens, return_special_tokens_mask, return_offsets_mapping, return_length, verbose, split_special_tokens, **kwargs)\u001b[39m\n\u001b[32m    589\u001b[39m \u001b[38;5;28;01mdef\u001b[39;00m \u001b[34m_encode_plus\u001b[39m(\n\u001b[32m    590\u001b[39m     \u001b[38;5;28mself\u001b[39m,\n\u001b[32m    591\u001b[39m     text: Union[TextInput, PreTokenizedInput],\n\u001b[32m   (...)\u001b[39m\u001b[32m    610\u001b[39m     **kwargs,\n\u001b[32m    611\u001b[39m ) -> BatchEncoding:\n\u001b[32m    612\u001b[39m     batched_input = [(text, text_pair)] \u001b[38;5;28;01mif\u001b[39;00m text_pair \u001b[38;5;28;01melse\u001b[39;00m [text]\n\u001b[32m--> \u001b[39m\u001b[32m613\u001b[39m     batched_output = \u001b[38;5;28;43mself\u001b[39;49m\u001b[43m.\u001b[49m\u001b[43m_batch_encode_plus\u001b[49m\u001b[43m(\u001b[49m\n\u001b[32m    614\u001b[39m \u001b[43m        \u001b[49m\u001b[43mbatched_input\u001b[49m\u001b[43m,\u001b[49m\n\u001b[32m    615\u001b[39m \u001b[43m        \u001b[49m\u001b[43mis_split_into_words\u001b[49m\u001b[43m=\u001b[49m\u001b[43mis_split_into_words\u001b[49m\u001b[43m,\u001b[49m\n\u001b[32m    616\u001b[39m \u001b[43m        \u001b[49m\u001b[43madd_special_tokens\u001b[49m\u001b[43m=\u001b[49m\u001b[43madd_special_tokens\u001b[49m\u001b[43m,\u001b[49m\n\u001b[32m    617\u001b[39m \u001b[43m        \u001b[49m\u001b[43mpadding_strategy\u001b[49m\u001b[43m=\u001b[49m\u001b[43mpadding_strategy\u001b[49m\u001b[43m,\u001b[49m\n\u001b[32m    618\u001b[39m \u001b[43m        \u001b[49m\u001b[43mtruncation_strategy\u001b[49m\u001b[43m=\u001b[49m\u001b[43mtruncation_strategy\u001b[49m\u001b[43m,\u001b[49m\n\u001b[32m    619\u001b[39m \u001b[43m        \u001b[49m\u001b[43mmax_length\u001b[49m\u001b[43m=\u001b[49m\u001b[43mmax_length\u001b[49m\u001b[43m,\u001b[49m\n\u001b[32m    620\u001b[39m \u001b[43m        \u001b[49m\u001b[43mstride\u001b[49m\u001b[43m=\u001b[49m\u001b[43mstride\u001b[49m\u001b[43m,\u001b[49m\n\u001b[32m    621\u001b[39m \u001b[43m        \u001b[49m\u001b[43mpad_to_multiple_of\u001b[49m\u001b[43m=\u001b[49m\u001b[43mpad_to_multiple_of\u001b[49m\u001b[43m,\u001b[49m\n\u001b[32m    622\u001b[39m \u001b[43m        \u001b[49m\u001b[43mpadding_side\u001b[49m\u001b[43m=\u001b[49m\u001b[43mpadding_side\u001b[49m\u001b[43m,\u001b[49m\n\u001b[32m    623\u001b[39m \u001b[43m        \u001b[49m\u001b[43mreturn_tensors\u001b[49m\u001b[43m=\u001b[49m\u001b[43mreturn_tensors\u001b[49m\u001b[43m,\u001b[49m\n\u001b[32m    624\u001b[39m \u001b[43m        \u001b[49m\u001b[43mreturn_token_type_ids\u001b[49m\u001b[43m=\u001b[49m\u001b[43mreturn_token_type_ids\u001b[49m\u001b[43m,\u001b[49m\n\u001b[32m    625\u001b[39m \u001b[43m        \u001b[49m\u001b[43mreturn_attention_mask\u001b[49m\u001b[43m=\u001b[49m\u001b[43mreturn_attention_mask\u001b[49m\u001b[43m,\u001b[49m\n\u001b[32m    626\u001b[39m \u001b[43m        \u001b[49m\u001b[43mreturn_overflowing_tokens\u001b[49m\u001b[43m=\u001b[49m\u001b[43mreturn_overflowing_tokens\u001b[49m\u001b[43m,\u001b[49m\n\u001b[32m    627\u001b[39m \u001b[43m        \u001b[49m\u001b[43mreturn_special_tokens_mask\u001b[49m\u001b[43m=\u001b[49m\u001b[43mreturn_special_tokens_mask\u001b[49m\u001b[43m,\u001b[49m\n\u001b[32m    628\u001b[39m \u001b[43m        \u001b[49m\u001b[43mreturn_offsets_mapping\u001b[49m\u001b[43m=\u001b[49m\u001b[43mreturn_offsets_mapping\u001b[49m\u001b[43m,\u001b[49m\n\u001b[32m    629\u001b[39m \u001b[43m        \u001b[49m\u001b[43mreturn_length\u001b[49m\u001b[43m=\u001b[49m\u001b[43mreturn_length\u001b[49m\u001b[43m,\u001b[49m\n\u001b[32m    630\u001b[39m \u001b[43m        \u001b[49m\u001b[43mverbose\u001b[49m\u001b[43m=\u001b[49m\u001b[43mverbose\u001b[49m\u001b[43m,\u001b[49m\n\u001b[32m    631\u001b[39m \u001b[43m        \u001b[49m\u001b[43msplit_special_tokens\u001b[49m\u001b[43m=\u001b[49m\u001b[43msplit_special_tokens\u001b[49m\u001b[43m,\u001b[49m\n\u001b[32m    632\u001b[39m \u001b[43m        \u001b[49m\u001b[43m*\u001b[49m\u001b[43m*\u001b[49m\u001b[43mkwargs\u001b[49m\u001b[43m,\u001b[49m\n\u001b[32m    633\u001b[39m \u001b[43m    \u001b[49m\u001b[43m)\u001b[49m\n\u001b[32m    635\u001b[39m     \u001b[38;5;66;03m# Return tensor is None, then we can remove the leading batch axis\u001b[39;00m\n\u001b[32m    636\u001b[39m     \u001b[38;5;66;03m# Overflowing tokens are returned as a batch of output so we keep them in this case\u001b[39;00m\n\u001b[32m    637\u001b[39m     \u001b[38;5;28;01mif\u001b[39;00m return_tensors \u001b[38;5;129;01mis\u001b[39;00m \u001b[38;5;28;01mNone\u001b[39;00m \u001b[38;5;129;01mand\u001b[39;00m \u001b[38;5;129;01mnot\u001b[39;00m return_overflowing_tokens:\n",
      "\u001b[36mFile \u001b[39m\u001b[32m~/miniconda3/lib/python3.12/site-packages/transformers/models/longformer/tokenization_longformer_fast.py:218\u001b[39m, in \u001b[36mLongformerTokenizerFast._batch_encode_plus\u001b[39m\u001b[34m(self, *args, **kwargs)\u001b[39m\n\u001b[32m    212\u001b[39m is_split_into_words = kwargs.get(\u001b[33m\"\u001b[39m\u001b[33mis_split_into_words\u001b[39m\u001b[33m\"\u001b[39m, \u001b[38;5;28;01mFalse\u001b[39;00m)\n\u001b[32m    213\u001b[39m \u001b[38;5;28;01massert\u001b[39;00m \u001b[38;5;28mself\u001b[39m.add_prefix_space \u001b[38;5;129;01mor\u001b[39;00m \u001b[38;5;129;01mnot\u001b[39;00m is_split_into_words, (\n\u001b[32m    214\u001b[39m     \u001b[33mf\u001b[39m\u001b[33m\"\u001b[39m\u001b[33mYou need to instantiate \u001b[39m\u001b[38;5;132;01m{\u001b[39;00m\u001b[38;5;28mself\u001b[39m.\u001b[34m__class__\u001b[39m.\u001b[34m__name__\u001b[39m\u001b[38;5;132;01m}\u001b[39;00m\u001b[33m with add_prefix_space=True \u001b[39m\u001b[33m\"\u001b[39m\n\u001b[32m    215\u001b[39m     \u001b[33m\"\u001b[39m\u001b[33mto use it with pretokenized inputs.\u001b[39m\u001b[33m\"\u001b[39m\n\u001b[32m    216\u001b[39m )\n\u001b[32m--> \u001b[39m\u001b[32m218\u001b[39m \u001b[38;5;28;01mreturn\u001b[39;00m \u001b[38;5;28;43msuper\u001b[39;49m\u001b[43m(\u001b[49m\u001b[43m)\u001b[49m\u001b[43m.\u001b[49m\u001b[43m_batch_encode_plus\u001b[49m\u001b[43m(\u001b[49m\u001b[43m*\u001b[49m\u001b[43margs\u001b[49m\u001b[43m,\u001b[49m\u001b[43m \u001b[49m\u001b[43m*\u001b[49m\u001b[43m*\u001b[49m\u001b[43mkwargs\u001b[49m\u001b[43m)\u001b[49m\n",
      "\u001b[36mFile \u001b[39m\u001b[32m~/miniconda3/lib/python3.12/site-packages/transformers/tokenization_utils_fast.py:539\u001b[39m, in \u001b[36mPreTrainedTokenizerFast._batch_encode_plus\u001b[39m\u001b[34m(self, batch_text_or_text_pairs, add_special_tokens, padding_strategy, truncation_strategy, max_length, stride, is_split_into_words, pad_to_multiple_of, padding_side, return_tensors, return_token_type_ids, return_attention_mask, return_overflowing_tokens, return_special_tokens_mask, return_offsets_mapping, return_length, verbose, split_special_tokens)\u001b[39m\n\u001b[32m    536\u001b[39m \u001b[38;5;28;01mif\u001b[39;00m \u001b[38;5;28mself\u001b[39m._tokenizer.encode_special_tokens != split_special_tokens:\n\u001b[32m    537\u001b[39m     \u001b[38;5;28mself\u001b[39m._tokenizer.encode_special_tokens = split_special_tokens\n\u001b[32m--> \u001b[39m\u001b[32m539\u001b[39m encodings = \u001b[38;5;28;43mself\u001b[39;49m\u001b[43m.\u001b[49m\u001b[43m_tokenizer\u001b[49m\u001b[43m.\u001b[49m\u001b[43mencode_batch\u001b[49m\u001b[43m(\u001b[49m\n\u001b[32m    540\u001b[39m \u001b[43m    \u001b[49m\u001b[43mbatch_text_or_text_pairs\u001b[49m\u001b[43m,\u001b[49m\n\u001b[32m    541\u001b[39m \u001b[43m    \u001b[49m\u001b[43madd_special_tokens\u001b[49m\u001b[43m=\u001b[49m\u001b[43madd_special_tokens\u001b[49m\u001b[43m,\u001b[49m\n\u001b[32m    542\u001b[39m \u001b[43m    \u001b[49m\u001b[43mis_pretokenized\u001b[49m\u001b[43m=\u001b[49m\u001b[43mis_split_into_words\u001b[49m\u001b[43m,\u001b[49m\n\u001b[32m    543\u001b[39m \u001b[43m\u001b[49m\u001b[43m)\u001b[49m\n\u001b[32m    545\u001b[39m \u001b[38;5;66;03m# Convert encoding to dict\u001b[39;00m\n\u001b[32m    546\u001b[39m \u001b[38;5;66;03m# `Tokens` has type: Tuple[\u001b[39;00m\n\u001b[32m    547\u001b[39m \u001b[38;5;66;03m#                       List[Dict[str, List[List[int]]]] or List[Dict[str, 2D-Tensor]],\u001b[39;00m\n\u001b[32m    548\u001b[39m \u001b[38;5;66;03m#                       List[EncodingFast]\u001b[39;00m\n\u001b[32m    549\u001b[39m \u001b[38;5;66;03m#                    ]\u001b[39;00m\n\u001b[32m    550\u001b[39m \u001b[38;5;66;03m# with nested dimensions corresponding to batch, overflows, sequence length\u001b[39;00m\n\u001b[32m    551\u001b[39m tokens_and_encodings = [\n\u001b[32m    552\u001b[39m     \u001b[38;5;28mself\u001b[39m._convert_encoding(\n\u001b[32m    553\u001b[39m         encoding=encoding,\n\u001b[32m   (...)\u001b[39m\u001b[32m    562\u001b[39m     \u001b[38;5;28;01mfor\u001b[39;00m encoding \u001b[38;5;129;01min\u001b[39;00m encodings\n\u001b[32m    563\u001b[39m ]\n",
      "\u001b[31mPanicException\u001b[39m: `stride` must be strictly less than `max_len=59` (note that `max_len` may be shorter than the max length of the original model, as it subtracts the number of special characters"
     ]
    }
   ],
   "source": [
    "for step in graph.stream(\n",
    "    {\"question\": question},\n",
    "    stream_mode=\"updates\",\n",
    "):\n",
    "    print(f\"{step}\\n\\n----------------\\n\")"
   ]
  }
 ],
 "metadata": {
  "kernelspec": {
   "display_name": "base",
   "language": "python",
   "name": "python3"
  },
  "language_info": {
   "codemirror_mode": {
    "name": "ipython",
    "version": 3
   },
   "file_extension": ".py",
   "mimetype": "text/x-python",
   "name": "python",
   "nbconvert_exporter": "python",
   "pygments_lexer": "ipython3",
   "version": "3.12.9"
  }
 },
 "nbformat": 4,
 "nbformat_minor": 2
}
