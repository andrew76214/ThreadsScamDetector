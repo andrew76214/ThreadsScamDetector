{
 "cells": [
  {
   "cell_type": "markdown",
   "metadata": {},
   "source": [
    "<img src=\"./img/training_step.png\", width=320, height=240>\n",
    "![jupyter](./img/training_step.png)"
   ]
  },
  {
   "cell_type": "code",
   "execution_count": 1,
   "metadata": {},
   "outputs": [
    {
     "name": "stderr",
     "output_type": "stream",
     "text": [
      "/home/ollama_platform/TaiwanScamDetect/Agentic_AI/v1/config.py:10: LangChainDeprecationWarning: The class `ChatOllama` was deprecated in LangChain 0.3.1 and will be removed in 1.0.0. An updated version of the class exists in the :class:`~langchain-ollama package and should be used instead. To use it run `pip install -U :class:`~langchain-ollama` and import as `from :class:`~langchain_ollama import ChatOllama``.\n",
      "  LOCAL_LLM = ChatOllama(model=\"llama3.2:3b\", format=\"json\", temperature=0.7)\n"
     ]
    }
   ],
   "source": [
    "import time\n",
    "\n",
    "from data_loader import data_loader\n",
    "from agents import judge, coordinator\n",
    "\n",
    "from langchain_core.output_parsers import StrOutputParser, JsonOutputParser"
   ]
  },
  {
   "cell_type": "code",
   "execution_count": 2,
   "metadata": {},
   "outputs": [],
   "source": [
    "data_loader = data_loader(\"work\")\n",
    "input_post = data_loader.load()"
   ]
  },
  {
   "cell_type": "code",
   "execution_count": 3,
   "metadata": {},
   "outputs": [
    {
     "data": {
      "text/plain": [
       "33"
      ]
     },
     "execution_count": 3,
     "metadata": {},
     "output_type": "execute_result"
    }
   ],
   "source": [
    "len(input_post[\"thread\"])"
   ]
  },
  {
   "cell_type": "code",
   "execution_count": 4,
   "metadata": {},
   "outputs": [
    {
     "data": {
      "text/plain": [
       "{'text': '我們這邊有缺呦womanraisinghandlightskintone在家工作輕鬆賺飽飽',\n",
       " 'published_on': 1730169637,\n",
       " 'id': '3489238272088311481_59587263059',\n",
       " 'pk': '3489238272088311481',\n",
       " 'code': 'DBsQ7jAhYa5',\n",
       " 'username': '_hanyu.tw_',\n",
       " 'user_pic': 'https://scontent-iad3-2.cdninstagram.com/v/t51.2885-19/460445294_527558519683104_1772674897558227037_n.jpg?stp=dst-jpg_s150x150_tt6&_nc_ht=scontent-iad3-2.cdninstagram.com&_nc_cat=100&_nc_ohc=MwrOADySgPwQ7kNvgFUNVXq&_nc_gid=52a08d693151497ab0ea6af3deddb4f0&edm=APs17CUBAAAA&ccb=7-5&oh=00_AYAS-Ed40OykHK0XEKzUvpxIZKCNn_ACR7VK8VX6H2WBLw&oe=675B4B5D&_nc_sid=10d13b',\n",
       " 'user_verified': False,\n",
       " 'user_pk': '59587263059',\n",
       " 'user_id': '59587263059',\n",
       " 'has_audio': None,\n",
       " 'reply_count': 0,\n",
       " 'like_count': 0,\n",
       " 'images': None,\n",
       " 'image_count': None,\n",
       " 'videos': None,\n",
       " 'url': 'https://www.threads.net/@_hanyu.tw_/post/DBsQ7jAhYa5',\n",
       " 'label': 1}"
      ]
     },
     "execution_count": 4,
     "metadata": {},
     "output_type": "execute_result"
    }
   ],
   "source": [
    "input_post[\"thread\"][0]"
   ]
  },
  {
   "cell_type": "code",
   "execution_count": 5,
   "metadata": {},
   "outputs": [
    {
     "name": "stdout",
     "output_type": "stream",
     "text": [
      "{'button': '否', 'reason': '因為文字中沒有明確提到任何詐騙的行為，僅描述了一個工作機會'}\n",
      "<class 'dict'>\n"
     ]
    }
   ],
   "source": [
    "time.sleep(3) # Sleep for 3 seconds\n",
    "judge_1 = judge(\"這是詐騙嗎？\", input_post[\"thread\"][0][\"text\"])\n",
    "judge_1_response = judge_1.response()\n",
    "time.sleep(3) # Sleep for 3 seconds"
   ]
  },
  {
   "cell_type": "code",
   "execution_count": 6,
   "metadata": {},
   "outputs": [
    {
     "name": "stdout",
     "output_type": "stream",
     "text": [
      "{'button': '否', 'reason': '因為這個文字描述的是一個人在家工作，沒有任何詐騙的行為或暗示'}\n",
      "<class 'dict'>\n"
     ]
    }
   ],
   "source": [
    "judge_2 = judge(\"這是詐騙嗎？\", input_post[\"thread\"][0][\"text\"])\n",
    "judge_2_response = judge_2.response()\n",
    "time.sleep(6) # Sleep for 3 seconds"
   ]
  },
  {
   "cell_type": "code",
   "execution_count": 7,
   "metadata": {},
   "outputs": [
    {
     "name": "stdout",
     "output_type": "stream",
     "text": [
      "因為文字中沒有明確提到任何詐騙的行為僅描述了一個工作機會\n",
      "{'button': '否', 'reason': '因為這個文字僅描述了一個工作機會，沒有任何詐騙的行為或暗示'}\n",
      "<class 'dict'>\n"
     ]
    },
    {
     "data": {
      "text/plain": [
       "'因為這個文字僅描述了一個工作機會沒有任何詐騙的行為或暗示'"
      ]
     },
     "execution_count": 7,
     "metadata": {},
     "output_type": "execute_result"
    }
   ],
   "source": [
    "coordinator = coordinator([judge_1_response, judge_2_response], \"這是詐騙嗎？\", input_post[\"thread\"][0][\"text\"])\n",
    "coordinator_summary = coordinator.response()\n",
    "coordinator_summary"
   ]
  }
 ],
 "metadata": {
  "kernelspec": {
   "display_name": "AgenticRAG",
   "language": "python",
   "name": "python3"
  },
  "language_info": {
   "codemirror_mode": {
    "name": "ipython",
    "version": 3
   },
   "file_extension": ".py",
   "mimetype": "text/x-python",
   "name": "python",
   "nbconvert_exporter": "python",
   "pygments_lexer": "ipython3",
   "version": "3.12.7"
  }
 },
 "nbformat": 4,
 "nbformat_minor": 2
}
