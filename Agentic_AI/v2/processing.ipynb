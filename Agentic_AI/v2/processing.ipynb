{
 "cells": [
  {
   "cell_type": "code",
   "execution_count": null,
   "metadata": {},
   "outputs": [],
   "source": [
    "import json\n",
    "import pandas as pd\n",
    "import seaborn as sns\n",
    "import matplotlib.pyplot as plt\n",
    "from sklearn.metrics import confusion_matrix\n",
    "from collections import defaultdict"
   ]
  },
  {
   "cell_type": "code",
   "execution_count": null,
   "metadata": {},
   "outputs": [],
   "source": [
    "# 讀取 JSON 檔案\n",
    "with open(\"data/data_0228_1314_gamble.json\", \"r\", encoding=\"utf-8\") as file:\n",
    "    data = json.load(file)"
   ]
  },
  {
   "cell_type": "code",
   "execution_count": null,
   "metadata": {},
   "outputs": [],
   "source": [
    "from collections import Counter\n",
    "\n",
    "# 假設 data 是你的資料\n",
    "counter = Counter(d['text'] for d in data)\n",
    "\n",
    "# 找出重複的 text\n",
    "duplicates = {text: count for text, count in counter.items() if count > 1}\n",
    "\n",
    "# 印出重複的 text\n",
    "for text, count in duplicates.items():\n",
    "    print(f\"'{text}' 出現了 {count} 次\")"
   ]
  },
  {
   "cell_type": "code",
   "execution_count": null,
   "metadata": {},
   "outputs": [],
   "source": [
    "# 假設你的 JSON 存在變數 data\n",
    "unique_texts = set()\n",
    "filtered_data = []\n",
    "\n",
    "for entry in data:\n",
    "    filtered_group = []\n",
    "    for item in entry:\n",
    "        if item[\"text\"] not in unique_texts:\n",
    "            unique_texts.add(item[\"text\"])\n",
    "            filtered_group.append(item)\n",
    "    if filtered_group:\n",
    "        filtered_data.append(filtered_group)\n",
    "\n",
    "with open(\"filtered_data.json\", \"w\", encoding=\"utf-8\") as f:\n",
    "    json.dump(filtered_data, f, ensure_ascii=False, indent=4)\n",
    "\n",
    "print(\"新的 JSON 檔案 'filtered_data.json' 已生成\")"
   ]
  }
 ],
 "metadata": {
  "kernelspec": {
   "display_name": "114",
   "language": "python",
   "name": "python3"
  },
  "language_info": {
   "name": "python",
   "version": "3.12.8"
  }
 },
 "nbformat": 4,
 "nbformat_minor": 2
}
