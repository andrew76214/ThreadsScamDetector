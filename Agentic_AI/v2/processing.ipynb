{
 "cells": [
  {
   "cell_type": "code",
   "execution_count": 7,
   "metadata": {},
   "outputs": [],
   "source": [
    "import json\n",
    "import pandas as pd\n",
    "import seaborn as sns\n",
    "import matplotlib.pyplot as plt\n",
    "from sklearn.metrics import confusion_matrix\n",
    "from collections import defaultdict"
   ]
  },
  {
   "cell_type": "code",
   "execution_count": 9,
   "metadata": {},
   "outputs": [],
   "source": [
    "# 讀取 JSON 檔案\n",
    "with open(\"test/test_gamble.json\", \"r\", encoding=\"utf-8\") as file:\n",
    "    data1 = json.load(file)\n",
    "# with open(\"test/test_0309_0015_emotional_dating.json\", \"r\", encoding=\"utf-8\") as file:\n",
    "#     data2 = json.load(file)"
   ]
  },
  {
   "cell_type": "code",
   "execution_count": 10,
   "metadata": {},
   "outputs": [],
   "source": [
    "# 假設你的 JSON 存在變數 data\n",
    "unique_texts = set()\n",
    "filtered_data = []\n",
    "\n",
    "filtered_group = []\n",
    "for item in data1:\n",
    "    if item[\"text\"] not in unique_texts:\n",
    "        unique_texts.add(item[\"text\"])\n",
    "        filtered_data.append(item)\n",
    "# for item in data2:\n",
    "#     if item[\"text\"] not in unique_texts:\n",
    "#         unique_texts.add(item[\"text\"])\n",
    "#         filtered_data.append(item)"
   ]
  },
  {
   "cell_type": "code",
   "execution_count": 11,
   "metadata": {},
   "outputs": [
    {
     "data": {
      "text/plain": [
       "300"
      ]
     },
     "execution_count": 11,
     "metadata": {},
     "output_type": "execute_result"
    }
   ],
   "source": [
    "len(filtered_data)"
   ]
  },
  {
   "cell_type": "code",
   "execution_count": 12,
   "metadata": {},
   "outputs": [
    {
     "name": "stdout",
     "output_type": "stream",
     "text": [
      "新的 JSON 檔案 'filtered_data.json' 已生成\n"
     ]
    }
   ],
   "source": [
    "with open(\"test/filtered_data.json\", \"w\", encoding=\"utf-8\") as f:\n",
    "    json.dump(filtered_data, f, ensure_ascii=False, indent=4)\n",
    "\n",
    "print(\"新的 JSON 檔案 'filtered_data.json' 已生成\")"
   ]
  }
 ],
 "metadata": {
  "kernelspec": {
   "display_name": "base",
   "language": "python",
   "name": "python3"
  },
  "language_info": {
   "codemirror_mode": {
    "name": "ipython",
    "version": 3
   },
   "file_extension": ".py",
   "mimetype": "text/x-python",
   "name": "python",
   "nbconvert_exporter": "python",
   "pygments_lexer": "ipython3",
   "version": "3.11.5"
  }
 },
 "nbformat": 4,
 "nbformat_minor": 2
}
