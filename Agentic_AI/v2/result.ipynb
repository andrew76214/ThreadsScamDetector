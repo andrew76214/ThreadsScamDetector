{
 "cells": [
  {
   "cell_type": "code",
   "execution_count": 1,
   "metadata": {},
   "outputs": [],
   "source": [
    "import json\n",
    "import pandas as pd\n",
    "import seaborn as sns\n",
    "import matplotlib.pyplot as plt\n",
    "from sklearn.metrics import confusion_matrix\n",
    "from collections import defaultdict"
   ]
  },
  {
   "cell_type": "code",
   "execution_count": 10,
   "metadata": {},
   "outputs": [],
   "source": [
    "# 讀取 JSON 檔案\n",
    "with open(\"test/test_0228_1314_gamble.json\", \"r\", encoding=\"utf-8\") as file:\n",
    "    data = json.load(file)"
   ]
  },
  {
   "cell_type": "code",
   "execution_count": 3,
   "metadata": {},
   "outputs": [
    {
     "name": "stdout",
     "output_type": "stream",
     "text": [
      "總樣本數: 300\n",
      "預測正確數: 149\n",
      "準確率: 49.67%\n"
     ]
    }
   ],
   "source": [
    "# 計算正確的標記數量\n",
    "correct_predictions = sum(1 for item in data if item[\"label\"] == item[\"predict\"])\n",
    "\n",
    "# 總樣本數\n",
    "total_samples = len(data)\n",
    "\n",
    "# 計算準確率\n",
    "accuracy = correct_predictions / total_samples if total_samples > 0 else 0\n",
    "\n",
    "print(f\"總樣本數: {total_samples}\")\n",
    "print(f\"預測正確數: {correct_predictions}\")\n",
    "print(f\"準確率: {accuracy:.2%}\")"
   ]
  },
  {
   "cell_type": "code",
   "execution_count": 7,
   "metadata": {},
   "outputs": [
    {
     "data": {
      "text/html": [
       "<div>\n",
       "<style scoped>\n",
       "    .dataframe tbody tr th:only-of-type {\n",
       "        vertical-align: middle;\n",
       "    }\n",
       "\n",
       "    .dataframe tbody tr th {\n",
       "        vertical-align: top;\n",
       "    }\n",
       "\n",
       "    .dataframe thead th {\n",
       "        text-align: right;\n",
       "    }\n",
       "</style>\n",
       "<table border=\"1\" class=\"dataframe\">\n",
       "  <thead>\n",
       "    <tr style=\"text-align: right;\">\n",
       "      <th></th>\n",
       "      <th>Keyword</th>\n",
       "      <th>總樣本數</th>\n",
       "      <th>預測正確數</th>\n",
       "      <th>準確率 (%)</th>\n",
       "    </tr>\n",
       "  </thead>\n",
       "  <tbody>\n",
       "    <tr>\n",
       "      <th>0</th>\n",
       "      <td>娛樂城</td>\n",
       "      <td>100</td>\n",
       "      <td>53</td>\n",
       "      <td>53.0</td>\n",
       "    </tr>\n",
       "    <tr>\n",
       "      <th>1</th>\n",
       "      <td>百家樂</td>\n",
       "      <td>100</td>\n",
       "      <td>52</td>\n",
       "      <td>52.0</td>\n",
       "    </tr>\n",
       "    <tr>\n",
       "      <th>2</th>\n",
       "      <td>運彩</td>\n",
       "      <td>100</td>\n",
       "      <td>44</td>\n",
       "      <td>44.0</td>\n",
       "    </tr>\n",
       "  </tbody>\n",
       "</table>\n",
       "</div>"
      ],
      "text/plain": [
       "  Keyword  總樣本數  預測正確數  準確率 (%)\n",
       "0     娛樂城   100     53     53.0\n",
       "1     百家樂   100     52     52.0\n",
       "2      運彩   100     44     44.0"
      ]
     },
     "execution_count": 7,
     "metadata": {},
     "output_type": "execute_result"
    }
   ],
   "source": [
    "# 建立字典來儲存 keyword 分類統計\n",
    "keyword_stats = {}\n",
    "\n",
    "# 遍歷數據\n",
    "for item in data:\n",
    "    keyword = item[\"keyword\"]\n",
    "    label = item[\"label\"]\n",
    "    predict = item[\"predict\"]\n",
    "\n",
    "    # 初始化該 keyword 的計數\n",
    "    if keyword not in keyword_stats:\n",
    "        keyword_stats[keyword] = {\"total\": 0, \"correct\": 0}\n",
    "\n",
    "    # 更新計數\n",
    "    keyword_stats[keyword][\"total\"] += 1\n",
    "    if label == predict:\n",
    "        keyword_stats[keyword][\"correct\"] += 1\n",
    "\n",
    "# 轉換為 DataFrame 以表格顯示\n",
    "df = pd.DataFrame([\n",
    "    {\n",
    "        \"Keyword\": keyword,\n",
    "        \"總樣本數\": stats[\"total\"],\n",
    "        \"預測正確數\": stats[\"correct\"],\n",
    "        \"準確率 (%)\": round((stats[\"correct\"] / stats[\"total\"]) * 100, 2) if stats[\"total\"] > 0 else 0\n",
    "    }\n",
    "    for keyword, stats in keyword_stats.items()\n",
    "])\n",
    "\n",
    "# 顯示表格\n",
    "df"
   ]
  },
  {
   "cell_type": "code",
   "execution_count": 9,
   "metadata": {},
   "outputs": [
    {
     "data": {
      "image/png": "[encoded data removed]",
      "text/plain": [
       "<Figure size 600x500 with 2 Axes>"
      ]
     },
     "metadata": {},
     "output_type": "display_data"
    }
   ],
   "source": [
    "# 取得所有標籤 (避免遺漏某些類別)\n",
    "labels = list(set(item[\"label\"] for item in data))\n",
    "\n",
    "# 計算混淆矩陣\n",
    "y_true = [item[\"label\"] for item in data]\n",
    "y_pred = [item[\"predict\"] for item in data]\n",
    "cm = confusion_matrix(y_true, y_pred, labels=labels)\n",
    "\n",
    "# 繪製熱力圖\n",
    "df_cm = pd.DataFrame(cm, index=labels, columns=labels)\n",
    "plt.figure(figsize=(6, 5))\n",
    "sns.heatmap(df_cm, annot=True, cmap=\"Blues\", fmt=\"d\")\n",
    "plt.xlabel(\"Predicted Label\")\n",
    "plt.ylabel(\"True Label\")\n",
    "plt.title(\"Confusion Matrix\")\n",
    "plt.show()"
   ]
  },
  {
   "cell_type": "code",
   "execution_count": 7,
   "metadata": {},
   "outputs": [],
   "source": [
    "# 讀取 JSON 檔案\n",
    "with open(\"test/test_0302_1651_emotional_dating.json\", \"r\", encoding=\"utf-8\") as file:\n",
    "    data = json.load(file)"
   ]
  },
  {
   "cell_type": "code",
   "execution_count": 3,
   "metadata": {},
   "outputs": [
    {
     "name": "stdout",
     "output_type": "stream",
     "text": [
      "總樣本數: 300\n",
      "預測正確數: 177\n",
      "準確率: 59.00%\n"
     ]
    }
   ],
   "source": [
    "# 計算正確的標記數量\n",
    "correct_predictions = sum(1 for item in data if item[\"label\"] == item[\"predict\"])\n",
    "\n",
    "# 總樣本數\n",
    "total_samples = len(data)\n",
    "\n",
    "# 計算準確率\n",
    "accuracy = correct_predictions / total_samples if total_samples > 0 else 0\n",
    "\n",
    "print(f\"總樣本數: {total_samples}\")\n",
    "print(f\"預測正確數: {correct_predictions}\")\n",
    "print(f\"準確率: {accuracy:.2%}\")"
   ]
  },
  {
   "cell_type": "code",
   "execution_count": 4,
   "metadata": {},
   "outputs": [
    {
     "data": {
      "text/html": [
       "<div>\n",
       "<style scoped>\n",
       "    .dataframe tbody tr th:only-of-type {\n",
       "        vertical-align: middle;\n",
       "    }\n",
       "\n",
       "    .dataframe tbody tr th {\n",
       "        vertical-align: top;\n",
       "    }\n",
       "\n",
       "    .dataframe thead th {\n",
       "        text-align: right;\n",
       "    }\n",
       "</style>\n",
       "<table border=\"1\" class=\"dataframe\">\n",
       "  <thead>\n",
       "    <tr style=\"text-align: right;\">\n",
       "      <th></th>\n",
       "      <th>Keyword</th>\n",
       "      <th>總樣本數</th>\n",
       "      <th>預測正確數</th>\n",
       "      <th>準確率 (%)</th>\n",
       "    </tr>\n",
       "  </thead>\n",
       "  <tbody>\n",
       "    <tr>\n",
       "      <th>0</th>\n",
       "      <td>約炮</td>\n",
       "      <td>100</td>\n",
       "      <td>77</td>\n",
       "      <td>77.0</td>\n",
       "    </tr>\n",
       "    <tr>\n",
       "      <th>1</th>\n",
       "      <td>徵男友</td>\n",
       "      <td>100</td>\n",
       "      <td>46</td>\n",
       "      <td>46.0</td>\n",
       "    </tr>\n",
       "    <tr>\n",
       "      <th>2</th>\n",
       "      <td>徵女友</td>\n",
       "      <td>100</td>\n",
       "      <td>54</td>\n",
       "      <td>54.0</td>\n",
       "    </tr>\n",
       "  </tbody>\n",
       "</table>\n",
       "</div>"
      ],
      "text/plain": [
       "  Keyword  總樣本數  預測正確數  準確率 (%)\n",
       "0      約炮   100     77     77.0\n",
       "1     徵男友   100     46     46.0\n",
       "2     徵女友   100     54     54.0"
      ]
     },
     "execution_count": 4,
     "metadata": {},
     "output_type": "execute_result"
    }
   ],
   "source": [
    "# 建立字典來儲存 keyword 分類統計\n",
    "keyword_stats = {}\n",
    "\n",
    "# 遍歷數據\n",
    "for item in data:\n",
    "    keyword = item[\"keyword\"]\n",
    "    label = item[\"label\"]\n",
    "    predict = item[\"predict\"]\n",
    "\n",
    "    # 初始化該 keyword 的計數\n",
    "    if keyword not in keyword_stats:\n",
    "        keyword_stats[keyword] = {\"total\": 0, \"correct\": 0}\n",
    "\n",
    "    # 更新計數\n",
    "    keyword_stats[keyword][\"total\"] += 1\n",
    "    if label == predict:\n",
    "        keyword_stats[keyword][\"correct\"] += 1\n",
    "\n",
    "# 轉換為 DataFrame 以表格顯示\n",
    "df = pd.DataFrame([\n",
    "    {\n",
    "        \"Keyword\": keyword,\n",
    "        \"總樣本數\": stats[\"total\"],\n",
    "        \"預測正確數\": stats[\"correct\"],\n",
    "        \"準確率 (%)\": round((stats[\"correct\"] / stats[\"total\"]) * 100, 2) if stats[\"total\"] > 0 else 0\n",
    "    }\n",
    "    for keyword, stats in keyword_stats.items()\n",
    "])\n",
    "\n",
    "# 顯示表格\n",
    "df"
   ]
  },
  {
   "cell_type": "code",
   "execution_count": 5,
   "metadata": {},
   "outputs": [
    {
     "data": {
      "image/png": "[encoded data removed]",
      "text/plain": [
       "<Figure size 600x500 with 2 Axes>"
      ]
     },
     "metadata": {},
     "output_type": "display_data"
    }
   ],
   "source": [
    "# 取得所有標籤 (避免遺漏某些類別)\n",
    "labels = list(set(item[\"label\"] for item in data))\n",
    "\n",
    "# 計算混淆矩陣\n",
    "y_true = [item[\"label\"] for item in data]\n",
    "y_pred = [item[\"predict\"] for item in data]\n",
    "cm = confusion_matrix(y_true, y_pred, labels=labels)\n",
    "\n",
    "# 繪製熱力圖\n",
    "df_cm = pd.DataFrame(cm, index=labels, columns=labels)\n",
    "plt.figure(figsize=(6, 5))\n",
    "sns.heatmap(df_cm, annot=True, cmap=\"Blues\", fmt=\"d\")\n",
    "plt.xlabel(\"Predicted Label\")\n",
    "plt.ylabel(\"True Label\")\n",
    "plt.title(\"Confusion Matrix\")\n",
    "plt.show()"
   ]
  }
 ],
 "metadata": {
  "kernelspec": {
   "display_name": "114",
   "language": "python",
   "name": "python3"
  },
  "language_info": {
   "codemirror_mode": {
    "name": "ipython",
    "version": 3
   },
   "file_extension": ".py",
   "mimetype": "text/x-python",
   "name": "python",
   "nbconvert_exporter": "python",
   "pygments_lexer": "ipython3",
   "version": "3.12.8"
  }
 },
 "nbformat": 4,
 "nbformat_minor": 2
}
