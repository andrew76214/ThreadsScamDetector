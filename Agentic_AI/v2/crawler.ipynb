{
 "cells": [
  {
   "cell_type": "code",
   "execution_count": 11,
   "id": "610fa8b8-2571-49bb-bb79-e211e093aee9",
   "metadata": {},
   "outputs": [],
   "source": [
    "from selenium.webdriver.chrome.service import Service\n",
    "from selenium.webdriver.chrome.options import Options\n",
    "from selenium import webdriver\n",
    "from selenium.webdriver.common.by import By\n",
    "from selenium.webdriver.common.keys import Keys\n",
    "from selenium.webdriver.support.ui import WebDriverWait\n",
    "from selenium.webdriver.support import expected_conditions as EC\n",
    "from selenium.common.exceptions import NoSuchElementException, TimeoutException\n",
    "import requests\n",
    "import os\n",
    "from datetime import datetime\n",
    "import random\n",
    "import time\n",
    "import json"
   ]
  },
  {
   "cell_type": "code",
   "execution_count": null,
   "id": "e2c13441",
   "metadata": {},
   "outputs": [],
   "source": [
    "ACCOUNT = \"claire_0627\"  # 用戶名稱、手機號碼或電子郵件地址\n",
    "PASSWORD = \"*****\"    # 密碼\n",
    "\n",
    "# 使用 Chrome 瀏覽器\n",
    "service = webdriver.ChromeService()\n",
    "driver = webdriver.Chrome(service=service)\n",
    "current_time = datetime.now().strftime(\"%m%d_%H%M\")\n",
    "\n",
    "driver.get('https://www.threads.net/')\n",
    "time.sleep(2)"
   ]
  },
  {
   "cell_type": "code",
   "execution_count": null,
   "id": "3b53dfdc",
   "metadata": {},
   "outputs": [],
   "source": [
    "login = driver.find_element(By.LINK_TEXT, \"登入\")\n",
    "login.click()\n",
    "time.sleep(2)\n",
    "account = driver.find_element(By.CSS_SELECTOR, \"input[placeholder='用戶名稱、手機號碼或電子郵件地址']\")\n",
    "account.send_keys(ACCOUNT)\n",
    "\n",
    "password = driver.find_element(By.CSS_SELECTOR, \"input[placeholder='密碼']\")\n",
    "password.send_keys(PASSWORD)\n",
    "\n",
    "login_enter = driver.find_element(By.XPATH, \"//div[text()='登入']\")\n",
    "login_enter.click()\n",
    "time.sleep(20)"
   ]
  },
  {
   "cell_type": "code",
   "execution_count": 14,
   "id": "190854f8",
   "metadata": {},
   "outputs": [],
   "source": [
    "file_name = \"data_gamble\"\n",
    "\n",
    "with open(f\"data/{file_name}.json\", \"r\", encoding=\"utf-8\") as file:\n",
    "    dataset = json.load(file)"
   ]
  },
  {
   "cell_type": "code",
   "execution_count": null,
   "id": "6863893a",
   "metadata": {},
   "outputs": [],
   "source": [
    "def search_name(name, data):\n",
    "    try:\n",
    "        driver.get(f'https://www.threads.net/@{name}/')\n",
    "        time.sleep(5)\n",
    "\n",
    "        element = driver.find_element(By.XPATH, '//*[@id=\"barcelona-page-layout\"]/div/div/div[2]/div[1]/div[1]')\n",
    "    except:\n",
    "        print(f'⚠️ {name} 已不存在')\n",
    "        return data\n",
    "    \n",
    "    try:\n",
    "        display_name = driver.find_element(By.XPATH, '//*[@id=\"barcelona-page-layout\"]/div/div/div[2]/div[1]/div[1]/div[1]/div[1]/div/div/span/span').text.strip()\n",
    "\n",
    "        try:\n",
    "            bio = driver.find_element(By.XPATH, '//*[@id=\"barcelona-page-layout\"]/div/div/div[2]/div[1]/div[1]/div[2]/span').text.split()\n",
    "            fan = driver.find_element(By.XPATH, '//*[@id=\"barcelona-page-layout\"]/div/div/div[2]/div[1]/div[1]/div[3]/div[1]/div/div/span/span').text.split()\n",
    "        except:\n",
    "            bio = \"\"\n",
    "            fan = driver.find_element(By.XPATH, '//*[@id=\"barcelona-page-layout\"]/div/div/div[2]/div[1]/div[1]/div[2]/div[1]/div/div/span').text.split()\n",
    "        \n",
    "\n",
    "        more_button = element.find_element(By.CSS_SELECTOR, 'svg[aria-label=\"更多\"]')\n",
    "\n",
    "        more_button.click()\n",
    "        time.sleep(3)\n",
    "\n",
    "        profile_button = driver.find_element(By.XPATH, \".//span[contains(text(), '關於此個人檔案')]\")\n",
    "\n",
    "        profile_button.click()\n",
    "        time.sleep(3)\n",
    "\n",
    "        joined_date = driver.find_elements(By.XPATH, \"//span[@data-bloks-name='bk.components.Text']\")[-1].text.strip()\n",
    "        joined_date = joined_date.split(\"·\")[0].strip(' ')\n",
    "\n",
    "        post = {\n",
    "            \"username\": data[\"username\"],\n",
    "            \"display_name\" : display_name,\n",
    "            \"joined_date\" : joined_date,\n",
    "            \"user_verified\" : data[\"user_verified\"],\n",
    "            \"fan\" : fan,\n",
    "            \"bio\" : bio,\n",
    "            \"published_on\": data[\"published_on\"],\n",
    "            \"text\": data[\"text\"],\n",
    "            \"tags\" : data[\"tags\"],\n",
    "            \"img_count\" : data[\"img_count\"],\n",
    "            \"img_infos\" : data[\"img_infos\"],\n",
    "            \"img_urls\" : data[\"img_urls\"],\n",
    "            \"img_ids\" : data[\"img_ids\"],\n",
    "            \"like_count\": data[\"like_count\"],\n",
    "            \"reply_count\": data[\"reply_count\"],\n",
    "            \"forward_count\": data[\"forward_count\"],\n",
    "            \"share_count\": data[\"share_count\"],\n",
    "            \"url\" : data[\"url\"],\n",
    "            \"category\" : data[\"category\"],\n",
    "            \"keyword\" : data[\"keyword\"],\n",
    "            \"label\" : data[\"label\"]\n",
    "        }\n",
    "    except:\n",
    "        print(f'⚠️ {name} 擷取失敗')\n",
    "        post = data\n",
    "\n",
    "    return post"
   ]
  },
  {
   "cell_type": "code",
   "execution_count": 21,
   "id": "d7d9d585",
   "metadata": {},
   "outputs": [],
   "source": [
    "driver.get(f'https://www.threads.net/@hansean808/')\n",
    "time.sleep(5)"
   ]
  },
  {
   "cell_type": "code",
   "execution_count": 22,
   "id": "772da78d",
   "metadata": {},
   "outputs": [],
   "source": [
    "bio = driver.find_element(By.XPATH, '//*[@id=\"barcelona-page-layout\"]/div/div/div[2]/div[1]/div[1]/div[2]/span').text.split()\n",
    "fan = driver.find_element(By.XPATH, '//*[@id=\"barcelona-page-layout\"]/div/div/div[2]/div[1]/div[1]/div[3]/div[1]/div/div/span/span').text.split()"
   ]
  },
  {
   "cell_type": "code",
   "execution_count": 23,
   "id": "bccfeeeb",
   "metadata": {},
   "outputs": [],
   "source": [
    "element = driver.find_element(By.XPATH, '//*[@id=\"barcelona-page-layout\"]/div/div/div[2]/div[1]/div[1]')\n",
    "\n",
    "more_button = element.find_element(By.CSS_SELECTOR, 'svg[aria-label=\"更多\"]')\n",
    "\n",
    "more_button.click()\n",
    "time.sleep(3)"
   ]
  },
  {
   "cell_type": "code",
   "execution_count": null,
   "id": "e2d6f745",
   "metadata": {},
   "outputs": [
    {
     "ename": "NoSuchElementException",
     "evalue": "Message: no such element: Unable to locate element: {\"method\":\"xpath\",\"selector\":\".//span[contains(text(), '關於此個人檔案')]\"}\n  (Session info: chrome=134.0.6998.89); For documentation on this error, please visit: https://www.selenium.dev/documentation/webdriver/troubleshooting/errors#no-such-element-exception\nStacktrace:\n\tGetHandleVerifier [0x00007FF6D914FE45+26629]\n\t(No symbol) [0x00007FF6D90B6010]\n\t(No symbol) [0x00007FF6D8F4931A]\n\t(No symbol) [0x00007FF6D8F9F8E7]\n\t(No symbol) [0x00007FF6D8F9FB1C]\n\t(No symbol) [0x00007FF6D8FF34A7]\n\t(No symbol) [0x00007FF6D8FC7AEF]\n\t(No symbol) [0x00007FF6D8FF0169]\n\t(No symbol) [0x00007FF6D8FC7883]\n\t(No symbol) [0x00007FF6D8F90550]\n\t(No symbol) [0x00007FF6D8F91803]\n\tGetHandleVerifier [0x00007FF6D94A72BD+3529853]\n\tGetHandleVerifier [0x00007FF6D94BDA22+3621858]\n\tGetHandleVerifier [0x00007FF6D94B24D3+3575443]\n\tGetHandleVerifier [0x00007FF6D921B77A+860474]\n\t(No symbol) [0x00007FF6D90C088F]\n\t(No symbol) [0x00007FF6D90BCBC4]\n\t(No symbol) [0x00007FF6D90BCD66]\n\t(No symbol) [0x00007FF6D90AC2C9]\n\tBaseThreadInitThunk [0x00007FFFB81DE8D7+23]\n\tRtlUserThreadStart [0x00007FFFB84DBF6C+44]\n",
     "output_type": "error",
     "traceback": [
      "\u001b[1;31m---------------------------------------------------------------------------\u001b[0m",
      "\u001b[1;31mNoSuchElementException\u001b[0m                    Traceback (most recent call last)",
      "Cell \u001b[1;32mIn[24], line 1\u001b[0m\n\u001b[1;32m----> 1\u001b[0m profile_button \u001b[38;5;241m=\u001b[39m driver\u001b[38;5;241m.\u001b[39mfind_element(By\u001b[38;5;241m.\u001b[39mXPATH, \u001b[38;5;124m\"\u001b[39m\u001b[38;5;124m.//span[contains(text(), \u001b[39m\u001b[38;5;124m'\u001b[39m\u001b[38;5;124m關於此個人檔案\u001b[39m\u001b[38;5;124m'\u001b[39m\u001b[38;5;124m)]\u001b[39m\u001b[38;5;124m\"\u001b[39m)\n\u001b[0;32m      3\u001b[0m profile_button\u001b[38;5;241m.\u001b[39mclick()\n\u001b[0;32m      4\u001b[0m time\u001b[38;5;241m.\u001b[39msleep(\u001b[38;5;241m3\u001b[39m)\n",
      "File \u001b[1;32mc:\\Users\\clair\\anaconda3\\Lib\\site-packages\\selenium\\webdriver\\remote\\webdriver.py:748\u001b[0m, in \u001b[0;36mWebDriver.find_element\u001b[1;34m(self, by, value)\u001b[0m\n\u001b[0;32m    745\u001b[0m     by \u001b[38;5;241m=\u001b[39m By\u001b[38;5;241m.\u001b[39mCSS_SELECTOR\n\u001b[0;32m    746\u001b[0m     value \u001b[38;5;241m=\u001b[39m \u001b[38;5;124mf\u001b[39m\u001b[38;5;124m'\u001b[39m\u001b[38;5;124m[name=\u001b[39m\u001b[38;5;124m\"\u001b[39m\u001b[38;5;132;01m{\u001b[39;00mvalue\u001b[38;5;132;01m}\u001b[39;00m\u001b[38;5;124m\"\u001b[39m\u001b[38;5;124m]\u001b[39m\u001b[38;5;124m'\u001b[39m\n\u001b[1;32m--> 748\u001b[0m \u001b[38;5;28;01mreturn\u001b[39;00m \u001b[38;5;28mself\u001b[39m\u001b[38;5;241m.\u001b[39mexecute(Command\u001b[38;5;241m.\u001b[39mFIND_ELEMENT, {\u001b[38;5;124m\"\u001b[39m\u001b[38;5;124musing\u001b[39m\u001b[38;5;124m\"\u001b[39m: by, \u001b[38;5;124m\"\u001b[39m\u001b[38;5;124mvalue\u001b[39m\u001b[38;5;124m\"\u001b[39m: value})[\u001b[38;5;124m\"\u001b[39m\u001b[38;5;124mvalue\u001b[39m\u001b[38;5;124m\"\u001b[39m]\n",
      "File \u001b[1;32mc:\\Users\\clair\\anaconda3\\Lib\\site-packages\\selenium\\webdriver\\remote\\webdriver.py:354\u001b[0m, in \u001b[0;36mWebDriver.execute\u001b[1;34m(self, driver_command, params)\u001b[0m\n\u001b[0;32m    352\u001b[0m response \u001b[38;5;241m=\u001b[39m \u001b[38;5;28mself\u001b[39m\u001b[38;5;241m.\u001b[39mcommand_executor\u001b[38;5;241m.\u001b[39mexecute(driver_command, params)\n\u001b[0;32m    353\u001b[0m \u001b[38;5;28;01mif\u001b[39;00m response:\n\u001b[1;32m--> 354\u001b[0m     \u001b[38;5;28mself\u001b[39m\u001b[38;5;241m.\u001b[39merror_handler\u001b[38;5;241m.\u001b[39mcheck_response(response)\n\u001b[0;32m    355\u001b[0m     response[\u001b[38;5;124m\"\u001b[39m\u001b[38;5;124mvalue\u001b[39m\u001b[38;5;124m\"\u001b[39m] \u001b[38;5;241m=\u001b[39m \u001b[38;5;28mself\u001b[39m\u001b[38;5;241m.\u001b[39m_unwrap_value(response\u001b[38;5;241m.\u001b[39mget(\u001b[38;5;124m\"\u001b[39m\u001b[38;5;124mvalue\u001b[39m\u001b[38;5;124m\"\u001b[39m, \u001b[38;5;28;01mNone\u001b[39;00m))\n\u001b[0;32m    356\u001b[0m     \u001b[38;5;28;01mreturn\u001b[39;00m response\n",
      "File \u001b[1;32mc:\\Users\\clair\\anaconda3\\Lib\\site-packages\\selenium\\webdriver\\remote\\errorhandler.py:229\u001b[0m, in \u001b[0;36mErrorHandler.check_response\u001b[1;34m(self, response)\u001b[0m\n\u001b[0;32m    227\u001b[0m         alert_text \u001b[38;5;241m=\u001b[39m value[\u001b[38;5;124m\"\u001b[39m\u001b[38;5;124malert\u001b[39m\u001b[38;5;124m\"\u001b[39m]\u001b[38;5;241m.\u001b[39mget(\u001b[38;5;124m\"\u001b[39m\u001b[38;5;124mtext\u001b[39m\u001b[38;5;124m\"\u001b[39m)\n\u001b[0;32m    228\u001b[0m     \u001b[38;5;28;01mraise\u001b[39;00m exception_class(message, screen, stacktrace, alert_text)  \u001b[38;5;66;03m# type: ignore[call-arg]  # mypy is not smart enough here\u001b[39;00m\n\u001b[1;32m--> 229\u001b[0m \u001b[38;5;28;01mraise\u001b[39;00m exception_class(message, screen, stacktrace)\n",
      "\u001b[1;31mNoSuchElementException\u001b[0m: Message: no such element: Unable to locate element: {\"method\":\"xpath\",\"selector\":\".//span[contains(text(), '關於此個人檔案')]\"}\n  (Session info: chrome=134.0.6998.89); For documentation on this error, please visit: https://www.selenium.dev/documentation/webdriver/troubleshooting/errors#no-such-element-exception\nStacktrace:\n\tGetHandleVerifier [0x00007FF6D914FE45+26629]\n\t(No symbol) [0x00007FF6D90B6010]\n\t(No symbol) [0x00007FF6D8F4931A]\n\t(No symbol) [0x00007FF6D8F9F8E7]\n\t(No symbol) [0x00007FF6D8F9FB1C]\n\t(No symbol) [0x00007FF6D8FF34A7]\n\t(No symbol) [0x00007FF6D8FC7AEF]\n\t(No symbol) [0x00007FF6D8FF0169]\n\t(No symbol) [0x00007FF6D8FC7883]\n\t(No symbol) [0x00007FF6D8F90550]\n\t(No symbol) [0x00007FF6D8F91803]\n\tGetHandleVerifier [0x00007FF6D94A72BD+3529853]\n\tGetHandleVerifier [0x00007FF6D94BDA22+3621858]\n\tGetHandleVerifier [0x00007FF6D94B24D3+3575443]\n\tGetHandleVerifier [0x00007FF6D921B77A+860474]\n\t(No symbol) [0x00007FF6D90C088F]\n\t(No symbol) [0x00007FF6D90BCBC4]\n\t(No symbol) [0x00007FF6D90BCD66]\n\t(No symbol) [0x00007FF6D90AC2C9]\n\tBaseThreadInitThunk [0x00007FFFB81DE8D7+23]\n\tRtlUserThreadStart [0x00007FFFB84DBF6C+44]\n"
     ]
    }
   ],
   "source": [
    "profile_button = driver.find_element(By.XPATH, \".//span[contains(text(), '關於此個人檔案')]\")\n",
    "\n",
    "profile_button.click()\n",
    "time.sleep(3)"
   ]
  },
  {
   "cell_type": "code",
   "execution_count": null,
   "id": "1ab0a5a7",
   "metadata": {},
   "outputs": [],
   "source": [
    "\n",
    "joined_date = driver.find_elements(By.XPATH, \"//span[@data-bloks-name='bk.components.Text']\")[-1].text.strip()\n",
    "joined_date"
   ]
  },
  {
   "cell_type": "code",
   "execution_count": null,
   "id": "1da6fd81",
   "metadata": {},
   "outputs": [],
   "source": [
    "content = []"
   ]
  },
  {
   "cell_type": "code",
   "execution_count": null,
   "id": "22d6d17f",
   "metadata": {},
   "outputs": [
    {
     "name": "stdout",
     "output_type": "stream",
     "text": [
      "⚠️ pity4909 擷取失敗\n",
      "{'username': 'pity4909', 'user_verified': False, 'published_on': '2025年2月28日 星期五 下午12:48', 'text': '娛樂城真的真的不用儲值啦！\\n註冊就先送2000沒有任何條件！\\n贏多少領多少~~輸了不用理!\\n娛樂城 代理 百家樂 戰神賽特 拜金女帝 雷神之槌', 'tags': ['娛樂城 代理 百家樂 戰神賽特 拜金女帝 雷神之槌'], 'img_count': 0, 'img_infos': [], 'img_urls': [], 'img_ids': [], 'like_count': '4', 'reply_count': '7', 'forward_count': 0, 'share_count': 0, 'url': 'https://www.threads.net/@pity4909/post/DGmoikJvAWV', 'category': 'gamble', 'keyword': '娛樂城', 'label': 1}\n",
      "⚠️ xiaofeng_2332 擷取失敗\n",
      "{'username': 'xiaofeng_2332', 'user_verified': False, 'published_on': '2025年1月7日 星期二 下午2:42', 'text': '富遊是不是不會出金阿= = 提個10萬提兩天提不出來\\n不幹玩了, 有沒有哪間出金快速的娛樂城推薦\\n不懂就問脆', 'tags': ['不懂就問脆'], 'img_count': 0, 'img_infos': [], 'img_urls': [], 'img_ids': [], 'like_count': '128', 'reply_count': '262', 'forward_count': 0, 'share_count': '24', 'url': 'https://www.threads.net/@xiaofeng_2332/post/DEg8RGFy8kC', 'category': 'gamble', 'keyword': '娛樂城', 'label': 0}\n",
      "⚠️ cacau_189878 已不存在\n",
      "{'username': 'cacau_189878', 'user_verified': False, 'published_on': '2025年2月27日 星期四 下午4:42', 'text': '轉貼\\n超扯 超扯\\n前陣子富盈娛樂城前陣子鎖了某贏600萬會員的帳號\\n當下發文富盈主管馬上跟與對方聯繫跟他談條件\\n條件就是下架文章並且申明他們是正出平台\\n只要同意他們就會解開帳號並且解開帳號後7天可以提領\\n他等到2/25的時候早上要登入 帳號又被鎖了\\n詢問後說疑似套利所以他們不安排款項給他\\n並且傳一段我帳號半夜在遊玩的影片 說我同時下注莊閒 \\n他就想要提領了 還要這樣搞自己嗎❓\\n請他們提供ip 也不提供 \\n他的740萬的帳號就這樣被他們ㄧ句話鎖了 真牛逼啊富盈娛樂城\\n還做了假影片中的文字根本對不起來 把人耍的團團轉\\n猛啊 大家不要再玩了啦', 'tags': [], 'img_count': 5, 'img_infos': [\"May be a cartoon of 2 people, radar and text that says '10:15 99+ RV富盈官方客服 由負賣人员回覆訊息 HLLX 可以上隊口MH」· 浜上只日N」、個由八冰区减 個主八环以膜1 要再因爲任何誤會去導致雙方的誤 解 ，這邊也會盡力協助您的出款問 題。 晚上 晚上10：10 0:10 已讀 晚上10：10 這邊跟大哥確認一下 已讀 晚上10：10 10:10 就是下禮拜一開始可脫售 已讀 晚上10：11 確定每天拖售5-10 可以完整拖售 600萬出來是嘛 萬出來 是嘛 賬號打開後可以正常遊玩 托售是 打開後的7天可以開始托售， 剛開 始會先小額進行托售， 兩三天以後 上市需以梦自北音3-10周，片 只 正常就可以每日托售5-10萬，片 正党就可以每日托售5-10 雙跟行不限制我們，不管您賬號裡 要銀行不限制我們， 不管您賬號裡 面有多少錢都能托售 面有多少錢都能托售，甚至您調到 甚至您贏到 1000萬也是能托售的 相對的這 些時間内如果您輸掉了，那 那自然沒 辦法去進行托售。 晚上10：14 晚上 0:14 R7 富盈 APP下載 APP 好友邀請 會員註冊 立即登入 首次優惠100% 選單・'\", \"May be an image of 2 people and text that says '5:28 99+ 4G RV富盈官方客服 由負責人員回覆訊息 目 Bai 下午5：17 5:17 請問我是賬號開啟七天 下午5:17 下生的可以提領 已讀 可以提領 下午5:17 對吧 已讀 對吧 會員您好，請稍等，這邊幫您做查 會員您好， 請稍等 這邊幫您做查 詢 ，有消息會第一時間通知您， 謝 謝~ 謝 下午5:18 會員您好， 會員您好，滿七天後就可以提領 滿七天後就可以提領 了。 下午 下午5:24 5:24 已讀 下午5：26 那就是2/24可以提領 已讀 下午5：25 對吧 2/25因爲你是2/17晚上11點57分 開啟的 下午5：28 R7 富盈 APP下載 အီးိန် 好友邀請 票産 會员註冊 立即登入 首次優惠100% 選單，'\", \"May be a Twitter screenshot of phone and text that says '5:33 99+ 4G RV富盈官方客服 由負賣人员回覆訊息 找是 找是KV富盘官万各服 智貝您 好， 仔，請問有什麽能協助您的呢 下午6：14 已讀 下午6：14 沒事了我自行排解了 已讀 下午 下午6：14 6:14 謝謝 若沒有其他問題，將先結束對話， 若沒有其他問題， 將先結束對話， 祝您在RV富盈遊玩愉快 下午6：14 今天 已讀 下午5:17 請問我是賬號開啟七天 下午可以提領 已讀 下午5:17 可以提領 基愛 下午5:17 下午57對吧 已讀 對吧 會員您好，請稍等，這邊幫您做查 會員您好 請稍等 這邊幫您做查 詢 ，有消息會第一時間通知您，； 謝 謝 謝~ 下午5：18 會員您好， 好，滿七天後就可以提領 了。 下午5:24 下午 5:24 已讀 下午5:25 那就是2/24可以提領 已讀 下午5:25 對吧 2/25因為你是2/17晚上11點57分 開啟的 下午5:28 下午 下午5:33 5:33 謝謝 Aa'\", \"May be an image of 2 people and text that says '5:28 99+ 4G RV富盈官方客服 由負責人員回覆訊息 目 Bai 下午5：17 5:17 請問我是賬號開啟七天 下午5:17 下生的可以提領 已讀 可以提領 下午5:17 對吧 已讀 對吧 會員您好，請稍等，這邊幫您做查 會員您好， 請稍等 這邊幫您做查 詢 ，有消息會第一時間通知您， 謝 謝~ 謝 下午5:18 會員您好， 會員您好，滿七天後就可以提領 滿七天後就可以提領 了。 下午 下午5:24 5:24 已讀 下午5：26 那就是2/24可以提領 已讀 下午5：25 對吧 2/25因爲你是2/17晚上11點57分 開啟的 下午5：28 R7 富盈 APP下載 အီးိန် 好友邀請 票産 會员註冊 立即登入 首次優惠100% 選單，'\", \"May be an image of text that says 'dh324406 VIP2 $7368578.81 存款轉賬 轉賬 存款 幸運輪盤 最新公告 X 大額托售維護中 2025-02-23 2025-02-2312:38:06 2312：38：06 12:38:06 托售時段限制公告 2024-12-1418:45:5 2024-12-14 18:45:58 USDT儲值公告 2024-12-02 2024-12-0219:22 19：22：13 首次託售通知公告 2024-11-22 2024-11-2203:08:45 03:08:45 信用卡儲值公告 2024-11-20 2024-11-2016:13:05 16：13:05 捕魚 平 優惠 ￥ 客服 首頁 G 存取款 個人中心'\"], 'img_urls': ['https://scontent-tpe1-1.cdninstagram.com/v/t51.2885-15/482278149_17846172801424612_3530953653796014004_n.jpg?stp=dst-jpg_e35_tt6&efg=eyJ2ZW5jb2RlX3RhZyI6ImltYWdlX3VybGdlbi44Njl4MTg4MS5zZHIuZjc1NzYxLmRlZmF1bHRfaW1hZ2UifQ&_nc_ht=scontent-tpe1-1.cdninstagram.com&_nc_cat=104&_nc_oc=Q6cZ2AFffMSLIf7N6g5QqFdFeuh7YnaQq0nc0-FbkuESLv0UdSln-OgxR0Y4j4Kh2mPxJRY&_nc_ohc=sfGXr54Qo4oQ7kNvgGe8mXj&_nc_gid=79fd18d0ffc24b33a41292cd24d6dad1&edm=APs17CUBAAAA&ccb=7-5&ig_cache_key=MzU3NzExODIyNTQxMjg0NzA3Nw%3D%3D.3-ccb7-5&oh=00_AYCij3pXFo44SvLelSzWIhHUd8eH3pGdxXK41YI7V-b7KA&oe=67C72BA4&_nc_sid=10d13b', 'https://scontent-tpe1-1.cdninstagram.com/v/t51.2885-15/482081915_17846172810424612_8899315375412071319_n.jpg?stp=dst-jpg_e35_tt6&efg=eyJ2ZW5jb2RlX3RhZyI6ImltYWdlX3VybGdlbi44Njl4MTg4MS5zZHIuZjc1NzYxLmRlZmF1bHRfaW1hZ2UifQ&_nc_ht=scontent-tpe1-1.cdninstagram.com&_nc_cat=104&_nc_oc=Q6cZ2AFffMSLIf7N6g5QqFdFeuh7YnaQq0nc0-FbkuESLv0UdSln-OgxR0Y4j4Kh2mPxJRY&_nc_ohc=4Vaw6ssHm1AQ7kNvgF_lGDJ&_nc_gid=79fd18d0ffc24b33a41292cd24d6dad1&edm=APs17CUBAAAA&ccb=7-5&ig_cache_key=MzU3NzExODIyNTI0NTEzODIwNw%3D%3D.3-ccb7-5&oh=00_AYDeyep6tS7kTQ9mSCM6SE7MTKjavIIg3UQ2VZ1v0iTDow&oe=67C72A91&_nc_sid=10d13b', 'https://scontent-tpe1-1.cdninstagram.com/v/t51.2885-15/481939811_17846172819424612_8689483531704552592_n.jpg?stp=dst-jpg_e35_tt6&efg=eyJ2ZW5jb2RlX3RhZyI6ImltYWdlX3VybGdlbi44Njl4MTg4MS5zZHIuZjc1NzYxLmRlZmF1bHRfaW1hZ2UifQ&_nc_ht=scontent-tpe1-1.cdninstagram.com&_nc_cat=104&_nc_oc=Q6cZ2AFffMSLIf7N6g5QqFdFeuh7YnaQq0nc0-FbkuESLv0UdSln-OgxR0Y4j4Kh2mPxJRY&_nc_ohc=GVQhRDUJJRIQ7kNvgFvFBt9&_nc_gid=79fd18d0ffc24b33a41292cd24d6dad1&edm=APs17CUBAAAA&ccb=7-5&ig_cache_key=MzU3NzExODIyNTExOTEyMjg5OA%3D%3D.3-ccb7-5&oh=00_AYClJ6ZeKBaXMLagja9puSeFSezW2VXqCotnrNep5XXpOg&oe=67C72EA2&_nc_sid=10d13b', 'https://scontent-tpe1-1.cdninstagram.com/v/t51.2885-15/481942216_17846172828424612_7086337719416641591_n.jpg?stp=dst-jpg_e35_tt6&efg=eyJ2ZW5jb2RlX3RhZyI6ImltYWdlX3VybGdlbi44Njl4MTg4MS5zZHIuZjc1NzYxLmRlZmF1bHRfaW1hZ2UifQ&_nc_ht=scontent-tpe1-1.cdninstagram.com&_nc_cat=104&_nc_oc=Q6cZ2AFffMSLIf7N6g5QqFdFeuh7YnaQq0nc0-FbkuESLv0UdSln-OgxR0Y4j4Kh2mPxJRY&_nc_ohc=biVP9kWSUvAQ7kNvgFt2PBj&_nc_gid=79fd18d0ffc24b33a41292cd24d6dad1&edm=APs17CUBAAAA&ccb=7-5&ig_cache_key=MzU3NzExODIyNTExMDgxMTMyMg%3D%3D.3-ccb7-5&oh=00_AYBEx6nrbMyQkNkfQlDQgtWW_OFSaaj1avCWC04kxfHYIQ&oe=67C72D1D&_nc_sid=10d13b', 'https://scontent-tpe1-1.cdninstagram.com/v/t51.2885-15/482155242_17846172837424612_2731660529949616644_n.jpg?stp=dst-jpg_e35_tt6&efg=eyJ2ZW5jb2RlX3RhZyI6ImltYWdlX3VybGdlbi44Njl4MTM1Ni5zZHIuZjc1NzYxLmRlZmF1bHRfaW1hZ2UifQ&_nc_ht=scontent-tpe1-1.cdninstagram.com&_nc_cat=104&_nc_oc=Q6cZ2AFffMSLIf7N6g5QqFdFeuh7YnaQq0nc0-FbkuESLv0UdSln-OgxR0Y4j4Kh2mPxJRY&_nc_ohc=oaZBe44x1WYQ7kNvgGtaag5&_nc_gid=79fd18d0ffc24b33a41292cd24d6dad1&edm=APs17CUBAAAA&ccb=7-5&ig_cache_key=MzU3NzExODIyNTQyMTA5MzI2MA%3D%3D.3-ccb7-5&oh=00_AYCmXtc-8Yt2_AUFMNKMBOppamryjlvm25KD6rj_F8Bw5A&oe=67C6FECA&_nc_sid=10d13b'], 'img_ids': ['482278149_17846172801424612_3530953653796014004_n.jpg', '482081915_17846172810424612_8899315375412071319_n.jpg', '481939811_17846172819424612_8689483531704552592_n.jpg', '481942216_17846172828424612_7086337719416641591_n.jpg', '482155242_17846172837424612_2731660529949616644_n.jpg'], 'like_count': '54', 'reply_count': '123', 'forward_count': '2', 'share_count': '17', 'url': 'https://www.threads.net/@cacau_189878/post/DGkehR1zhNz', 'category': 'gamble', 'keyword': '娛樂城', 'label': 0}\n",
      "⚠️ zh__0255 已不存在\n",
      "{'username': 'zh__0255', 'user_verified': False, 'published_on': '2024年10月9日 星期三 下午1:47', 'text': '無聊統計一下玩過的娛樂城\\n這麼滿了 還有哪些是沒玩過的\\n求推薦', 'tags': [], 'img_count': 1, 'img_infos': ['No photo description available.'], 'img_urls': ['https://scontent-tpe1-1.cdninstagram.com/v/t51.29350-15/462443525_472815505779069_9009881256297340702_n.jpg?stp=dst-jpg_e35_tt6&efg=eyJ2ZW5jb2RlX3RhZyI6ImltYWdlX3VybGdlbi4xMzIweDM1MS5zZHIuZjI5MzUwLmRlZmF1bHRfaW1hZ2UifQ&_nc_ht=scontent-tpe1-1.cdninstagram.com&_nc_cat=109&_nc_oc=Q6cZ2AFffMSLIf7N6g5QqFdFeuh7YnaQq0nc0-FbkuESLv0UdSln-OgxR0Y4j4Kh2mPxJRY&_nc_ohc=3PFyAUe4cEQQ7kNvgGSt_wI&_nc_gid=79fd18d0ffc24b33a41292cd24d6dad1&edm=APs17CUBAAAA&ccb=7-5&ig_cache_key=MzQ3NDgzNjcwMjM2OTY3ODE0OQ%3D%3D.3-ccb7-5&oh=00_AYB2FzqfbNWD9bWIulQOki15Kktxag5_6k9SD3OEGtHCAw&oe=67C71DFA&_nc_sid=10d13b'], 'img_ids': ['462443525_472815505779069_9009881256297340702_n.jpg'], 'like_count': '148', 'reply_count': '244', 'forward_count': '2', 'share_count': '40', 'url': 'https://www.threads.net/@zh__0255/post/DA5GZIBPANF', 'category': 'gamble', 'keyword': '娛樂城', 'label': 0}\n",
      "⚠️ aa_08.12 擷取失敗\n",
      "{'username': 'aa_08.12', 'user_verified': False, 'published_on': '2025年2月16日 星期日 上午4:59', 'text': '娛樂城心得分享\\n以下屬於自己遊玩後的感想 並無詆毀之意\\n本人目前玩過3A,88Win,T8,通博,TZ,任你博,大撈家,AT99,鉅城\\n⚠️注意⚠️\\n新手期是我自己的一種說話意思是 新帳號比較容易給你贏\\n3A出金✅新手期超讚 但新手期過了就開始有難度了新手期時2000變8000很正常 後期10000給你個6-8千就要偷笑了 反水0.4 VIP的制度不詳個人認為可以當做娛樂用就好不要真的來大賭特賭 代理：雲X團隊的X龍\\n88Win出金✅平平感想真的不多 但還算公正的平台 無代理\\nT8出金✅新手期超香 我儲1000開一萬給我他們反水也很香1%目前該平台儲值3000提領了40000 代理：億X會員群X盞 福利多到靠北推👍可是新手期之後就麻煩了 前面開太大目前有難度\\n通博出金✅新手期普普 平台公正最適合公平對戰機台的平台 無代理\\nTZ出金✅新手期普普 機台感覺後端控很嚴重給分都給的很剛好 比如1000，888，666之類的代理：雲X團隊的X龍\\n任你博出金✅新手期很香在乎體驗感歡迎嘗試但獲利就還好了 他的首儲綁18流水！！！電子機台只要有水在流都是好事 開分率才會高\\n其他的下一篇', 'tags': [], 'img_count': 0, 'img_infos': [], 'img_urls': [], 'img_ids': [], 'like_count': '162', 'reply_count': '66', 'forward_count': '4', 'share_count': '101', 'url': 'https://www.threads.net/@aa_08.12/post/DGG5T6JzgmG', 'category': 'gamble', 'keyword': '娛樂城', 'label': 0}\n"
     ]
    }
   ],
   "source": [
    "for data in dataset:\n",
    "    post = search_name(data[\"username\"], data)\n",
    "    content.append(post)\n",
    "    print(post)"
   ]
  },
  {
   "cell_type": "code",
   "execution_count": null,
   "id": "10bbb880",
   "metadata": {},
   "outputs": [],
   "source": [
    "output_path = f\"output_json/{file_name}.json\"\n",
    "\n",
    "with open(output_path, \"w\", encoding=\"utf-8\") as json_file:\n",
    "    json.dump(content, json_file, ensure_ascii=False, indent=4)\n",
    "\n",
    "print(f\"✅ JSON 檔案已儲存至: {output_path}\")"
   ]
  },
  {
   "cell_type": "code",
   "execution_count": null,
   "id": "4be3a915",
   "metadata": {},
   "outputs": [],
   "source": [
    "# driver.quit()"
   ]
  },
  {
   "cell_type": "code",
   "execution_count": null,
   "id": "2881062a",
   "metadata": {},
   "outputs": [],
   "source": [
    "# driver.execute_script(\"window.scrollBy(0, 2000);\")"
   ]
  },
  {
   "cell_type": "code",
   "execution_count": null,
   "id": "df53918b",
   "metadata": {},
   "outputs": [],
   "source": [
    "# xpath = '//*[@id=\"barcelona-page-layout\"]/div/div/div[2]/div[1]/div[1]/div/div[2]/div/div/div[1]/div'\n",
    "# element = driver.find_element(By.XPATH, xpath)\n",
    "# link_element = element.find_elements(By.TAG_NAME, \"a\")\n",
    "\n",
    "# for link in link_element:\n",
    "#     url = link.get_attribute(\"href\")\n",
    "#     print(url)"
   ]
  }
 ],
 "metadata": {
  "kernelspec": {
   "display_name": "base",
   "language": "python",
   "name": "python3"
  },
  "language_info": {
   "codemirror_mode": {
    "name": "ipython",
    "version": 3
   },
   "file_extension": ".py",
   "mimetype": "text/x-python",
   "name": "python",
   "nbconvert_exporter": "python",
   "pygments_lexer": "ipython3",
   "version": "3.11.5"
  }
 },
 "nbformat": 4,
 "nbformat_minor": 5
}
