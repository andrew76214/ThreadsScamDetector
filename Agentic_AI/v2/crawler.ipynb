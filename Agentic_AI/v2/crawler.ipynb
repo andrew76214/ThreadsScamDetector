{
 "cells": [
  {
   "cell_type": "code",
   "execution_count": 1,
   "id": "610fa8b8-2571-49bb-bb79-e211e093aee9",
   "metadata": {},
   "outputs": [],
   "source": [
    "from selenium.webdriver.chrome.service import Service\n",
    "from selenium.webdriver.chrome.options import Options\n",
    "from selenium import webdriver\n",
    "from selenium.webdriver.common.by import By\n",
    "from selenium.webdriver.common.keys import Keys\n",
    "from selenium.webdriver.support.ui import WebDriverWait\n",
    "from selenium.webdriver.support import expected_conditions as EC\n",
    "from selenium.common.exceptions import NoSuchElementException, TimeoutException\n",
    "import requests\n",
    "import os\n",
    "from datetime import datetime\n",
    "import random\n",
    "import time\n",
    "import random\n",
    "import json"
   ]
  },
  {
   "cell_type": "code",
   "execution_count": null,
   "id": "e2c13441",
   "metadata": {},
   "outputs": [],
   "source": [
    "ACCOUNT = \"claire_0627\"  # 用戶名稱、手機號碼或電子郵件地址\n",
    "PASSWORD = \"*******\"    # 密碼\n",
    "\n",
    "# 使用 Chrome 瀏覽器\n",
    "service = webdriver.ChromeService()\n",
    "driver = webdriver.Chrome(service=service)\n",
    "current_time = datetime.now().strftime(\"%m%d_%H%M\")\n",
    "\n",
    "driver.get('https://www.threads.net/')\n",
    "time.sleep(2)"
   ]
  },
  {
   "cell_type": "code",
   "execution_count": 3,
   "id": "3b53dfdc",
   "metadata": {},
   "outputs": [],
   "source": [
    "login = driver.find_element(By.LINK_TEXT, \"登入\")\n",
    "login.click()\n",
    "time.sleep(2)\n",
    "account = driver.find_element(By.CSS_SELECTOR, \"input[placeholder='用戶名稱、手機號碼或電子郵件地址']\")\n",
    "account.send_keys(ACCOUNT)\n",
    "\n",
    "password = driver.find_element(By.CSS_SELECTOR, \"input[placeholder='密碼']\")\n",
    "password.send_keys(PASSWORD)\n",
    "time.sleep(2)\n",
    "\n",
    "login_enter = driver.find_element(By.XPATH, \"//div[text()='登入']\")\n",
    "login_enter.click()\n",
    "time.sleep(20)"
   ]
  },
  {
   "cell_type": "code",
   "execution_count": 4,
   "id": "190854f8",
   "metadata": {},
   "outputs": [],
   "source": [
    "file_name = \"data_gamble\"\n",
    "\n",
    "with open(f\"data/{file_name}.json\", \"r\", encoding=\"utf-8\") as file:\n",
    "    dataset = json.load(file)"
   ]
  },
  {
   "cell_type": "code",
   "execution_count": 5,
   "id": "6863893a",
   "metadata": {},
   "outputs": [],
   "source": [
    "def search_name(name, data):\n",
    "    try:\n",
    "        driver.get(f'https://www.threads.net/@{name}/')\n",
    "        time.sleep(random.uniform(4, 6))\n",
    "\n",
    "        element = driver.find_element(By.XPATH, '//*[@id=\"barcelona-page-layout\"]/div/div/div[2]/div[1]/div[1]')\n",
    "    except:\n",
    "        print(f'⚠️ {name} 已不存在')\n",
    "        return data\n",
    "    \n",
    "    try:\n",
    "        display_name = driver.find_element(By.XPATH, '//*[@id=\"barcelona-page-layout\"]/div/div/div[2]/div[1]/div[1]/div[1]/div[1]/div/div/span/span').text.strip()\n",
    "\n",
    "        try:\n",
    "            bio = driver.find_element(By.XPATH, '//*[@id=\"barcelona-page-layout\"]/div/div/div[2]/div[1]/div[1]/div[2]/span').text.strip()\n",
    "            fan = driver.find_element(By.XPATH, '//*[@id=\"barcelona-page-layout\"]/div/div/div[2]/div[1]/div[1]/div[3]/div[1]/div/div/span/span').text.strip()\n",
    "        except:\n",
    "            bio = \"\"\n",
    "            fan = driver.find_element(By.XPATH, '//*[@id=\"barcelona-page-layout\"]/div/div/div[2]/div[1]/div[1]/div[2]/div[1]/div/div/span/span').text.strip()\n",
    "        \n",
    "\n",
    "        more_button = element.find_element(By.CSS_SELECTOR, 'svg[aria-label=\"更多\"]')\n",
    "\n",
    "        more_button.click()\n",
    "        time.sleep(random.uniform(3, 4))\n",
    "\n",
    "        profile_button = driver.find_element(By.XPATH, \".//span[contains(text(), '關於此個人檔案')]\")\n",
    "\n",
    "        profile_button.click()\n",
    "        time.sleep(random.uniform(3, 5))\n",
    "\n",
    "        joined_date = driver.find_elements(By.XPATH, \"//span[@data-bloks-name='bk.components.Text']\")[2].text.strip()\n",
    "        joined_date = joined_date.split(\"·\")[0].strip(' ')\n",
    "\n",
    "        post = {\n",
    "            \"username\": data[\"username\"],\n",
    "            \"display_name\" : display_name,\n",
    "            \"joined_date\" : joined_date,\n",
    "            \"user_verified\" : data[\"user_verified\"],\n",
    "            \"fan\" : fan,\n",
    "            \"bio\" : bio,\n",
    "            \"published_on\": data[\"published_on\"],\n",
    "            \"text\": data[\"text\"],\n",
    "            \"tags\" : data[\"tags\"],\n",
    "            \"img_count\" : data[\"img_count\"],\n",
    "            \"img_infos\" : data[\"img_infos\"],\n",
    "            \"img_urls\" : data[\"img_urls\"],\n",
    "            \"img_ids\" : data[\"img_ids\"],\n",
    "            \"like_count\": data[\"like_count\"],\n",
    "            \"reply_count\": data[\"reply_count\"],\n",
    "            \"forward_count\": data[\"forward_count\"],\n",
    "            \"share_count\": data[\"share_count\"],\n",
    "            \"url\" : data[\"url\"],\n",
    "            \"category\" : data[\"category\"],\n",
    "            \"keyword\" : data[\"keyword\"],\n",
    "            \"label\" : data[\"label\"]\n",
    "        }\n",
    "    except:\n",
    "        print(f'⚠️ {name} 擷取失敗')\n",
    "        post = data\n",
    "\n",
    "    return post"
   ]
  },
  {
   "cell_type": "code",
   "execution_count": 6,
   "id": "d7d9d585",
   "metadata": {},
   "outputs": [],
   "source": [
    "driver.get(f'https://www.threads.net/@hansean808/')\n",
    "time.sleep(5)"
   ]
  },
  {
   "cell_type": "code",
   "execution_count": 7,
   "id": "772da78d",
   "metadata": {},
   "outputs": [],
   "source": [
    "bio = driver.find_element(By.XPATH, '//*[@id=\"barcelona-page-layout\"]/div/div/div[2]/div[1]/div[1]/div[2]/span').text.strip()\n",
    "fan = driver.find_element(By.XPATH, '//*[@id=\"barcelona-page-layout\"]/div/div/div[2]/div[1]/div[1]/div[3]/div[1]/div/div/span/span').text.strip()\n",
    "\n",
    "# fan = driver.find_element(By.XPATH, '//*[@id=\"barcelona-page-layout\"]/div/div/div[2]/div[1]/div[1]/div[2]/div[1]/div/div/span/span').text.strip()"
   ]
  },
  {
   "cell_type": "code",
   "execution_count": 8,
   "id": "bccfeeeb",
   "metadata": {},
   "outputs": [],
   "source": [
    "element = driver.find_element(By.XPATH, '//*[@id=\"barcelona-page-layout\"]/div/div/div[2]/div[1]/div[1]')\n",
    "\n",
    "more_button = element.find_element(By.CSS_SELECTOR, 'svg[aria-label=\"更多\"]')\n",
    "\n",
    "more_button.click()\n",
    "time.sleep(3)"
   ]
  },
  {
   "cell_type": "code",
   "execution_count": 9,
   "id": "e2d6f745",
   "metadata": {},
   "outputs": [],
   "source": [
    "profile_button = driver.find_element(By.XPATH, \".//span[contains(text(), '關於此個人檔案')]\")\n",
    "\n",
    "profile_button.click()\n",
    "time.sleep(3)"
   ]
  },
  {
   "cell_type": "code",
   "execution_count": 10,
   "id": "1ab0a5a7",
   "metadata": {},
   "outputs": [
    {
     "data": {
      "text/plain": [
       "'2023年7月 · 1 億+'"
      ]
     },
     "execution_count": 10,
     "metadata": {},
     "output_type": "execute_result"
    }
   ],
   "source": [
    "joined_date = driver.find_elements(By.XPATH, \"//span[@data-bloks-name='bk.components.Text']\")[2].text.strip()\n",
    "joined_date"
   ]
  },
  {
   "cell_type": "code",
   "execution_count": 11,
   "id": "1da6fd81",
   "metadata": {},
   "outputs": [],
   "source": [
    "content = []"
   ]
  },
  {
   "cell_type": "code",
   "execution_count": null,
   "id": "22d6d17f",
   "metadata": {},
   "outputs": [
    {
     "name": "stdout",
     "output_type": "stream",
     "text": [
      "{'username': 'pity4909', 'display_name': 'pity4909', 'joined_date': '2024年11月', 'user_verified': False, 'fan': '26', 'bio': '新會員註冊就送2000🧧呦～\\n快快私訊✨\\n➕LINE領取：lin88862', 'published_on': '2025年2月28日 星期五 下午12:48', 'text': '娛樂城真的真的不用儲值啦！\\n註冊就先送2000沒有任何條件！\\n贏多少領多少~~輸了不用理!\\n娛樂城 代理 百家樂 戰神賽特 拜金女帝 雷神之槌', 'tags': ['娛樂城 代理 百家樂 戰神賽特 拜金女帝 雷神之槌'], 'img_count': 0, 'img_infos': [], 'img_urls': [], 'img_ids': [], 'like_count': '4', 'reply_count': '7', 'forward_count': 0, 'share_count': 0, 'url': 'https://www.threads.net/@pity4909/post/DGmoikJvAWV', 'category': 'gamble', 'keyword': '娛樂城', 'label': 1}\n",
      "{'username': 'xiaofeng_2332', 'display_name': 'xiaofeng_2332', 'joined_date': '2025年1月', 'user_verified': False, 'fan': '43', 'bio': '遊戲要有節奏，生活要有樂趣🎲\\nIG沒回私訊我官方LINE', 'published_on': '2025年1月7日 星期二 下午2:42', 'text': '富遊是不是不會出金阿= = 提個10萬提兩天提不出來\\n不幹玩了, 有沒有哪間出金快速的娛樂城推薦\\n不懂就問脆', 'tags': ['不懂就問脆'], 'img_count': 0, 'img_infos': [], 'img_urls': [], 'img_ids': [], 'like_count': '128', 'reply_count': '262', 'forward_count': 0, 'share_count': '24', 'url': 'https://www.threads.net/@xiaofeng_2332/post/DEg8RGFy8kC', 'category': 'gamble', 'keyword': '娛樂城', 'label': 0}\n",
      "⚠️ cacau_189878 已不存在\n",
      "{'username': 'cacau_189878', 'user_verified': False, 'published_on': '2025年2月27日 星期四 下午4:42', 'text': '轉貼\\n超扯 超扯\\n前陣子富盈娛樂城前陣子鎖了某贏600萬會員的帳號\\n當下發文富盈主管馬上跟與對方聯繫跟他談條件\\n條件就是下架文章並且申明他們是正出平台\\n只要同意他們就會解開帳號並且解開帳號後7天可以提領\\n他等到2/25的時候早上要登入 帳號又被鎖了\\n詢問後說疑似套利所以他們不安排款項給他\\n並且傳一段我帳號半夜在遊玩的影片 說我同時下注莊閒 \\n他就想要提領了 還要這樣搞自己嗎❓\\n請他們提供ip 也不提供 \\n他的740萬的帳號就這樣被他們ㄧ句話鎖了 真牛逼啊富盈娛樂城\\n還做了假影片中的文字根本對不起來 把人耍的團團轉\\n猛啊 大家不要再玩了啦', 'tags': [], 'img_count': 5, 'img_infos': [\"May be a cartoon of 2 people, radar and text that says '10:15 99+ RV富盈官方客服 由負賣人员回覆訊息 HLLX 可以上隊口MH」· 浜上只日N」、個由八冰区减 個主八环以膜1 要再因爲任何誤會去導致雙方的誤 解 ，這邊也會盡力協助您的出款問 題。 晚上 晚上10：10 0:10 已讀 晚上10：10 這邊跟大哥確認一下 已讀 晚上10：10 10:10 就是下禮拜一開始可脫售 已讀 晚上10：11 確定每天拖售5-10 可以完整拖售 600萬出來是嘛 萬出來 是嘛 賬號打開後可以正常遊玩 托售是 打開後的7天可以開始托售， 剛開 始會先小額進行托售， 兩三天以後 上市需以梦自北音3-10周，片 只 正常就可以每日托售5-10萬，片 正党就可以每日托售5-10 雙跟行不限制我們，不管您賬號裡 要銀行不限制我們， 不管您賬號裡 面有多少錢都能托售 面有多少錢都能托售，甚至您調到 甚至您贏到 1000萬也是能托售的 相對的這 些時間内如果您輸掉了，那 那自然沒 辦法去進行托售。 晚上10：14 晚上 0:14 R7 富盈 APP下載 APP 好友邀請 會員註冊 立即登入 首次優惠100% 選單・'\", \"May be an image of 2 people and text that says '5:28 99+ 4G RV富盈官方客服 由負責人員回覆訊息 目 Bai 下午5：17 5:17 請問我是賬號開啟七天 下午5:17 下生的可以提領 已讀 可以提領 下午5:17 對吧 已讀 對吧 會員您好，請稍等，這邊幫您做查 會員您好， 請稍等 這邊幫您做查 詢 ，有消息會第一時間通知您， 謝 謝~ 謝 下午5:18 會員您好， 會員您好，滿七天後就可以提領 滿七天後就可以提領 了。 下午 下午5:24 5:24 已讀 下午5：26 那就是2/24可以提領 已讀 下午5：25 對吧 2/25因爲你是2/17晚上11點57分 開啟的 下午5：28 R7 富盈 APP下載 အီးိန် 好友邀請 票産 會员註冊 立即登入 首次優惠100% 選單，'\", \"May be a Twitter screenshot of phone and text that says '5:33 99+ 4G RV富盈官方客服 由負賣人员回覆訊息 找是 找是KV富盘官万各服 智貝您 好， 仔，請問有什麽能協助您的呢 下午6：14 已讀 下午6：14 沒事了我自行排解了 已讀 下午 下午6：14 6:14 謝謝 若沒有其他問題，將先結束對話， 若沒有其他問題， 將先結束對話， 祝您在RV富盈遊玩愉快 下午6：14 今天 已讀 下午5:17 請問我是賬號開啟七天 下午可以提領 已讀 下午5:17 可以提領 基愛 下午5:17 下午57對吧 已讀 對吧 會員您好，請稍等，這邊幫您做查 會員您好 請稍等 這邊幫您做查 詢 ，有消息會第一時間通知您，； 謝 謝 謝~ 下午5：18 會員您好， 好，滿七天後就可以提領 了。 下午5:24 下午 5:24 已讀 下午5:25 那就是2/24可以提領 已讀 下午5:25 對吧 2/25因為你是2/17晚上11點57分 開啟的 下午5:28 下午 下午5:33 5:33 謝謝 Aa'\", \"May be an image of 2 people and text that says '5:28 99+ 4G RV富盈官方客服 由負責人員回覆訊息 目 Bai 下午5：17 5:17 請問我是賬號開啟七天 下午5:17 下生的可以提領 已讀 可以提領 下午5:17 對吧 已讀 對吧 會員您好，請稍等，這邊幫您做查 會員您好， 請稍等 這邊幫您做查 詢 ，有消息會第一時間通知您， 謝 謝~ 謝 下午5:18 會員您好， 會員您好，滿七天後就可以提領 滿七天後就可以提領 了。 下午 下午5:24 5:24 已讀 下午5：26 那就是2/24可以提領 已讀 下午5：25 對吧 2/25因爲你是2/17晚上11點57分 開啟的 下午5：28 R7 富盈 APP下載 အီးိန် 好友邀請 票産 會员註冊 立即登入 首次優惠100% 選單，'\", \"May be an image of text that says 'dh324406 VIP2 $7368578.81 存款轉賬 轉賬 存款 幸運輪盤 最新公告 X 大額托售維護中 2025-02-23 2025-02-2312:38:06 2312：38：06 12:38:06 托售時段限制公告 2024-12-1418:45:5 2024-12-14 18:45:58 USDT儲值公告 2024-12-02 2024-12-0219:22 19：22：13 首次託售通知公告 2024-11-22 2024-11-2203:08:45 03:08:45 信用卡儲值公告 2024-11-20 2024-11-2016:13:05 16：13:05 捕魚 平 優惠 ￥ 客服 首頁 G 存取款 個人中心'\"], 'img_urls': ['https://scontent-tpe1-1.cdninstagram.com/v/t51.2885-15/482278149_17846172801424612_3530953653796014004_n.jpg?stp=dst-jpg_e35_tt6&efg=eyJ2ZW5jb2RlX3RhZyI6ImltYWdlX3VybGdlbi44Njl4MTg4MS5zZHIuZjc1NzYxLmRlZmF1bHRfaW1hZ2UifQ&_nc_ht=scontent-tpe1-1.cdninstagram.com&_nc_cat=104&_nc_oc=Q6cZ2AFffMSLIf7N6g5QqFdFeuh7YnaQq0nc0-FbkuESLv0UdSln-OgxR0Y4j4Kh2mPxJRY&_nc_ohc=sfGXr54Qo4oQ7kNvgGe8mXj&_nc_gid=79fd18d0ffc24b33a41292cd24d6dad1&edm=APs17CUBAAAA&ccb=7-5&ig_cache_key=MzU3NzExODIyNTQxMjg0NzA3Nw%3D%3D.3-ccb7-5&oh=00_AYCij3pXFo44SvLelSzWIhHUd8eH3pGdxXK41YI7V-b7KA&oe=67C72BA4&_nc_sid=10d13b', 'https://scontent-tpe1-1.cdninstagram.com/v/t51.2885-15/482081915_17846172810424612_8899315375412071319_n.jpg?stp=dst-jpg_e35_tt6&efg=eyJ2ZW5jb2RlX3RhZyI6ImltYWdlX3VybGdlbi44Njl4MTg4MS5zZHIuZjc1NzYxLmRlZmF1bHRfaW1hZ2UifQ&_nc_ht=scontent-tpe1-1.cdninstagram.com&_nc_cat=104&_nc_oc=Q6cZ2AFffMSLIf7N6g5QqFdFeuh7YnaQq0nc0-FbkuESLv0UdSln-OgxR0Y4j4Kh2mPxJRY&_nc_ohc=4Vaw6ssHm1AQ7kNvgF_lGDJ&_nc_gid=79fd18d0ffc24b33a41292cd24d6dad1&edm=APs17CUBAAAA&ccb=7-5&ig_cache_key=MzU3NzExODIyNTI0NTEzODIwNw%3D%3D.3-ccb7-5&oh=00_AYDeyep6tS7kTQ9mSCM6SE7MTKjavIIg3UQ2VZ1v0iTDow&oe=67C72A91&_nc_sid=10d13b', 'https://scontent-tpe1-1.cdninstagram.com/v/t51.2885-15/481939811_17846172819424612_8689483531704552592_n.jpg?stp=dst-jpg_e35_tt6&efg=eyJ2ZW5jb2RlX3RhZyI6ImltYWdlX3VybGdlbi44Njl4MTg4MS5zZHIuZjc1NzYxLmRlZmF1bHRfaW1hZ2UifQ&_nc_ht=scontent-tpe1-1.cdninstagram.com&_nc_cat=104&_nc_oc=Q6cZ2AFffMSLIf7N6g5QqFdFeuh7YnaQq0nc0-FbkuESLv0UdSln-OgxR0Y4j4Kh2mPxJRY&_nc_ohc=GVQhRDUJJRIQ7kNvgFvFBt9&_nc_gid=79fd18d0ffc24b33a41292cd24d6dad1&edm=APs17CUBAAAA&ccb=7-5&ig_cache_key=MzU3NzExODIyNTExOTEyMjg5OA%3D%3D.3-ccb7-5&oh=00_AYClJ6ZeKBaXMLagja9puSeFSezW2VXqCotnrNep5XXpOg&oe=67C72EA2&_nc_sid=10d13b', 'https://scontent-tpe1-1.cdninstagram.com/v/t51.2885-15/481942216_17846172828424612_7086337719416641591_n.jpg?stp=dst-jpg_e35_tt6&efg=eyJ2ZW5jb2RlX3RhZyI6ImltYWdlX3VybGdlbi44Njl4MTg4MS5zZHIuZjc1NzYxLmRlZmF1bHRfaW1hZ2UifQ&_nc_ht=scontent-tpe1-1.cdninstagram.com&_nc_cat=104&_nc_oc=Q6cZ2AFffMSLIf7N6g5QqFdFeuh7YnaQq0nc0-FbkuESLv0UdSln-OgxR0Y4j4Kh2mPxJRY&_nc_ohc=biVP9kWSUvAQ7kNvgFt2PBj&_nc_gid=79fd18d0ffc24b33a41292cd24d6dad1&edm=APs17CUBAAAA&ccb=7-5&ig_cache_key=MzU3NzExODIyNTExMDgxMTMyMg%3D%3D.3-ccb7-5&oh=00_AYBEx6nrbMyQkNkfQlDQgtWW_OFSaaj1avCWC04kxfHYIQ&oe=67C72D1D&_nc_sid=10d13b', 'https://scontent-tpe1-1.cdninstagram.com/v/t51.2885-15/482155242_17846172837424612_2731660529949616644_n.jpg?stp=dst-jpg_e35_tt6&efg=eyJ2ZW5jb2RlX3RhZyI6ImltYWdlX3VybGdlbi44Njl4MTM1Ni5zZHIuZjc1NzYxLmRlZmF1bHRfaW1hZ2UifQ&_nc_ht=scontent-tpe1-1.cdninstagram.com&_nc_cat=104&_nc_oc=Q6cZ2AFffMSLIf7N6g5QqFdFeuh7YnaQq0nc0-FbkuESLv0UdSln-OgxR0Y4j4Kh2mPxJRY&_nc_ohc=oaZBe44x1WYQ7kNvgGtaag5&_nc_gid=79fd18d0ffc24b33a41292cd24d6dad1&edm=APs17CUBAAAA&ccb=7-5&ig_cache_key=MzU3NzExODIyNTQyMTA5MzI2MA%3D%3D.3-ccb7-5&oh=00_AYCmXtc-8Yt2_AUFMNKMBOppamryjlvm25KD6rj_F8Bw5A&oe=67C6FECA&_nc_sid=10d13b'], 'img_ids': ['482278149_17846172801424612_3530953653796014004_n.jpg', '482081915_17846172810424612_8899315375412071319_n.jpg', '481939811_17846172819424612_8689483531704552592_n.jpg', '481942216_17846172828424612_7086337719416641591_n.jpg', '482155242_17846172837424612_2731660529949616644_n.jpg'], 'like_count': '54', 'reply_count': '123', 'forward_count': '2', 'share_count': '17', 'url': 'https://www.threads.net/@cacau_189878/post/DGkehR1zhNz', 'category': 'gamble', 'keyword': '娛樂城', 'label': 0}\n",
      "{'username': 'zh__0255', 'display_name': 'zh__0255', 'joined_date': '2023年7月', 'user_verified': False, 'fan': '232', 'bio': '長大其實挺好的，能買自己想吃的蛋糕，能去想去的遠方，能幫自己的親人分擔壓力，能有更多更多的選擇，唯一不能的，就是回到小時候', 'published_on': '2024年10月9日 星期三 下午1:47', 'text': '無聊統計一下玩過的娛樂城\\n這麼滿了 還有哪些是沒玩過的\\n求推薦', 'tags': [], 'img_count': 1, 'img_infos': ['No photo description available.'], 'img_urls': ['https://scontent-tpe1-1.cdninstagram.com/v/t51.29350-15/462443525_472815505779069_9009881256297340702_n.jpg?stp=dst-jpg_e35_tt6&efg=eyJ2ZW5jb2RlX3RhZyI6ImltYWdlX3VybGdlbi4xMzIweDM1MS5zZHIuZjI5MzUwLmRlZmF1bHRfaW1hZ2UifQ&_nc_ht=scontent-tpe1-1.cdninstagram.com&_nc_cat=109&_nc_oc=Q6cZ2AFffMSLIf7N6g5QqFdFeuh7YnaQq0nc0-FbkuESLv0UdSln-OgxR0Y4j4Kh2mPxJRY&_nc_ohc=3PFyAUe4cEQQ7kNvgGSt_wI&_nc_gid=79fd18d0ffc24b33a41292cd24d6dad1&edm=APs17CUBAAAA&ccb=7-5&ig_cache_key=MzQ3NDgzNjcwMjM2OTY3ODE0OQ%3D%3D.3-ccb7-5&oh=00_AYB2FzqfbNWD9bWIulQOki15Kktxag5_6k9SD3OEGtHCAw&oe=67C71DFA&_nc_sid=10d13b'], 'img_ids': ['462443525_472815505779069_9009881256297340702_n.jpg'], 'like_count': '148', 'reply_count': '244', 'forward_count': '2', 'share_count': '40', 'url': 'https://www.threads.net/@zh__0255/post/DA5GZIBPANF', 'category': 'gamble', 'keyword': '娛樂城', 'label': 0}\n",
      "{'username': 'aa_08.12', 'display_name': 'aa_08.12', 'joined_date': '2025年1月', 'user_verified': False, 'fan': '80', 'bio': '娛樂城玩家非代理\\n在我這看不到娛樂城的活動\\n也看不到1000變10萬的詐圖\\n在我這只能看到如何不被拐', 'published_on': '2025年2月16日 星期日 上午4:59', 'text': '娛樂城心得分享\\n以下屬於自己遊玩後的感想 並無詆毀之意\\n本人目前玩過3A,88Win,T8,通博,TZ,任你博,大撈家,AT99,鉅城\\n⚠️注意⚠️\\n新手期是我自己的一種說話意思是 新帳號比較容易給你贏\\n3A出金✅新手期超讚 但新手期過了就開始有難度了新手期時2000變8000很正常 後期10000給你個6-8千就要偷笑了 反水0.4 VIP的制度不詳個人認為可以當做娛樂用就好不要真的來大賭特賭 代理：雲X團隊的X龍\\n88Win出金✅平平感想真的不多 但還算公正的平台 無代理\\nT8出金✅新手期超香 我儲1000開一萬給我他們反水也很香1%目前該平台儲值3000提領了40000 代理：億X會員群X盞 福利多到靠北推👍可是新手期之後就麻煩了 前面開太大目前有難度\\n通博出金✅新手期普普 平台公正最適合公平對戰機台的平台 無代理\\nTZ出金✅新手期普普 機台感覺後端控很嚴重給分都給的很剛好 比如1000，888，666之類的代理：雲X團隊的X龍\\n任你博出金✅新手期很香在乎體驗感歡迎嘗試但獲利就還好了 他的首儲綁18流水！！！電子機台只要有水在流都是好事 開分率才會高\\n其他的下一篇', 'tags': [], 'img_count': 0, 'img_infos': [], 'img_urls': [], 'img_ids': [], 'like_count': '162', 'reply_count': '66', 'forward_count': '4', 'share_count': '101', 'url': 'https://www.threads.net/@aa_08.12/post/DGG5T6JzgmG', 'category': 'gamble', 'keyword': '娛樂城', 'label': 0}\n",
      "{'username': 'roythereal__00', 'display_name': 'roythereal__00', 'joined_date': '2024年5月', 'user_verified': False, 'fan': '305', 'bio': '', 'published_on': '2025年1月26日 星期日 下午5:55', 'text': '超級可悲2萬多也不出金\\n輸不起做什麼娛樂城\\n富遊娛樂', 'tags': ['富遊娛樂'], 'img_count': 1, 'img_infos': ['May be a Twitter screenshot of text'], 'img_urls': ['https://scontent-tpe1-1.cdninstagram.com/v/t51.2885-15/475132604_18485653822040512_961973192080090964_n.jpg?stp=dst-jpg_e35_tt6&efg=eyJ2ZW5jb2RlX3RhZyI6ImltYWdlX3VybGdlbi4xMTcweDI1MzIuc2RyLmY3NTc2MS5kZWZhdWx0X2ltYWdlIn0&_nc_ht=scontent-tpe1-1.cdninstagram.com&_nc_cat=104&_nc_oc=Q6cZ2AFffMSLIf7N6g5QqFdFeuh7YnaQq0nc0-FbkuESLv0UdSln-OgxR0Y4j4Kh2mPxJRY&_nc_ohc=NOFShOKqG-8Q7kNvgHkkkay&_nc_gid=79fd18d0ffc24b33a41292cd24d6dad1&edm=APs17CUBAAAA&ccb=7-5&ig_cache_key=MzU1Mzk2MjQ0NDU5NzQ0MDIyMA%3D%3D.3-ccb7-5&oh=00_AYClRcRBOBL_LZ6_4n4m9SOSUdPJ4q0s_oay_EoQzF6KCg&oe=67C70D1A&_nc_sid=10d13b'], 'img_ids': ['475132604_18485653822040512_961973192080090964_n.jpg'], 'like_count': '214', 'reply_count': '172', 'forward_count': '1', 'share_count': '97', 'url': 'https://www.threads.net/@roythereal__00/post/DFSNgN_Ty7c', 'category': 'gamble', 'keyword': '娛樂城', 'label': 0}\n",
      "{'username': 'ana7090627', 'display_name': 'ana7090627', 'joined_date': '2024年11月', 'user_verified': False, 'fan': '82', 'bio': '', 'published_on': '2025年2月27日 星期四 下午8:40', 'text': '實測結果來了！這2年我花了不少錢，試過「泉職代理」和「較穩代理」，真實回報！ 娛樂城代理', 'tags': ['娛樂城代理'], 'img_count': 1, 'img_infos': ['May be an image of calendar, crossword puzzle and text'], 'img_urls': ['https://scontent-tpe1-1.cdninstagram.com/v/t51.2885-15/481127040_17867986311326339_7983743304562270465_n.jpg?stp=dst-jpg_e35_tt6&efg=eyJ2ZW5jb2RlX3RhZyI6ImltYWdlX3VybGdlbi4xMTcweDEzNTguc2RyLmY3NTc2MS5kZWZhdWx0X2ltYWdlIn0&_nc_ht=scontent-tpe1-1.cdninstagram.com&_nc_cat=111&_nc_oc=Q6cZ2AFffMSLIf7N6g5QqFdFeuh7YnaQq0nc0-FbkuESLv0UdSln-OgxR0Y4j4Kh2mPxJRY&_nc_ohc=kmuenNB7gKQQ7kNvgFUEat1&_nc_gid=79fd18d0ffc24b33a41292cd24d6dad1&edm=APs17CUBAAAA&ccb=7-5&ig_cache_key=MzU3NzIzNzk1Njg4NjAxNTgzMw%3D%3D.3-ccb7-5&oh=00_AYDs0sRK4IRvTSnmTXDSU8x46J4aM0255dVfiRn1lFbK5w&oe=67C7014D&_nc_sid=10d13b'], 'img_ids': ['481127040_17867986311326339_7983743304562270465_n.jpg'], 'like_count': '296', 'reply_count': '288', 'forward_count': '32', 'share_count': '249', 'url': 'https://www.threads.net/@ana7090627/post/DGk5vgBPC9Z', 'category': 'gamble', 'keyword': '娛樂城', 'label': 0}\n",
      "{'username': 'zxczxc436790', 'display_name': 'zxczxc436790', 'joined_date': '2025年2月', 'user_verified': False, 'fan': '172', 'bio': '我的秘密太多 等你來挖掘\\nLine: notdream1617', 'published_on': '2025年2月28日 星期五 下午12:24', 'text': '就一個字 送\\n送2000 要玩賽特百家找我\\n免費 免儲值 免本金\\n娛樂城 代理 百家樂 戰神賽特 拜金女帝 雷神之槌', 'tags': ['娛樂城 代理 百家樂 戰神賽特 拜金女帝 雷神之槌'], 'img_count': 0, 'img_infos': [], 'img_urls': [], 'img_ids': [], 'like_count': '13', 'reply_count': '6', 'forward_count': 0, 'share_count': 0, 'url': 'https://www.threads.net/@zxczxc436790/post/DGml2n6yIHg', 'category': 'gamble', 'keyword': '娛樂城', 'label': 1}\n",
      "{'username': 'assuming_3290', 'display_name': 'assuming_3290', 'joined_date': '2025年2月', 'user_verified': False, 'fan': '0', 'bio': '連本金都幫你 處理好了\\n不用花你任何一毛錢送你2000\\nLine:pin520810', 'published_on': '2025年2月28日 星期五 上午11:56', 'text': '跟你說了 無使用條件⋯\\n送2000打娛樂城 免花任何本\\n贏你拿走 不用資格⋯', 'tags': [], 'img_count': 0, 'img_infos': [], 'img_urls': [], 'img_ids': [], 'like_count': '1', 'reply_count': '3', 'forward_count': 0, 'share_count': 0, 'url': 'https://www.threads.net/@assuming_3290/post/DGmiki4zDq8', 'category': 'gamble', 'keyword': '娛樂城', 'label': 1}\n",
      "{'username': 'bchen8307', 'display_name': 'bchen8307', 'joined_date': '2025年2月', 'user_verified': False, 'fan': '204', 'bio': '人不犯我 我不犯人', 'published_on': '2025年2月22日 星期六 下午4:27', 'text': '@yuann.tseng_\\n要不要出來說一下啊== 娛樂城詐騙 RG富遊會害人家變成警示戶 贏到200多萬 連提領都還沒提領 我早上要轉帳時發現變成警示戶 代理還不承認是他們害的 不是你們為什麼要我上傳審核？ 害我成警示戶 請問有經驗的人 我這樣是可以告他們嗎？我要怎麼解開警示戶？\\n請大家注意此娛樂城RG富遊！', 'tags': ['@yuann.tseng_'], 'img_count': 3, 'img_infos': [\"May be a doodle of phone and text that says '今天 (MR-97)1)︱MSGH5287:很抱 歉 款，您輸入之身分證號無有效 帳戶或帳戶已止付， 我們無法 為您服務。 已讀 下午1：16 確認 已讀 下午1：16 w 照片 這是怎樣？ ?? 下午2:28 你怎突然變警示戶？ 下午2:28 已讀 下午2：29 問你們啊？我連提領都還沒提 問你們啊？ 領怎麽會變警示戶 已讀 下午2:29 是不是我審核給的那些照片？ 已讀 下午： 下午2:29 是不是你們搞的？ 你連提領都還沒提領怎麽會是 我們把你用成警示戶.. 下午2:31 而且我們RG金流是沒問題 的… 下午2：31 上千個會員使用都沒有問題 下午2:31 你有把帳戶借給別人用嗎？ 下午2:31 已讀 下午2:32 你們是不是詐騙阿？ 已讀 下午2:32 帶我贏多都還沒提領就變警示 F?'\", \"May be an image of screen, timer, radar and text that says '3:45 11 錢包中心 場館餘額 交易明細 主帳戶 主帳戶（元） （元） $2,052,497.17 $2,052 富遊電子 展開明細 RSG BNG 0.42 GR 0 0 ZG DBE 0 0 0 高登電子 S PLUS 0 TAG 0 0 富遊彩票 0 WINNER DB 0 富遊真人 0 DB真人 DG 0 MT 0 歌博 0 WINNERA OG 0 SA 0 0 WM WE 0 0 DB棋牌 GEMINI 0 BOYA 0 登棋牌 DB刮刮樂 存取款 rggo5269.com <'\", \"May be a cartoon of emu and text that says '(MR-97) （MR-97）（1）[MSGH5287：很抱 (1) [MSGH5287]: 很抱 MR- 97)(1) 歉， 您輸入之身分證號無有效 賬戶或帳戶已止付 賬戶已止付，我們無 我們無法 爲您服務。 確認'\"], 'img_urls': ['https://scontent-tpe1-1.cdninstagram.com/v/t51.2885-15/481411398_17849405580407770_3774952920586821661_n.jpg?stp=dst-jpg_e35_tt6&efg=eyJ2ZW5jb2RlX3RhZyI6ImltYWdlX3VybGdlbi43ODB4MTk5NC5zZHIuZjc1NzYxLmRlZmF1bHRfaW1hZ2UifQ&_nc_ht=scontent-tpe1-1.cdninstagram.com&_nc_cat=110&_nc_oc=Q6cZ2AFffMSLIf7N6g5QqFdFeuh7YnaQq0nc0-FbkuESLv0UdSln-OgxR0Y4j4Kh2mPxJRY&_nc_ohc=s-kVGWUu2wwQ7kNvgF32vHh&_nc_gid=79fd18d0ffc24b33a41292cd24d6dad1&edm=APs17CUBAAAA&ccb=7-5&ig_cache_key=MzU3MzQ4NjY3Mzk1Njc0NTk0OA%3D%3D.3-ccb7-5&oh=00_AYCSLz8mI8r7bI87dN8OvEBd2cdXeU2cb8wNWjW4cDv9hQ&oe=67C700F3&_nc_sid=10d13b', 'https://scontent-tpe1-1.cdninstagram.com/v/t51.2885-15/481268852_17849405598407770_7517178434847822004_n.jpg?stp=dst-jpg_e35_tt6&efg=eyJ2ZW5jb2RlX3RhZyI6ImltYWdlX3VybGdlbi44NjB4MTg4Mi5zZHIuZjc1NzYxLmRlZmF1bHRfaW1hZ2UifQ&_nc_ht=scontent-tpe1-1.cdninstagram.com&_nc_cat=110&_nc_oc=Q6cZ2AFffMSLIf7N6g5QqFdFeuh7YnaQq0nc0-FbkuESLv0UdSln-OgxR0Y4j4Kh2mPxJRY&_nc_ohc=-du6t0QsN24Q7kNvgHb8ylH&_nc_gid=79fd18d0ffc24b33a41292cd24d6dad1&edm=APs17CUBAAAA&ccb=7-5&ig_cache_key=MzU3MzQ4NjY3NDA4MjU2MTUwMg%3D%3D.3-ccb7-5&oh=00_AYBsnJv7Sst-2nJiQHUk13eot2cGFkx8oR082aeIXUIJFA&oe=67C714F2&_nc_sid=10d13b', 'https://scontent-tpe1-1.cdninstagram.com/v/t51.2885-15/481506891_17849405727407770_5295299788764001634_n.jpg?stp=dst-jpg_e35_tt6&efg=eyJ2ZW5jb2RlX3RhZyI6ImltYWdlX3VybGdlbi45NjN4MTA1Mi5zZHIuZjc1NzYxLmRlZmF1bHRfaW1hZ2UifQ&_nc_ht=scontent-tpe1-1.cdninstagram.com&_nc_cat=110&_nc_oc=Q6cZ2AFffMSLIf7N6g5QqFdFeuh7YnaQq0nc0-FbkuESLv0UdSln-OgxR0Y4j4Kh2mPxJRY&_nc_ohc=w61fXe0JFq0Q7kNvgG9fI_B&_nc_gid=79fd18d0ffc24b33a41292cd24d6dad1&edm=APs17CUBAAAA&ccb=7-5&ig_cache_key=MzU3MzQ4NjY3NDEzMjk4NjAwNw%3D%3D.3-ccb7-5&oh=00_AYAiM6Ond_MCqeUJ0ELR7piXsL0K3eIkg6qu9zxfUqcvog&oe=67C71457&_nc_sid=10d13b'], 'img_ids': ['481411398_17849405580407770_3774952920586821661_n.jpg', '481268852_17849405598407770_7517178434847822004_n.jpg', '481506891_17849405727407770_5295299788764001634_n.jpg'], 'like_count': '235', 'reply_count': '27', 'forward_count': '1', 'share_count': '8', 'url': 'https://www.threads.net/@bchen8307/post/DGXkzRByMiJ', 'category': 'gamble', 'keyword': '娛樂城', 'label': 0}\n",
      "{'username': 'dog298766', 'display_name': 'dog298766', 'joined_date': '2024年11月', 'user_verified': False, 'fan': '43', 'bio': '玩娛樂城 連儲值都不用\\n找我註冊送6000 不用儲值\\nLine:kwe16688', 'published_on': '2025年2月28日 星期五 下午12:00', 'text': '信用版 娛樂城 \\n免儲值 雷神 賽特 DG歐博\\n不用儲值10000給你玩\\n在送6000 介紹費3000\\n連本金都不用 還在想••••', 'tags': [], 'img_count': 0, 'img_infos': [], 'img_urls': [], 'img_ids': [], 'like_count': '1', 'reply_count': '4', 'forward_count': 0, 'share_count': 0, 'url': 'https://www.threads.net/@dog298766/post/DGmjDHXBd4B', 'category': 'gamble', 'keyword': '娛樂城', 'label': 1}\n",
      "{'username': 'ts__519__st', 'display_name': 'ts__519__st', 'joined_date': '2024年8月', 'user_verified': False, 'fan': '91', 'bio': '夕陽無限好🌇，只是近黃昏。\\n全面推出「電子.百家.體育.彩票」\\n多會爆分我不唬爛 要你就來看看👀', 'published_on': '2024年9月25日 星期三 下午3:18', 'text': '媽的 xxx 娛樂城 \\n贏個八萬多不出金給我….', 'tags': ['娛樂城'], 'img_count': 0, 'img_infos': [], 'img_urls': [], 'img_ids': [], 'like_count': '364', 'reply_count': '215', 'forward_count': '2', 'share_count': '60', 'url': 'https://www.threads.net/@ts__519__st/post/DAVNrIQJmQD', 'category': 'gamble', 'keyword': '娛樂城', 'label': 0}\n",
      "{'username': 'ms_xhm', 'display_name': 'ms_xhm', 'joined_date': '2024年8月', 'user_verified': False, 'fan': '10', 'bio': '', 'published_on': '2025年2月26日 星期三 下午6:39', 'text': '有沒有敢給的娛樂城阿？\\n一堆流水不足領不出來\\n儲五千贏兩萬\\n他媽的只能領八千，三小啊🤔', 'tags': [], 'img_count': 0, 'img_infos': [], 'img_urls': [], 'img_ids': [], 'like_count': '282', 'reply_count': '127', 'forward_count': 0, 'share_count': '7', 'url': 'https://www.threads.net/@ms_xhm/post/DGiHHskSy2g', 'category': 'gamble', 'keyword': '娛樂城', 'label': 0}\n",
      "{'username': 'heart_pin327', 'display_name': 'heart_pin327', 'joined_date': '2024年9月', 'user_verified': False, 'fan': '134', 'bio': '分享日常的斜槓女子 | 歡迎來找我一起賺錢💰\\n台灣玩家首選 | 多種遊戲🎮公平公正\\n趕快找我立即註冊 優惠送多多\\n#手機賺錢 #老虎機🎰#電子#體育#真人', 'published_on': '2024年9月25日 星期三 下午2:11', 'text': '做娛樂城為什麼一直看不起我就問...', 'tags': [], 'img_count': 0, 'img_infos': [], 'img_urls': [], 'img_ids': [], 'like_count': '466', 'reply_count': '311', 'forward_count': '5', 'share_count': '81', 'url': 'https://www.threads.net/@heart_pin327/post/DAVGDM_SmM-', 'category': 'gamble', 'keyword': '娛樂城', 'label': 0}\n",
      "⚠️ you8787_you 已不存在\n",
      "{'username': 'you8787_you', 'user_verified': False, 'published_on': '2025年2月28日 星期五 上午3:59', 'text': '富遊娛樂城 莫名其妙不讓我投注體育，今天還看到不出款的訊息 看來不能玩了', 'tags': [], 'img_count': 0, 'img_infos': [], 'img_urls': [], 'img_ids': [], 'like_count': '8', 'reply_count': '24', 'forward_count': 0, 'share_count': 0, 'url': 'https://www.threads.net/@you8787_you/post/DGlsBRAzvGv', 'category': 'gamble', 'keyword': '娛樂城', 'label': 0}\n",
      "{'username': 'aifather888', 'display_name': 'aifather888', 'joined_date': '2024年12月', 'user_verified': False, 'fan': '1,265', 'bio': 'Stanford史丹佛Ai領域資優生📚\\n專精Ai高智能科技🔎\\n利用新世代高智能科技征服電子娛樂世界💡\\n業界最強沒有第二‼️\\n💎我是電子Ai教父💎\\n🔥全網唯一其餘皆是仿冒爛貨🔥\\nLine:rgai888', 'published_on': '2025年2月26日 星期三 上午2:53', 'text': '緊急！嚴重！快訊！\\n全台灣娛樂城系統安全機制偵測技術高端！\\n不要再相信什麼Ai選房外掛程式了！\\n搞到帳號直接被封鎖不會是你想要的結果！\\n流量密碼', 'tags': ['流量密碼'], 'img_count': 1, 'img_infos': ['可能是顯示的文字是「 12:21 ..5G69 5G 69 9田 RGO遊 嘉遊 登入 註冊 切換手機登入 請輸入帳號 X 提示 [400]-賬號已停用 [400]- 賬號已停用 立即登入 先去逛逛」的卡通'], 'img_urls': ['https://scontent-tpe1-1.cdninstagram.com/v/t51.2885-15/481839529_17855056002389167_4845495696343712246_n.jpg?stp=dst-jpg_e35_tt6&efg=eyJ2ZW5jb2RlX3RhZyI6ImltYWdlX3VybGdlbi44NzB4MTg4Mi5zZHIuZjc1NzYxLmRlZmF1bHRfaW1hZ2UifQ&_nc_ht=scontent-tpe1-1.cdninstagram.com&_nc_cat=107&_nc_oc=Q6cZ2AFICscoDSADADhmU2tlOUPsdar_b7RQ5VNk_ptvAYJkSV3qZZksHCpJNgWujNQLRSU&_nc_ohc=c2qr442KH68Q7kNvgGmBo12&_nc_gid=a1894a338635403c96eaecbf3295986e&edm=AJhczIQBAAAA&ccb=7-5&ig_cache_key=MzU3NTk3NjUwMDYzOTkwODU0Mg%3D%3D.3-ccb7-5&oh=00_AYBRLCz7mQjYePzJeTS_WoIUQO7TqpZwoxcjVGuRlaymyA&oe=67C72E58&_nc_sid=4a2096'], 'img_ids': ['481839529_17855056002389167_4845495696343712246_n.jpg'], 'like_count': '122', 'reply_count': '63', 'forward_count': 0, 'share_count': '50', 'url': 'https://www.threads.net/@aifather888/post/DGga65VyUK-', 'category': 'gamble', 'keyword': '娛樂城', 'label': 0}\n",
      "{'username': 'candy.f2001_', 'display_name': 'candy.f2001_', 'joined_date': '2024年10月', 'user_verified': False, 'fan': '67', 'bio': '一個被娛樂城騙到自己在做娛樂城😭', 'published_on': '2024年10月8日 星期二 下午5:49', 'text': '在某家娛樂城1萬贏到7萬多\\n跟我說非法套利只退本金\\n這是什麼意思 好不容易贏錢\\n這個有解嗎⋯\\n娛樂城', 'tags': ['娛樂城'], 'img_count': 0, 'img_infos': [], 'img_urls': [], 'img_ids': [], 'like_count': '997', 'reply_count': '382', 'forward_count': '3', 'share_count': '89', 'url': 'https://www.threads.net/@candy.f2001_/post/DA29SzqBlTV', 'category': 'gamble', 'keyword': '娛樂城', 'label': 0}\n",
      "{'username': 'yuukii_1225', 'display_name': 'yuukii_1225', 'joined_date': '2024年6月', 'user_verified': False, 'fan': '154', 'bio': '靠邀小天地；每天都在更新我的三觀(◐‿◑)�', 'published_on': '2024年10月26日 星期六 上午8:19', 'text': '好奇很多娛樂城的代理那麼厲害，為啥不幫自己打就好了，還要幫別人然後賺水錢==？？？？', 'tags': [], 'img_count': 0, 'img_infos': [], 'img_urls': [], 'img_ids': [], 'like_count': '138', 'reply_count': '164', 'forward_count': 0, 'share_count': '4', 'url': 'https://www.threads.net/@yuukii_1225/post/DBkSY5AhMjz', 'category': 'gamble', 'keyword': '娛樂城', 'label': 0}\n",
      "{'username': 'h_20417', 'display_name': 'h_20417', 'joined_date': '2023年7月', 'user_verified': False, 'fan': '551', 'bio': '🔮燈泡肌製造所\\n🔮註冊推薦碼:3230213413\\n🔮彩妝ㅣ美容ㅣ頭髮ㅣ健康ㅣ瘦身ㅣ\\n🔮從頭到腳の保養ㅣ選力曼齁力曼慢變水✨\\n🇵🇭✖️🇹🇼 Mixed', 'published_on': '2025年1月25日 星期六 下午2:17', 'text': '耖你他媽的3A娛樂城\\n幹 勸大家不要被詐騙', 'tags': [], 'img_count': 0, 'img_infos': [], 'img_urls': [], 'img_ids': [], 'like_count': '397', 'reply_count': '166', 'forward_count': '1', 'share_count': '30', 'url': 'https://www.threads.net/@h_20417/post/DFPPqIzBvuR', 'category': 'gamble', 'keyword': '娛樂城', 'label': 0}\n",
      "{'username': 'lianghongc', 'display_name': 'lianghongc', 'joined_date': '2024年5月', 'user_verified': False, 'fan': '46', 'bio': '', 'published_on': '2024年12月12日 星期四 上午12:10', 'text': '哪間娛樂城可以打賽特的 不要富遊那種不敢開的', 'tags': [], 'img_count': 0, 'img_infos': [], 'img_urls': [], 'img_ids': [], 'like_count': '143', 'reply_count': '333', 'forward_count': 0, 'share_count': '6', 'url': 'https://www.threads.net/@lianghongc/post/DDcbzbYyyCP', 'category': 'gamble', 'keyword': '娛樂城', 'label': 0}\n",
      "{'username': 'raining519', 'display_name': 'raining519', 'joined_date': '2024年9月', 'user_verified': False, 'fan': '95', 'bio': '', 'published_on': '2025年2月28日 星期五 上午2:49', 'text': '巡娛樂城代理\\n退水高優惠多優先～', 'tags': [], 'img_count': 0, 'img_infos': [], 'img_urls': [], 'img_ids': [], 'like_count': '7', 'reply_count': '32', 'forward_count': 0, 'share_count': 0, 'url': 'https://www.threads.net/@raining519/post/DGlj8S5T9xA', 'category': 'gamble', 'keyword': '娛樂城', 'label': 0}\n",
      "{'username': 'hulk__1688', 'display_name': 'hulk__1688', 'joined_date': '2024年9月', 'user_verified': False, 'fan': '669', 'bio': 'Line:@688zbbio\\n來找我 我告訴你一個秘密', 'published_on': '2025年2月17日 星期一 下午10:27', 'text': '富遊娛樂城不好意思⋯撞了你153萬‼️\\n會員到底有什麼問題 誰的娛樂城能不能搞清楚\\n娛樂城 \\nLine:dhulk16888', 'tags': ['娛樂城'], 'img_count': 2, 'img_infos': ['可能是雷達、計時器和顯示的文字是「錢包 X 主帳戶 （元） $1588250.91 富遊電子 一鍵回收 RSG S PLUS 0.55 0.05 BNG ZG 高登電子 GR DB電子 TAG TAG 富遊彩票 WINNER DB 富遊真人 DB真人 DG 0.02 總資產 （元） $1588252.53 」的圖像', '可能是顯示的文字是「 9+ 9+唐佳佳 唐佳佳 大か r9905269. com [I 晚上10：14 哥 我要領多少出來 晚上10：15 你真的很强哈哈 晚上 晚上10：15 10:15 呃.. 410：15 已呃... 2 已賞 晚上10:15 晚上 10:15 你知道我是富盈娛樂城嗎 什麽啦哥我打錯娛樂城了嗎？你 不是富遊嗎？ 晚上10：16 哥對不起 我前面的對話都不 見了 有出車禍換手機 晚上10:16 晚上 這樣我去儲值你那透玩你不要生 氣好嗎 晚上10：17 晚上 10:17 不是 是只是帶了你這麽久花 花費這 麽多心力和時間結果而不是在我 麽多心力和時間 結果而不是在我 上的特線下玩 配讀 上10：18 缐下玩 晚上10:18 已誰感覺很不好 已讀 感覺很不好 哥對不起啦 拉還是包一萬塊給你吧 晚上1 晚上10：18 10:18 你帶我賺這麽多 晚上 晚上10：18 10:18 」的插圖'], 'img_urls': ['https://scontent-tpe1-1.cdninstagram.com/v/t51.2885-15/479183352_17867958444314136_3584051925378640019_n.jpg?stp=dst-jpg_e35_tt6&efg=eyJ2ZW5jb2RlX3RhZyI6ImltYWdlX3VybGdlbi4xMDU4eDE0NTUuc2RyLmY3NTc2MS5kZWZhdWx0X2ltYWdlIn0&_nc_ht=scontent-tpe1-1.cdninstagram.com&_nc_cat=100&_nc_oc=Q6cZ2AGwa8GzD6opFlmp_77L6E_9PVMH66PCcY_21OfiM3zIIvlrO2uzYvuUx5ypD_hA044&_nc_ohc=diYjtWliYMgQ7kNvgF5HfFn&_nc_gid=bfb1c1fe7a0648358afb018feb1f3282&edm=AJhczIQBAAAA&ccb=7-5&ig_cache_key=MzU3MDA0NDE1NzUzNDMzNDc3OA%3D%3D.3-ccb7-5&oh=00_AYCcbFTC0ODjTxkhilKHXMrRGdV2y_iDZhokZkw7pUk_sw&oe=67C70326&_nc_sid=4a2096', 'https://scontent-tpe1-1.cdninstagram.com/v/t51.2885-15/479979984_17867958453314136_8428260752898328562_n.jpg?stp=dst-jpg_e35_tt6&efg=eyJ2ZW5jb2RlX3RhZyI6ImltYWdlX3VybGdlbi4xMDQyeDIwOTguc2RyLmY3NTc2MS5kZWZhdWx0X2ltYWdlIn0&_nc_ht=scontent-tpe1-1.cdninstagram.com&_nc_cat=100&_nc_oc=Q6cZ2AGwa8GzD6opFlmp_77L6E_9PVMH66PCcY_21OfiM3zIIvlrO2uzYvuUx5ypD_hA044&_nc_ohc=RtvEkUu7GVAQ7kNvgEa4T4a&_nc_gid=bfb1c1fe7a0648358afb018feb1f3282&edm=AJhczIQBAAAA&ccb=7-5&ig_cache_key=MzU3MDA0NDE1NzUzNDMzMDg3Mg%3D%3D.3-ccb7-5&oh=00_AYDUFZdT9PPpjvpXTPlJ2cY65Nof4968H4cbbsSyzWPjtw&oe=67C71D58&_nc_sid=4a2096'], 'img_ids': ['479183352_17867958444314136_3584051925378640019_n.jpg', '479979984_17867958453314136_8428260752898328562_n.jpg'], 'like_count': '175', 'reply_count': '104', 'forward_count': '10', 'share_count': '21', 'url': 'https://www.threads.net/@hulk__1688/post/DGLWEDnSPyl', 'category': 'gamble', 'keyword': '娛樂城', 'label': 0}\n",
      "⚠️ hai_sheng_779 已不存在\n",
      "{'username': 'hai_sheng_779', 'user_verified': False, 'published_on': '2025年2月12日 星期三 上午12:33', 'text': '跟到一場直播 他們爆兩千多萬??這真的假的 我是覺得很誇張 哪一間娛樂城也不知道 你們覺得呢\\n不懂就問脆', 'tags': ['不懂就問脆'], 'img_count': 1, 'img_infos': ['可能是文字的圖像'], 'img_urls': ['https://scontent-tpe1-1.cdninstagram.com/v/t51.2885-15/479488848_17846669598408866_7273992398688747860_n.jpg?stp=dst-jpg_e35_tt6&efg=eyJ2ZW5jb2RlX3RhZyI6ImltYWdlX3VybGdlbi44MjN4NDY3LnNkci5mNzU3NjEuZGVmYXVsdF9pbWFnZSJ9&_nc_ht=scontent-tpe1-1.cdninstagram.com&_nc_cat=102&_nc_oc=Q6cZ2AGwa8GzD6opFlmp_77L6E_9PVMH66PCcY_21OfiM3zIIvlrO2uzYvuUx5ypD_hA044&_nc_ohc=qY6875UlWj8Q7kNvgG7iBTS&_nc_gid=bfb1c1fe7a0648358afb018feb1f3282&edm=AJhczIQBAAAA&ccb=7-5&ig_cache_key=MzU2NTc1ODc5NDA4NzI3MzI0Nw%3D%3D.3-ccb7-5&oh=00_AYA_Bfluu39hwn5QF2verAbH9IHuGtSZe3DictJXLkRRXg&oe=67C71705&_nc_sid=4a2096'], 'img_ids': ['479488848_17846669598408866_7273992398688747860_n.jpg'], 'like_count': '227', 'reply_count': '56', 'forward_count': '1', 'share_count': '21', 'url': 'https://www.threads.net/@hai_sheng_779/post/DF8HrskTBMf', 'category': 'gamble', 'keyword': '娛樂城', 'label': 0}\n",
      "{'username': '7richard.58', 'display_name': '7richard.58', 'joined_date': '2023年11月', 'user_verified': False, 'fan': '88', 'bio': '我是最棒ㄉ', 'published_on': '2025年2月22日 星期六 下午11:54', 'text': '娛樂城 \\n鉅城、3A、威樂、大老爺、雄厚 \\n這幾間娛樂城是怎樣？\\n存款提款秒到就算了，秒匯秒上分，自動錢包還這麼方便，\\n特殊儲值通道，一天轉帳好幾筆銀行都不會打來，脫售到帳也一樣，到底是什麼鬼才發明這麼好用的平台？\\n前陣子有玩幾間匯款完還等快10分鐘才上分拎八差點\\n沒尬到…', 'tags': ['娛樂城'], 'img_count': 0, 'img_infos': [], 'img_urls': [], 'img_ids': [], 'like_count': '147', 'reply_count': '113', 'forward_count': '14', 'share_count': '35', 'url': 'https://www.threads.net/@7richard.58/post/DGYX98mTqo_', 'category': 'gamble', 'keyword': '娛樂城', 'label': 1}\n",
      "{'username': 'viole_t822', 'display_name': 'viole_t822', 'joined_date': '2024年11月', 'user_verified': False, 'fan': '24', 'bio': '娛樂城 免費玩 無本\\n找我就送6000 註冊馬上送\\nLine:kwe16688', 'published_on': '2025年2月28日 星期五 下午1:04', 'text': '免費2000讓你玩三週\\n不綁洗碼免費玩娛樂城\\n總共三個禮拜2000給你\\n別不信 快來\\n贏多少領多少', 'tags': ['贏多少領多少'], 'img_count': 0, 'img_infos': [], 'img_urls': [], 'img_ids': [], 'like_count': '1', 'reply_count': '1', 'forward_count': 0, 'share_count': 0, 'url': 'https://www.threads.net/@viole_t822/post/DGmqWNiB2m2', 'category': 'gamble', 'keyword': '娛樂城', 'label': 1}\n",
      "{'username': 'koala0062', 'display_name': 'koala0062', 'joined_date': '2025年2月', 'user_verified': False, 'fan': '11', 'bio': '', 'published_on': '2025年2月28日 星期五 上午2:17', 'text': '詐騙某AT9X娛樂城\\n贏好說你連續下注 錢就忽然不見了 \\n慎選娛樂城啊\\n娛樂城 #詐欺', 'tags': ['娛樂城 #詐欺'], 'img_count': 0, 'img_infos': [], 'img_urls': [], 'img_ids': [], 'like_count': '3', 'reply_count': '15', 'forward_count': 0, 'share_count': 0, 'url': 'https://www.threads.net/@koala0062/post/DGlgVoQTnt4', 'category': 'gamble', 'keyword': '娛樂城', 'label': 0}\n",
      "{'username': 'yi52172', 'display_name': 'yi52172', 'joined_date': '2025年1月', 'user_verified': False, 'fan': '56', 'bio': '', 'published_on': '2025年1月9日 星期四 下午3:18', 'text': '想問有沒有推薦的娛樂城！入金出金不會拖的\\n目前沒有代理，想找一個靠譜的代理\\n想跟群組就好\\n要真的會出金的🥹', 'tags': [], 'img_count': 0, 'img_infos': [], 'img_urls': [], 'img_ids': [], 'like_count': '116', 'reply_count': '267', 'forward_count': '1', 'share_count': '4', 'url': 'https://www.threads.net/@yi52172/post/DEmJ--LS9WZ', 'category': 'gamble', 'keyword': '娛樂城', 'label': 0}\n",
      "{'username': 'gxih_000', 'display_name': 'gxih_000', 'joined_date': '2024年1月', 'user_verified': False, 'fan': '153', 'bio': '哥布林', 'published_on': '2025年2月26日 星期三 下午11:29', 'text': '幹做娛樂城的可以先別吵嗎 一直追蹤是在追蹤三小阿\\n媽的玩試玩版拍影片泉人家去玩 專業詐騙喔 媽的整天陌生訊息就娛樂城 吵不吵阿', 'tags': [], 'img_count': 0, 'img_infos': [], 'img_urls': [], 'img_ids': [], 'like_count': '56', 'reply_count': '88', 'forward_count': '1', 'share_count': 0, 'url': 'https://www.threads.net/@gxih_000/post/DGioQcZSMO9', 'category': 'gamble', 'keyword': '娛樂城', 'label': 0}\n",
      "{'username': 'bnzxiao_', 'display_name': 'bnzxiao_', 'joined_date': '2023年9月', 'user_verified': False, 'fan': '219', 'bio': '別打擾我發瘋', 'published_on': '2025年2月21日 星期五 上午5:25', 'text': '有沒有秒出秒入的娛樂城\\n操你媽一堆儲值還要等個3-5分鐘才會入帳\\n拜託做的比別人慢 收起來不要開了 \\n不要出來夏夕夏景', 'tags': [], 'img_count': 0, 'img_infos': [], 'img_urls': [], 'img_ids': [], 'like_count': '103', 'reply_count': '113', 'forward_count': 0, 'share_count': '2', 'url': 'https://www.threads.net/@bnzxiao_/post/DGT0QkxTXsP', 'category': 'gamble', 'keyword': '娛樂城', 'label': 0}\n",
      "{'username': 'bb._77202_', 'display_name': 'bb._77202_', 'joined_date': '2024年4月', 'user_verified': False, 'fan': '82', 'bio': '不是在打牌就是在打牌的路上🀄️\\n通常都在五權路或是北屯打牌\\n想打牌的可以哀居私訊✉️', 'published_on': '2025年2月28日 星期五 下午12:31', 'text': '每天都遇到這種破事 幹\\n本命不詳、原賴名叫阿幻，在那邊說用100塊打娛樂城打到65萬 現在7400給不出來？說要隔天12點前轉帳我們也都相信你了，現在訊息不回名稱改掉這就是所謂的放管吧？沒意外應該是跑帳了啦，你這隻豬就好好的待在你的彰化市不要被我抓到 #跑帳 台中麻將', 'tags': ['台中麻將'], 'img_count': 5, 'img_infos': ['可能是 2 個人和顯示的文字是「 12:22 .ll 5G 84 WAIT 瘦子E.SO WAIT-瘦子E.SO 瘦子 孩子E.SOl lift 2AW U2 12 語音通話 視訊通話 LINE VOOM EVOOM貼文 貼文」的自拍照', '可能是 1 人、站立、戶外、夜晚和文字的圖像', '可能是 1 人、站立、運動褲、戶外、夜晚和文字的圖像', '可能是\\u200e顯示的文字是「 \\u200e<280 ο 28 昨天 還有缺嗎20:59 20:59 還有缺嗎 哈囉！ 20:59 阿幻來電。 阿幻來電。將對方設為好友後； 將對方設為好友後， 即可互相通話。 20:59 21:00 已還有缺! 已讀 還有缺！ 하네행 T1 e با 唯自動 阻国節不福的 《嗨日 嗨国 م CotRaso ទីខ្ 4EGGE- 46日GC..とD 我館仁好 Dに ape คขย่ะ きとり ឡួ 已讀 21:02 و Location 語音通話 2:05 + Aa\\u200e 」\\u200e的圖像', '可能是顯示的文字是「 <28 28 o 21:44 哈囉! 21:44 未接來電 21:45 你們在哪21：46 21:46 你們在哪 未接來電 21:47 我已經到了喔 21:48 未接來電 21:50 21:51 已讀好的 已讀 好的 25在哪裡 已讀 21:51 在哪裡 語音通話 0:14 肝 Aa 」的 Twitter 截圖'], 'img_urls': ['https://scontent-tpe1-1.cdninstagram.com/v/t51.2885-15/481904632_17887396956203820_3587864836363664388_n.jpg?stp=dst-jpg_e35_tt6&efg=eyJ2ZW5jb2RlX3RhZyI6ImltYWdlX3VybGdlbi4xMTc5eDI1NTYuc2RyLmY3NTc2MS5kZWZhdWx0X2ltYWdlIn0&_nc_ht=scontent-tpe1-1.cdninstagram.com&_nc_cat=100&_nc_oc=Q6cZ2AGwa8GzD6opFlmp_77L6E_9PVMH66PCcY_21OfiM3zIIvlrO2uzYvuUx5ypD_hA044&_nc_ohc=sr6RaZfkHvwQ7kNvgFlNi13&_nc_gid=bfb1c1fe7a0648358afb018feb1f3282&edm=AJhczIQBAAAA&ccb=7-5&ig_cache_key=MzU3NzcxNjY3NDM4NjQzMzcxNQ%3D%3D.3-ccb7-5&oh=00_AYDsBpuJcd9ErWR8bZ5nT7F_IEP4uL40NOvNoxuO73QVfg&oe=67C71403&_nc_sid=4a2096', 'https://scontent-tpe1-1.cdninstagram.com/v/t51.2885-15/482382391_17887396965203820_3107329142392189581_n.jpg?stp=dst-jpg_e35_tt6&efg=eyJ2ZW5jb2RlX3RhZyI6ImltYWdlX3VybGdlbi4xMTc5eDIxMTQuc2RyLmY3NTc2MS5kZWZhdWx0X2ltYWdlIn0&_nc_ht=scontent-tpe1-1.cdninstagram.com&_nc_cat=100&_nc_oc=Q6cZ2AGwa8GzD6opFlmp_77L6E_9PVMH66PCcY_21OfiM3zIIvlrO2uzYvuUx5ypD_hA044&_nc_ohc=T_ZyEvQq1v4Q7kNvgHTzlKR&_nc_gid=bfb1c1fe7a0648358afb018feb1f3282&edm=AJhczIQBAAAA&ccb=7-5&ig_cache_key=MzU3NzcxNjY3NDMxMDk0NDg5OA%3D%3D.3-ccb7-5&oh=00_AYBwxA2_jrQNQp3c9CxOZqkEeVAQLsDjDuopAsa1ZJAJDA&oe=67C70524&_nc_sid=4a2096', 'https://scontent-tpe1-1.cdninstagram.com/v/t51.2885-15/481871956_17887396974203820_6879471281713751942_n.jpg?stp=dst-jpg_e35_tt6&efg=eyJ2ZW5jb2RlX3RhZyI6ImltYWdlX3VybGdlbi4xMTc5eDIyNTMuc2RyLmY3NTc2MS5kZWZhdWx0X2ltYWdlIn0&_nc_ht=scontent-tpe1-1.cdninstagram.com&_nc_cat=100&_nc_oc=Q6cZ2AGwa8GzD6opFlmp_77L6E_9PVMH66PCcY_21OfiM3zIIvlrO2uzYvuUx5ypD_hA044&_nc_ohc=5IchFi6hrm4Q7kNvgGtJWPK&_nc_gid=bfb1c1fe7a0648358afb018feb1f3282&edm=AJhczIQBAAAA&ccb=7-5&ig_cache_key=MzU3NzcxNjY3NDMxOTA5ODk3Mg%3D%3D.3-ccb7-5&oh=00_AYAUIG8FRNPvrxTc21xcVfaAzV5dHA9b60fqH4FH5odtCw&oe=67C6FE9B&_nc_sid=4a2096', 'https://scontent-tpe1-1.cdninstagram.com/v/t51.2885-15/482330357_17887396983203820_2690290504749843680_n.jpg?stp=dst-jpg_e35_tt6&efg=eyJ2ZW5jb2RlX3RhZyI6ImltYWdlX3VybGdlbi4xMTc5eDI0MTYuc2RyLmY3NTc2MS5kZWZhdWx0X2ltYWdlIn0&_nc_ht=scontent-tpe1-1.cdninstagram.com&_nc_cat=100&_nc_oc=Q6cZ2AGwa8GzD6opFlmp_77L6E_9PVMH66PCcY_21OfiM3zIIvlrO2uzYvuUx5ypD_hA044&_nc_ohc=nv-d8JTFVXcQ7kNvgHWXPe3&_nc_gid=bfb1c1fe7a0648358afb018feb1f3282&edm=AJhczIQBAAAA&ccb=7-5&ig_cache_key=MzU3NzcxNjY3NDMxMDc5OTk2OA%3D%3D.3-ccb7-5&oh=00_AYDMpNApe9tZNuB9r2F501zgYahwAEE2z1h3kGVWd0YrBg&oe=67C7118C&_nc_sid=4a2096', 'https://scontent-tpe1-1.cdninstagram.com/v/t51.2885-15/481877002_17887396992203820_9030485908943491420_n.jpg?stp=dst-jpg_e35_tt6&efg=eyJ2ZW5jb2RlX3RhZyI6ImltYWdlX3VybGdlbi4xMTc5eDI0MzUuc2RyLmY3NTc2MS5kZWZhdWx0X2ltYWdlIn0&_nc_ht=scontent-tpe1-1.cdninstagram.com&_nc_cat=100&_nc_oc=Q6cZ2AGwa8GzD6opFlmp_77L6E_9PVMH66PCcY_21OfiM3zIIvlrO2uzYvuUx5ypD_hA044&_nc_ohc=Tof2j2KSFOgQ7kNvgFasoJ8&_nc_gid=bfb1c1fe7a0648358afb018feb1f3282&edm=AJhczIQBAAAA&ccb=7-5&ig_cache_key=MzU3NzcxNjY3Mzk1ODM5MzAzMg%3D%3D.3-ccb7-5&oh=00_AYDTrXunRzhvZmy4wlN5CG2vwxI5266i23sWqf7y5wNQPA&oe=67C6FD17&_nc_sid=4a2096'], 'img_ids': ['481904632_17887396956203820_3587864836363664388_n.jpg', '482382391_17887396965203820_3107329142392189581_n.jpg', '481871956_17887396974203820_6879471281713751942_n.jpg', '482330357_17887396983203820_2690290504749843680_n.jpg', '481877002_17887396992203820_9030485908943491420_n.jpg'], 'like_count': '1', 'reply_count': 0, 'forward_count': 0, 'share_count': 0, 'url': 'https://www.threads.net/@bb._77202_/post/DGmml2Ayqw7', 'category': 'gamble', 'keyword': '娛樂城', 'label': 0}\n",
      "{'username': 'justin_c0808', 'display_name': 'justin_c0808', 'joined_date': '2023年12月', 'user_verified': False, 'fan': '197', 'bio': '', 'published_on': '2025年2月26日 星期三 上午7:52', 'text': '其實看到非常多娛樂城電子爆分很誇張的文章在脆上面，然後點進去看全部都是在帶牌不然就是做代理的\\n真心想問，這麼多人都真的這麼會打嗎🤔\\n不是很懂娛樂城的機制，但這樣這麼多人都用幾十塊錢爆幾十萬，娛樂城不是虧死？\\n還有我比較不明白如果自己真的這麼會贏幹嘛不默默的發財要這麼辛苦勤勞的發文發影片\\n還是說做代理或帶牌的人天生就有解救眾生的使命感嗎😂\\n小弟我沒有代理也不知道有什麼活動就是單純的 拿一筆錢出來輸贏，我擺明就是要拼這麼多\\n輸了也沒有差，因為本來就不是靠這個生活\\n所以認真想求各路爆分專家，或是真的有人跟著他們贏大錢的嗎', 'tags': [], 'img_count': 0, 'img_infos': [], 'img_urls': [], 'img_ids': [], 'like_count': '11', 'reply_count': '66', 'forward_count': 0, 'share_count': 0, 'url': 'https://www.threads.net/@justin_c0808/post/DGg9D_OyYOj', 'category': 'gamble', 'keyword': '娛樂城', 'label': 0}\n",
      "{'username': 'yen37641', 'display_name': 'yen37641', 'joined_date': '2025年2月', 'user_verified': False, 'fan': '82', 'bio': '', 'published_on': '2025年2月25日 星期二 下午9:58', 'text': '中億娛樂城是詐騙嗎？\\n有誰玩過？', 'tags': [], 'img_count': 0, 'img_infos': [], 'img_urls': [], 'img_ids': [], 'like_count': '47', 'reply_count': '69', 'forward_count': 0, 'share_count': 0, 'url': 'https://www.threads.net/@yen37641/post/DGf5JBLTMlA', 'category': 'gamble', 'keyword': '娛樂城', 'label': 0}\n",
      "{'username': 'kai_07.17', 'display_name': 'kai_07.17', 'joined_date': '2024年11月', 'user_verified': False, 'fan': '24', 'bio': '', 'published_on': '2024年11月18日 星期一 下午9:35', 'text': '娛樂城真的害死我了 遊玩六天連輸六天\\n我無卡控制自己別上頭 水下23萬\\n我沒日沒夜的工作 好不容易存來的錢\\n身上所剩無幾 總存款剩10幾\\n我只是想把我輸的拿回來就好\\n拜託來個代理是會認真帶人的\\n真的成功帶我上岸的 我會包紅包給他\\n拜託脆了', 'tags': [], 'img_count': 0, 'img_infos': [], 'img_urls': [], 'img_ids': [], 'like_count': '261', 'reply_count': '365', 'forward_count': '4', 'share_count': '35', 'url': 'https://www.threads.net/@kai_07.17/post/DCg7yKOzhjQ', 'category': 'gamble', 'keyword': '娛樂城', 'label': 0}\n",
      "{'username': 'brt70991', 'display_name': 'brt70991', 'joined_date': '2025年2月', 'user_verified': False, 'fan': '8', 'bio': '娛樂城推薦名單、娛樂城詐騙名單', 'published_on': '2025年2月28日 星期五 上午12:38', 'text': 'google搜尋\"2025娛樂城詐騙名單\"\\n看看自己玩的娛樂城有沒有上榜!!\\n馬上轉發出去!!能救 一個是一個!!\\n⬇️ ⬇️ ⬇️', 'tags': ['2025娛樂城詐騙名單'], 'img_count': 0, 'img_infos': [], 'img_urls': [], 'img_ids': [], 'like_count': '5', 'reply_count': '1', 'forward_count': 0, 'share_count': 0, 'url': 'https://www.threads.net/@brt70991/post/DGlVDfEz0zO', 'category': 'gamble', 'keyword': '娛樂城', 'label': 0}\n",
      "{'username': 'ww888_uu', 'display_name': 'ww888_uu', 'joined_date': '2025年2月', 'user_verified': False, 'fan': '194', 'bio': '別看 你得不到的弟弟 ⬇️7個8\\n要打遊戲賺錢的找我 line:zz1768888888\\n免本 註冊送2000給你打遊戲\\n電子 百家 體育 539 專業教學📖', 'published_on': '2025年2月17日 星期一 上午8:31', 'text': '我幫你儲2000\\n給你打娛樂城 輸不用給我\\n啊贏你都拿走 看要打賽特還是百家', 'tags': [], 'img_count': 0, 'img_infos': [], 'img_urls': [], 'img_ids': [], 'like_count': '325', 'reply_count': '40', 'forward_count': '2', 'share_count': '73', 'url': 'https://www.threads.net/@ww888_uu/post/DGJ2WYsTmes', 'category': 'gamble', 'keyword': '娛樂城', 'label': 1}\n",
      "{'username': 'baijiadianzi', 'display_name': 'baijiadianzi', 'joined_date': '2024年4月', 'user_verified': False, 'fan': '535', 'bio': '@xingye4stars\\n立志在脆當一位夢想家💭\\n官方Line：@654bafzq', 'published_on': '2024年8月15日 星期四 下午5:55', 'text': '我曾經年終10萬塊一下來\\n入帳後就立刻全部儲值娛樂城\\n然後按百家樂不到半小時直接全輸光\\n歡迎分享你們荒唐的賭博事蹟', 'tags': [], 'img_count': 1, 'img_infos': ['未提供相片說明。'], 'img_urls': ['https://scontent-tpe1-1.cdninstagram.com/v/t51.29350-15/455727822_1903560583400720_3469627926505713470_n.jpg?stp=dst-jpg_e15_tt6&efg=eyJ2ZW5jb2RlX3RhZyI6ImltYWdlX3VybGdlbi42MTJ4NjMwLnNkci5mMjkzNTAuZGVmYXVsdF9pbWFnZSJ9&_nc_ht=scontent-tpe1-1.cdninstagram.com&_nc_cat=108&_nc_oc=Q6cZ2AFojDBjrWHi-GvRaMvxik6vAZmRSnKRDAyRIi5CfOi-bq_GmVfgM9yo17MorIt4D00&_nc_ohc=RHuTVkUbE-cQ7kNvgEWWOXM&_nc_gid=719c35f12d0241b89796069ebb291b54&edm=AJhczIQBAAAA&ccb=7-5&ig_cache_key=MzQzNTA5ODk2OTc1MDg3NzQzNg%3D%3D.3-ccb7-5&oh=00_AYD6jndw1s2KQ2C7kOS5R-jF6NQRLL7Ubl6F5fBxrUn1uQ&oe=67C72D77&_nc_sid=4a2096'], 'img_ids': ['455727822_1903560583400720_3469627926505713470_n.jpg'], 'like_count': '396', 'reply_count': '162', 'forward_count': 0, 'share_count': '111', 'url': 'https://www.threads.net/@baijiadianzi/post/C-r7FAkT7T8', 'category': 'gamble', 'keyword': '娛樂城', 'label': 0}\n",
      "{'username': '99.__.nine', 'display_name': '99.__.nine', 'joined_date': '2024年6月', 'user_verified': False, 'fan': '1,588', 'bio': '全網服務最周到\\n「百分百本人代理」 \\n救紅｜上岸｜教學｜私帶｜打法\\n賴ID：@99nine', 'published_on': '2025年2月27日 星期四 下午10:41', 'text': '其實娛樂城泉代很少\\n比較多都是趴代而已', 'tags': [], 'img_count': 0, 'img_infos': [], 'img_urls': [], 'img_ids': [], 'like_count': '16', 'reply_count': '10', 'forward_count': 0, 'share_count': 0, 'url': 'https://www.threads.net/@99.__.nine/post/DGlHkSPyU-7', 'category': 'gamble', 'keyword': '娛樂城', 'label': 0}\n",
      "{'username': 'chenyu_216', 'display_name': 'chenyu_216', 'joined_date': '2024年8月', 'user_verified': False, 'fan': '156', 'bio': '。', 'published_on': '2025年2月24日 星期一 上午5:40', 'text': '請問一下九州倒快三個月了 還有什麼平台可以轉移vip的嗎？ 留言或私訊告訴我 沒玩過的都會玩 娛樂城', 'tags': ['娛樂城'], 'img_count': 1, 'img_infos': ['可能是顯示的文字是「找 鑽 鑽石級 839小李 339 小李」的圖像'], 'img_urls': ['https://scontent-tpe1-1.cdninstagram.com/v/t51.2885-15/481420952_17873557113289877_6225886941246901637_n.jpg?stp=dst-jpg_e35_tt6&efg=eyJ2ZW5jb2RlX3RhZyI6ImltYWdlX3VybGdlbi4xMTcweDQ1Ny5zZHIuZjc1NzYxLmRlZmF1bHRfaW1hZ2UifQ&_nc_ht=scontent-tpe1-1.cdninstagram.com&_nc_cat=105&_nc_oc=Q6cZ2AFojDBjrWHi-GvRaMvxik6vAZmRSnKRDAyRIi5CfOi-bq_GmVfgM9yo17MorIt4D00&_nc_ohc=FzdjkilRPy4Q7kNvgExyeT6&_nc_gid=719c35f12d0241b89796069ebb291b54&edm=AJhczIQBAAAA&ccb=7-5&ig_cache_key=MzU3NDYxMDg4ODExNDQ0MTY0NQ%3D%3D.3-ccb7-5&oh=00_AYD-w5mWWpYHexRiKJqDT5ExbaAazBfQ3iOyqOM7ZnmP3Q&oe=67C718C2&_nc_sid=4a2096'], 'img_ids': ['481420952_17873557113289877_6225886941246901637_n.jpg'], 'like_count': '78', 'reply_count': '190', 'forward_count': 0, 'share_count': '1', 'url': 'https://www.threads.net/@chenyu_216/post/DGbkankTg2t', 'category': 'gamble', 'keyword': '娛樂城', 'label': 0}\n",
      "{'username': 'nini22331', 'display_name': 'nini22331', 'joined_date': '2024年10月', 'user_verified': False, 'fan': '21', 'bio': '', 'published_on': '2025年1月6日 星期一 下午8:37', 'text': '朋友娛樂城輸了幾萬，說去報警假裝詐騙就能拿回錢，這是真的嗎？這樣不會出問題？', 'tags': [], 'img_count': 0, 'img_infos': [], 'img_urls': [], 'img_ids': [], 'like_count': '418', 'reply_count': '74', 'forward_count': '3', 'share_count': '43', 'url': 'https://www.threads.net/@nini22331/post/DEfAH25yuS5', 'category': 'gamble', 'keyword': '娛樂城', 'label': 0}\n",
      "{'username': 'boss_._1013', 'display_name': 'boss_._1013', 'joined_date': '2024年10月', 'user_verified': False, 'fan': '118', 'bio': '🌟小亦\\n體育/百家/電子 \\n註冊現在就送💰13000不用先儲值 \\n輸不用給贏可領 💰\\n🌟LINE:nounou888\\n介紹朋友🧧介紹金拿不完', 'published_on': '2025年2月28日 星期五 下午1:06', 'text': '信用版 娛樂城\\n免先儲值 體育 DG真人雷神\\n😎😎新註冊就送15000 不用儲值可直接玩\\n介紹客人也有高額介紹金等你來領取\\n贏可領輸也差反正是送你的\\n這樣不香嗎❤\\n娛樂城 代理 百家樂 戰神賽特 拜金女帝 雷神之槌', 'tags': ['娛樂城 代理 百家樂 戰神賽特 拜金女帝 雷神之槌'], 'img_count': 0, 'img_infos': [], 'img_urls': [], 'img_ids': [], 'like_count': 0, 'reply_count': 0, 'forward_count': 0, 'share_count': 0, 'url': 'https://www.threads.net/@boss_._1013/post/DGmqlBIxMWr', 'category': 'gamble', 'keyword': '娛樂城', 'label': 1}\n",
      "{'username': '5678yiyi', 'display_name': '5678yiyi', 'joined_date': '2025年2月', 'user_verified': False, 'fan': '138', 'bio': '娛樂城 註冊送6000💰\\nline :5678yi', 'published_on': '2025年2月28日 星期五 上午9:02', 'text': '疲老闆跑路 如果有儲值的錢怎麼辦😥😥\\n嘉義人最愛去的零食場～\\n不然先來註冊 送6000打娛樂城\\n他跑路 也沒差 至少免本還有贏錢的機會\\n🈵18🆓6000💰', 'tags': [], 'img_count': 0, 'img_infos': [], 'img_urls': [], 'img_ids': [], 'like_count': '11', 'reply_count': '11', 'forward_count': 0, 'share_count': '7', 'url': 'https://www.threads.net/@5678yiyi/post/DGmOo9PzsQ5', 'category': 'gamble', 'keyword': '娛樂城', 'label': 1}\n",
      "{'username': 'han2001_915', 'display_name': 'han2001_915', 'joined_date': '2024年7月', 'user_verified': False, 'fan': '76', 'bio': '簡單｜樸實｜\\n開心做自己\\n——————\\n分享一切\\n打娛樂城小有心得\\n興趣之一 可以交流', 'published_on': '2024年10月14日 星期一 下午9:35', 'text': 'XX娛樂城真的垃圾\\n儲了10幾萬進去，一直輸\\n明天去祭改一下看會不會好一點', 'tags': [], 'img_count': 0, 'img_infos': [], 'img_urls': [], 'img_ids': [], 'like_count': '139', 'reply_count': '128', 'forward_count': 0, 'share_count': '7', 'url': 'https://www.threads.net/@han2001_915/post/DBGz-iNyhky', 'category': 'gamble', 'keyword': '娛樂城', 'label': 0}\n",
      "{'username': 'jjia_1234', 'display_name': 'jjia_1234', 'joined_date': '2025年2月', 'user_verified': False, 'fan': '53', 'bio': '快想當一個快快樂樂的女人', 'published_on': '2025年2月26日 星期三 下午10:12', 'text': '所以我想問這年頭了到底還有誰在玩娛樂城', 'tags': [], 'img_count': 0, 'img_infos': [], 'img_urls': [], 'img_ids': [], 'like_count': '11', 'reply_count': '18', 'forward_count': 0, 'share_count': 0, 'url': 'https://www.threads.net/@jjia_1234/post/DGifjcOy62Z', 'category': 'gamble', 'keyword': '娛樂城', 'label': 0}\n",
      "{'username': 'qazx9738', 'display_name': 'qazx9738', 'joined_date': '2025年2月', 'user_verified': False, 'fan': '8', 'bio': '', 'published_on': '2025年2月20日 星期四 下午10:16', 'text': '被詐騙26萬 在脆上一直看到娛樂城救紅 好猶豫哦 怕二次傷害 剩1000而已', 'tags': [], 'img_count': 0, 'img_infos': [], 'img_urls': [], 'img_ids': [], 'like_count': '122', 'reply_count': '105', 'forward_count': 0, 'share_count': '3', 'url': 'https://www.threads.net/@qazx9738/post/DGTDK07TKtf', 'category': 'gamble', 'keyword': '娛樂城', 'label': 0}\n",
      "{'username': '_nye88', 'display_name': '_nye88', 'joined_date': '2023年7月', 'user_verified': False, 'fan': '969', 'bio': '一步一步衝起來\\n全台最暖心 最屬於你的代理\\nIG看更多', 'published_on': '2025年2月26日 星期三 下午5:49', 'text': '很想踢某間娛樂城 你們用來泉的工具網址\\n我都拿到了\\n我丟出來你們大概不用做會員了\\n但又很像擋別人財路\\n但又不想脆上會員被死泉 該怎麼解', 'tags': [], 'img_count': 0, 'img_infos': [], 'img_urls': [], 'img_ids': [], 'like_count': '41', 'reply_count': '20', 'forward_count': 0, 'share_count': '1', 'url': 'https://www.threads.net/@_nye88/post/DGiBb_wTpIN', 'category': 'gamble', 'keyword': '娛樂城', 'label': 0}\n",
      "{'username': 'wanyiiii410', 'display_name': 'wanyiiii410', 'joined_date': '2024年6月', 'user_verified': False, 'fan': '17', 'bio': '', 'published_on': '2025年2月26日 星期三 上午10:26', 'text': '註冊過很多娛樂城\\n但都滿久沒玩的\\n有沒有代理有好的轉線優惠？\\n或是有新的推薦的娛樂城嗎？\\n娛樂城 代理 百家樂 戰神賽特 拜金女帝 雷神之槌', 'tags': ['娛樂城 代理 百家樂 戰神賽特 拜金女帝 雷神之槌'], 'img_count': 0, 'img_infos': [], 'img_urls': [], 'img_ids': [], 'like_count': '45', 'reply_count': '89', 'forward_count': 0, 'share_count': 0, 'url': 'https://www.threads.net/@wanyiiii410/post/DGhOwpvSp_u', 'category': 'gamble', 'keyword': '娛樂城', 'label': 0}\n",
      "⚠️ breaking_the_wealth 擷取失敗\n",
      "{'username': 'breaking_the_wealth', 'user_verified': False, 'published_on': '2025年2月27日 星期四 下午4:49', 'text': '超扯 超扯\\n富盈娛樂城前陣子鎖我了我600萬的帳號\\n當下發文主管馬上跟我聯繫跟我談條件\\n條件就是下架文章並且申明他們是正出平台\\n只要同意他們就會解開帳號並且解開帳號後7天可以提領我等到2/25的時候早上要登入 帳號又被鎖了\\n詢問後說疑似套利所以他們不安排款項給我\\n並且傳一段我帳號半夜在遊玩的影片 說我同時下注莊閒 我試問我就在等在怕沒辦法提領我會搞自己？\\n請他們提供ip 也不提供 我740萬的帳號就這樣被他們句話鎖了 真牛逼啊富盈娛樂城\\n娛樂城 代理 百家樂 戰神賽特 拜金女帝 雷神之槌', 'tags': ['娛樂城 代理 百家樂 戰神賽特 拜金女帝 雷神之槌'], 'img_count': 0, 'img_infos': [], 'img_urls': [], 'img_ids': [], 'like_count': '6', 'reply_count': '10', 'forward_count': 0, 'share_count': 0, 'url': 'https://www.threads.net/@breaking_the_wealth/post/DGkfTk3BUZc', 'category': 'gamble', 'keyword': '娛樂城', 'label': 0}\n",
      "⚠️ victo_ry911 擷取失敗\n",
      "{'username': 'victo_ry911', 'user_verified': False, 'published_on': '2025年2月27日 星期四 下午7:27', 'text': '為什麼現在娛樂城要走kyc實名驗證（銀行端驗證）？\\n-\\n以前玩娛樂城只要註冊然後驗證綁卡就可以儲值，現在還要多一道步驟，kyc還會要求重拍身分證+存摺，為什麼這麼麻煩？\\n-\\n娛樂城一定是想以會員方便為主，但方便之餘還是要保護會員金流跟安全，如果不進行驗證，會員遊戲帳號可能會變成詐騙集團的洗錢帳戶\\n-\\n你在XX娛樂城註冊，沒有請你進行銀行端實名認證會發生什麼事情？\\n比方說甲在網路買了一個包，乙方請甲方匯款但甲沒收到包發現自己被詐騙了去報案，警方追查匯款帳號發現來自XX娛樂城，也就是你的遊戲帳號，這時你就會收到賭博罪或洗錢起訴的傳票\\n-\\nX州娛樂城關站後，相信很多人有收到傳票！\\n只是單純儲值進去遊玩，卻被傳到法院，問題就是出在最開始的銀行端認證，因為帳戶並沒有經由你本人綁定，等於完全公開在XX娛樂城，任何人都可以存錢進去領錢出來，讓人任意取用也不需要經過實名認證\\n-\\nkyc實名認證確實很麻煩，但一開始麻煩總比後續收到法院傳票，還要去開庭來得不麻煩許多！\\nkyc認證怎麼用！\\n私訊賴@322ardbg', 'tags': [], 'img_count': 2, 'img_infos': [\"May be a Twitter screenshot of text that says '20:03 .ll 4G ※發證日期 ※發證日期Issuancedate Issuance date 民國 民或 ※發證地點 ※發證地點Issuinglocation Issuing location ※領/補/ ※領/補/換類別 換類別 Type of Issue ※手機號碼 ※手機號碼MobileNumber Mobile Number ※手機驗證碼 Mobile ※手機驗證碼MobileOTF OTP 08 語音驗證 電子郵件 email 請輸入郵件 我已閲讀並了解 我已閱讀並了解【旺沛大數位股份有限 【旺沛大數位股份有限 公司-快點付金流服務 公司快點付金流服務個資告知事項】」 並已 個資告知事項】 確認上述資訊無誤。 epay.wan-pay.com'\", 'May be an image of ticket stub and text'], 'img_urls': ['https://scontent-tpe1-1.cdninstagram.com/v/t51.2885-15/481800831_17861257026360599_7632047669737106806_n.jpg?stp=dst-jpg_e35_tt6&efg=eyJ2ZW5jb2RlX3RhZyI6ImltYWdlX3VybGdlbi40NzZ4MTA1My5zZHIuZjc1NzYxLmRlZmF1bHRfaW1hZ2UifQ&_nc_ht=scontent-tpe1-1.cdninstagram.com&_nc_cat=111&_nc_oc=Q6cZ2AGkI5ri0OZzL2hUK1qaToTNPil_iaGdeN3tDURz0902QVca4XQkDasRFjICbopxcLY&_nc_ohc=vZnV0SvirgwQ7kNvgEehJpt&_nc_gid=6e8d2499d593418e8f25b5fa283dca51&edm=AJhczIQBAAAA&ccb=7-5&ig_cache_key=MzU3NzIwMTUzOTM3ODcyMTQ0Mg%3D%3D.3-ccb7-5&oh=00_AYD_Z1glm_yj5wFS0qvMxDn3PZDZ5JEK_iATudoiGLBuAg&oe=67C717FE&_nc_sid=4a2096', 'https://scontent-tpe1-1.cdninstagram.com/v/t51.2885-15/482058021_17861257017360599_1218383825902110862_n.jpg?stp=dst-jpg_e35_tt6&efg=eyJ2ZW5jb2RlX3RhZyI6ImltYWdlX3VybGdlbi41NDB4MTAyMy5zZHIuZjc1NzYxLmRlZmF1bHRfaW1hZ2UifQ&_nc_ht=scontent-tpe1-1.cdninstagram.com&_nc_cat=111&_nc_oc=Q6cZ2AGkI5ri0OZzL2hUK1qaToTNPil_iaGdeN3tDURz0902QVca4XQkDasRFjICbopxcLY&_nc_ohc=j6GYHsGMPbQQ7kNvgG1c8fg&_nc_gid=6e8d2499d593418e8f25b5fa283dca51&edm=AJhczIQBAAAA&ccb=7-5&ig_cache_key=MzU3NzIwMTUzOTM3ODY2NDYwMQ%3D%3D.3-ccb7-5&oh=00_AYDthIU23_gbhMjKVHlnXfRSD-TpWqe9MSLJ_1aItWr0DQ&oe=67C72C71&_nc_sid=4a2096'], 'img_ids': ['481800831_17861257026360599_7632047669737106806_n.jpg', '482058021_17861257017360599_1218383825902110862_n.jpg'], 'like_count': '48', 'reply_count': '11', 'forward_count': '1', 'share_count': '26', 'url': 'https://www.threads.net/@victo_ry911/post/DGkxdm_pVFf', 'category': 'gamble', 'keyword': '娛樂城', 'label': 0}\n",
      "⚠️ sdzlimw 擷取失敗\n",
      "{'username': 'sdzlimw', 'user_verified': False, 'published_on': '2025年2月20日 星期四 下午10:40', 'text': '幹 欸哄幹的娛樂城都來啦\\n看到都煩了\\n3萬給你門帶什麼都行\\n娛樂城', 'tags': ['娛樂城'], 'img_count': 0, 'img_infos': [], 'img_urls': [], 'img_ids': [], 'like_count': '65', 'reply_count': '94', 'forward_count': 0, 'share_count': 0, 'url': 'https://www.threads.net/@sdzlimw/post/DGTF_FZhGeL', 'category': 'gamble', 'keyword': '娛樂城', 'label': 0}\n",
      "⚠️ 85eqwe.3 擷取失敗\n",
      "{'username': '85eqwe.3', 'user_verified': False, 'published_on': '2025年2月27日 星期四 下午5:29', 'text': '最近要重新找娛樂城\\n我希望我可以維持0出包記錄\\n有沒有人可以推薦\\n什麼娛樂城比較穩？\\n不用代理來留言，我要用戶自己來說\\n你推薦的如果我後來有玩\\n我會給你3萬元紅包🧧\\n所以請底下留言你推薦的娛樂城，原因是什麼？', 'tags': [], 'img_count': 0, 'img_infos': [], 'img_urls': [], 'img_ids': [], 'like_count': '21', 'reply_count': '46', 'forward_count': 0, 'share_count': '4', 'url': 'https://www.threads.net/@85eqwe.3/post/DGkj6liSjZS', 'category': 'gamble', 'keyword': '娛樂城', 'label': 0}\n",
      "⚠️ tc.1115 擷取失敗\n",
      "{'username': 'tc.1115', 'user_verified': False, 'published_on': '2024年12月14日 星期六 下午6:08', 'text': '九州要掰了 \\n有什麼推薦的娛樂城\\n出金快的\\n下面留言\\n現金版', 'tags': ['現金版'], 'img_count': 0, 'img_infos': [], 'img_urls': [], 'img_ids': [], 'like_count': '70', 'reply_count': '130', 'forward_count': 0, 'share_count': 0, 'url': 'https://www.threads.net/@tc.1115/post/DDjgtJrB0eQ', 'category': 'gamble', 'keyword': '娛樂城', 'label': 0}\n",
      "⚠️ 1990abc0101 擷取失敗\n",
      "{'username': '1990abc0101', 'user_verified': False, 'published_on': '2024年10月29日 星期二 下午6:43', 'text': '有在玩娛樂城或是在找代理的，一定要認真看完這篇文章\\n我就是因為玩娛樂城輸了150萬的人\\n為了賭還去借信貸.車子拿去當舖借錢\\n一開始看到rg的代理，請他私帶我，然後輸了3000，後面又儲值5000 跟群打，小贏一點，打電子，爆了17萬，因為想贏更多，賭很大，最後輸光，後面加值40萬，在最後一刻爆了100多萬，剛剛說了賭博心態很嚴重，最後一樣輸光，後面入續加了不知道多少進去，打不回來...\\n入入續續找了很多不同娛樂城的代理救紅，最終越賠越多\\n而我心態炸裂盡然相信代操獲利，後面被騙40多萬\\n不要在被綠油油戰績騙了，也不要看到群組幾百人幾千人就高潮，多半都是自己人，假人\\n真的不誇張8萬本金，10分鐘私帶直接輸光，就說挑的時間不好打（那一開始幹嘛不說延後時間或改天？）要嘛就說牌路不好\\n我要是真的很厲害我也不會當代理，輸了我還要被罵的風險？\\n那些私帶.群帶的，沒有一個代理跟著一起下住的\\n別在拿網圖當自己的照片\\n以上純屬事實\\n我只能說我活該，慢慢還錢，生活不好過都是自己的問題，多半是我的問題，代理問題也很大！', 'tags': [], 'img_count': 0, 'img_infos': [], 'img_urls': [], 'img_ids': [], 'like_count': '317', 'reply_count': '158', 'forward_count': '5', 'share_count': '97', 'url': 'https://www.threads.net/@1990abc0101/post/DBtIPHhydBl', 'category': 'gamble', 'keyword': '娛樂城', 'label': 0}\n",
      "⚠️ ccling.88 擷取失敗\n",
      "{'username': 'ccling.88', 'user_verified': False, 'published_on': '2025年2月27日 星期四 下午8:27', 'text': '不用儲值 註冊🈶2000\\n2000輸完也不用付\\n贏多少你拿走 不限金額\\n娛樂城穩定出金中✌🏻', 'tags': [], 'img_count': 0, 'img_infos': [], 'img_urls': [], 'img_ids': [], 'like_count': '73', 'reply_count': '36', 'forward_count': 0, 'share_count': '31', 'url': 'https://www.threads.net/@ccling.88/post/DGk4SrbyhkA', 'category': 'gamble', 'keyword': '娛樂城', 'label': 1}\n",
      "⚠️ dadiwu_ 擷取失敗\n",
      "{'username': 'dadiwu_', 'user_verified': True, 'published_on': '2025年2月27日 星期四 下午7:49', 'text': '不好意思我們是全台最大娛樂城，贏了一定給你領、輸了也是你自己亂玩，還有那是一種引流方式，貼文的人也是引流帳號，真的不用去回覆我說什麼有我跟我媽的遺照這種話', 'tags': [], 'img_count': 0, 'img_infos': [], 'img_urls': [], 'img_ids': [], 'like_count': 0, 'reply_count': '1', 'forward_count': 0, 'share_count': 0, 'url': 'https://www.threads.net/@dadiwu_/post/DGkz6PoSBDn', 'category': 'gamble', 'keyword': '娛樂城', 'label': 0}\n",
      "⚠️ winte_r0929 擷取失敗\n",
      "{'username': 'winte_r0929', 'user_verified': False, 'published_on': '2025年2月28日 星期五 下午12:43', 'text': '連假在家沒事做 趕快來找我領6000🥰\\n聰明人已經找我領了 你還在猶豫嗎？\\n就說送你的了 還不信我也沒辦法了==\\n6000可以創造更多6000🧧\\n介紹朋友還有3000送給你🤑\\n娛樂城 代理 百家樂 戰神賽特 拜金女帝 雷神之槌', 'tags': ['娛樂城 代理 百家樂 戰神賽特 拜金女帝 雷神之槌'], 'img_count': 0, 'img_infos': [], 'img_urls': [], 'img_ids': [], 'like_count': '2', 'reply_count': '1', 'forward_count': 0, 'share_count': 0, 'url': 'https://www.threads.net/@winte_r0929/post/DGmn8OpybAt', 'category': 'gamble', 'keyword': '娛樂城', 'label': 1}\n",
      "⚠️ xt4photo 擷取失敗\n",
      "{'username': 'xt4photo', 'user_verified': False, 'published_on': '2024年11月30日 星期六 下午7:11', 'text': '世界之大無奇不有\\n竟然有人玩手機娛樂城，然後欠了900萬\\n房子被抵押拿去還債了。\\n現在整個家族的人沒地方住…\\n來好幾台搬家公司快速清空房屋😳\\n事主以為是線上的虛擬遊戲幣，結果卻是真金白銀的在玩遊戲🥲\\n十賭九輸，沒辦法控制自己的慾望\\n很快就會跌落深淵\\n謹惕。', 'tags': [], 'img_count': 0, 'img_infos': [], 'img_urls': [], 'img_ids': [], 'like_count': '8,023', 'reply_count': '382', 'forward_count': '166', 'share_count': '1,176', 'url': 'https://www.threads.net/@xt4photo/post/DC_kzIUTBtM', 'category': 'gamble', 'keyword': '娛樂城', 'label': 0}\n",
      "⚠️ xiao36988 擷取失敗\n",
      "{'username': 'xiao36988', 'user_verified': False, 'published_on': '2025年2月27日 星期四 下午3:11', 'text': '準備2000要送你\\n打娛樂城不需要資金\\n人來就好 贏了也出給你', 'tags': [], 'img_count': 0, 'img_infos': [], 'img_urls': [], 'img_ids': [], 'like_count': '73', 'reply_count': '14', 'forward_count': 0, 'share_count': '26', 'url': 'https://www.threads.net/@xiao36988/post/DGkUKKpBCQI', 'category': 'gamble', 'keyword': '娛樂城', 'label': 1}\n"
     ]
    },
    {
     "ename": "",
     "evalue": "",
     "output_type": "error",
     "traceback": [
      "\u001b[1;31m在目前儲存格或上一個儲存格中執行程式碼時，Kernel 已損毀。\n",
      "\u001b[1;31m請檢閱儲存格中的程式碼，找出失敗的可能原因。\n",
      "\u001b[1;31m如需詳細資訊，請按一下<a href='https://aka.ms/vscodeJupyterKernelCrash'>這裡</a>。\n",
      "\u001b[1;31m如需詳細資料，請檢視 Jupyter <a href='command:jupyter.viewOutput'>記錄</a>。"
     ]
    }
   ],
   "source": [
    "for data in dataset:\n",
    "    post = search_name(data[\"username\"], data)\n",
    "    content.append(post)\n",
    "    print(post)"
   ]
  },
  {
   "cell_type": "code",
   "execution_count": null,
   "id": "10bbb880",
   "metadata": {},
   "outputs": [
    {
     "ename": "FileNotFoundError",
     "evalue": "[Errno 2] No such file or directory: 'output_json/data_gamble.json'",
     "output_type": "error",
     "traceback": [
      "\u001b[1;31m---------------------------------------------------------------------------\u001b[0m",
      "\u001b[1;31mFileNotFoundError\u001b[0m                         Traceback (most recent call last)",
      "Cell \u001b[1;32mIn[13], line 3\u001b[0m\n\u001b[0;32m      1\u001b[0m output_path \u001b[38;5;241m=\u001b[39m \u001b[38;5;124mf\u001b[39m\u001b[38;5;124m\"\u001b[39m\u001b[38;5;124moutput_json/\u001b[39m\u001b[38;5;132;01m{\u001b[39;00mfile_name\u001b[38;5;132;01m}\u001b[39;00m\u001b[38;5;124m.json\u001b[39m\u001b[38;5;124m\"\u001b[39m\n\u001b[1;32m----> 3\u001b[0m \u001b[38;5;28;01mwith\u001b[39;00m \u001b[38;5;28mopen\u001b[39m(output_path, \u001b[38;5;124m\"\u001b[39m\u001b[38;5;124mw\u001b[39m\u001b[38;5;124m\"\u001b[39m, encoding\u001b[38;5;241m=\u001b[39m\u001b[38;5;124m\"\u001b[39m\u001b[38;5;124mutf-8\u001b[39m\u001b[38;5;124m\"\u001b[39m) \u001b[38;5;28;01mas\u001b[39;00m json_file:\n\u001b[0;32m      4\u001b[0m     json\u001b[38;5;241m.\u001b[39mdump(content, json_file, ensure_ascii\u001b[38;5;241m=\u001b[39m\u001b[38;5;28;01mFalse\u001b[39;00m, indent\u001b[38;5;241m=\u001b[39m\u001b[38;5;241m4\u001b[39m)\n\u001b[0;32m      6\u001b[0m \u001b[38;5;28mprint\u001b[39m(\u001b[38;5;124mf\u001b[39m\u001b[38;5;124m\"\u001b[39m\u001b[38;5;124m✅ JSON 檔案已儲存至: \u001b[39m\u001b[38;5;132;01m{\u001b[39;00moutput_path\u001b[38;5;132;01m}\u001b[39;00m\u001b[38;5;124m\"\u001b[39m)\n",
      "File \u001b[1;32mc:\\Users\\clair\\anaconda3\\Lib\\site-packages\\IPython\\core\\interactiveshell.py:324\u001b[0m, in \u001b[0;36m_modified_open\u001b[1;34m(file, *args, **kwargs)\u001b[0m\n\u001b[0;32m    317\u001b[0m \u001b[38;5;28;01mif\u001b[39;00m file \u001b[38;5;129;01min\u001b[39;00m {\u001b[38;5;241m0\u001b[39m, \u001b[38;5;241m1\u001b[39m, \u001b[38;5;241m2\u001b[39m}:\n\u001b[0;32m    318\u001b[0m     \u001b[38;5;28;01mraise\u001b[39;00m \u001b[38;5;167;01mValueError\u001b[39;00m(\n\u001b[0;32m    319\u001b[0m         \u001b[38;5;124mf\u001b[39m\u001b[38;5;124m\"\u001b[39m\u001b[38;5;124mIPython won\u001b[39m\u001b[38;5;124m'\u001b[39m\u001b[38;5;124mt let you open fd=\u001b[39m\u001b[38;5;132;01m{\u001b[39;00mfile\u001b[38;5;132;01m}\u001b[39;00m\u001b[38;5;124m by default \u001b[39m\u001b[38;5;124m\"\u001b[39m\n\u001b[0;32m    320\u001b[0m         \u001b[38;5;124m\"\u001b[39m\u001b[38;5;124mas it is likely to crash IPython. If you know what you are doing, \u001b[39m\u001b[38;5;124m\"\u001b[39m\n\u001b[0;32m    321\u001b[0m         \u001b[38;5;124m\"\u001b[39m\u001b[38;5;124myou can use builtins\u001b[39m\u001b[38;5;124m'\u001b[39m\u001b[38;5;124m open.\u001b[39m\u001b[38;5;124m\"\u001b[39m\n\u001b[0;32m    322\u001b[0m     )\n\u001b[1;32m--> 324\u001b[0m \u001b[38;5;28;01mreturn\u001b[39;00m io_open(file, \u001b[38;5;241m*\u001b[39margs, \u001b[38;5;241m*\u001b[39m\u001b[38;5;241m*\u001b[39mkwargs)\n",
      "\u001b[1;31mFileNotFoundError\u001b[0m: [Errno 2] No such file or directory: 'output_json/data_gamble.json'"
     ]
    }
   ],
   "source": [
    "output_path = f\"output_json/{file_name}.json\"\n",
    "\n",
    "with open(output_path, \"w\", encoding=\"utf-8\") as json_file:\n",
    "    json.dump(content, json_file, ensure_ascii=False, indent=4)\n",
    "\n",
    "print(f\"✅ JSON 檔案已儲存至: {output_path}\")"
   ]
  },
  {
   "cell_type": "code",
   "execution_count": null,
   "id": "4be3a915",
   "metadata": {},
   "outputs": [],
   "source": [
    "# driver.quit()"
   ]
  },
  {
   "cell_type": "code",
   "execution_count": null,
   "id": "2881062a",
   "metadata": {},
   "outputs": [],
   "source": [
    "# driver.execute_script(\"window.scrollBy(0, 2000);\")"
   ]
  },
  {
   "cell_type": "code",
   "execution_count": null,
   "id": "df53918b",
   "metadata": {},
   "outputs": [],
   "source": [
    "# xpath = '//*[@id=\"barcelona-page-layout\"]/div/div/div[2]/div[1]/div[1]/div/div[2]/div/div/div[1]/div'\n",
    "# element = driver.find_element(By.XPATH, xpath)\n",
    "# link_element = element.find_elements(By.TAG_NAME, \"a\")\n",
    "\n",
    "# for link in link_element:\n",
    "#     url = link.get_attribute(\"href\")\n",
    "#     print(url)"
   ]
  }
 ],
 "metadata": {
  "kernelspec": {
   "display_name": "base",
   "language": "python",
   "name": "python3"
  },
  "language_info": {
   "codemirror_mode": {
    "name": "ipython",
    "version": 3
   },
   "file_extension": ".py",
   "mimetype": "text/x-python",
   "name": "python",
   "nbconvert_exporter": "python",
   "pygments_lexer": "ipython3",
   "version": "3.11.5"
  }
 },
 "nbformat": 4,
 "nbformat_minor": 5
}
